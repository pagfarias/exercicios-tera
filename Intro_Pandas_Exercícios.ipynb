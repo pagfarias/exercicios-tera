{
  "nbformat": 4,
  "nbformat_minor": 0,
  "metadata": {
    "colab": {
      "provenance": [],
      "include_colab_link": true
    },
    "kernelspec": {
      "name": "python3",
      "display_name": "Python 3"
    },
    "language_info": {
      "name": "python"
    }
  },
  "cells": [
    {
      "cell_type": "markdown",
      "metadata": {
        "id": "view-in-github",
        "colab_type": "text"
      },
      "source": [
        "<a href=\"https://colab.research.google.com/github/pagfarias/exercicios-tera/blob/main/Intro_Pandas_Exerc%C3%ADcios.ipynb\" target=\"_parent\"><img src=\"https://colab.research.google.com/assets/colab-badge.svg\" alt=\"Open In Colab\"/></a>"
      ]
    },
    {
      "cell_type": "markdown",
      "metadata": {
        "id": "kNUbWCavegOg"
      },
      "source": [
        "# Exercícios Pandas"
      ]
    },
    {
      "cell_type": "markdown",
      "metadata": {
        "id": "SDFnXYhqf5Fd"
      },
      "source": [
        "### Crie manualmente um DataFrame no pandas com os valores abaixo e salve na variável `df`\n",
        "- **fruta**: maçã, abacate, laranja, banana, mamão\n",
        "- **peso**: 30, 300, 50, 35, 220\n",
        "- **caloria**: 52, 160, 47, 89, 50\n",
        "\n",
        "Dica: Não se esqueça de importar a biblicoteca primeiro"
      ]
    },
    {
      "cell_type": "code",
      "metadata": {
        "id": "bWynZUYvecKF"
      },
      "source": [],
      "execution_count": null,
      "outputs": []
    },
    {
      "cell_type": "code",
      "metadata": {
        "id": "dA3gYY3jhO1J"
      },
      "source": [
        "#@title  { display-mode: \"form\" }\n",
        "import pandas as pd\n",
        "\n",
        "frutas = {'fruta': ['maçã', 'abacate', 'laranja', 'banana', 'mamão'],\n",
        "          'peso': [30, 300, 50, 35, 220],\n",
        "          'caloria': [52, 160, 47, 89, 50]   \n",
        "}\n",
        "df = pd.DataFrame(frutas)\n",
        "df"
      ],
      "execution_count": null,
      "outputs": []
    },
    {
      "cell_type": "markdown",
      "metadata": {
        "id": "Q7QQvNr0iN0t"
      },
      "source": [
        "### Descubra através de uma função do pandas as seguintes informações:\n",
        "- média de peso das frutas\n",
        "- soma de calorias das frutas "
      ]
    },
    {
      "cell_type": "code",
      "metadata": {
        "id": "FXNR-Jt6jFRK"
      },
      "source": [],
      "execution_count": null,
      "outputs": []
    },
    {
      "cell_type": "code",
      "metadata": {
        "id": "asivXoadh2i9"
      },
      "source": [
        "#@title  { display-mode: \"form\" }\n",
        "print('Média de peso')\n",
        "print(df['peso'].mean())\n",
        "\n",
        "print('Soma de calorias')\n",
        "print(df['caloria'].sum())\n"
      ],
      "execution_count": null,
      "outputs": []
    },
    {
      "cell_type": "markdown",
      "metadata": {
        "id": "MekokS1fj8m-"
      },
      "source": [
        "### Quais as frutas que pesam mais de 100g?"
      ]
    },
    {
      "cell_type": "code",
      "metadata": {
        "id": "kE6XyzeAigBj"
      },
      "source": [],
      "execution_count": null,
      "outputs": []
    },
    {
      "cell_type": "code",
      "metadata": {
        "id": "3KWQkBzpkHc7"
      },
      "source": [
        "#@title  { display-mode: \"form\" }\n",
        "df[df['peso'] > 100]"
      ],
      "execution_count": null,
      "outputs": []
    },
    {
      "cell_type": "markdown",
      "metadata": {
        "id": "jeSHCVP6mHWP"
      },
      "source": [
        "### Faça o download do `.csv` abaixo e faça a leitura dele no `pandas`\n",
        "\n",
        "[Arquivo para download](https://drive.google.com/file/d/18f43p3FPmzRqN-I5S03U5pn6wdburrZQ/view?usp=sharing)\n",
        "\n",
        "Dica: Depois de fazer o download você tera que fazer o upload do arquivo para sua sessão do Colab."
      ]
    },
    {
      "cell_type": "code",
      "metadata": {
        "id": "vJpMMQbekK4r"
      },
      "source": [],
      "execution_count": null,
      "outputs": []
    },
    {
      "cell_type": "code",
      "metadata": {
        "id": "kGhuTHi5kV2l"
      },
      "source": [
        "#@title  { display-mode: \"form\" }\n",
        "df = pd.read_csv('gorjeta.csv')\n",
        "df"
      ],
      "execution_count": null,
      "outputs": []
    },
    {
      "cell_type": "markdown",
      "metadata": {
        "id": "4K_XNSDqoa4v"
      },
      "source": [
        "### Utilize a função `.head()` para verificar as 5 primeiras linhas do DataFrame"
      ]
    },
    {
      "cell_type": "code",
      "metadata": {
        "id": "-HR54O9Wksse"
      },
      "source": [],
      "execution_count": null,
      "outputs": []
    },
    {
      "cell_type": "code",
      "metadata": {
        "id": "fCQ-yzuQol0m"
      },
      "source": [
        "#@title  { display-mode: \"form\" }\n",
        "\n",
        "df.head()"
      ],
      "execution_count": null,
      "outputs": []
    },
    {
      "cell_type": "markdown",
      "metadata": {
        "id": "P6WIdYedqcJK"
      },
      "source": [
        "### Utilize a função `.describe()` para ter uma descrição estatística dos seu DataFrame"
      ]
    },
    {
      "cell_type": "code",
      "metadata": {
        "id": "ZFqzEpNSqcgT"
      },
      "source": [],
      "execution_count": null,
      "outputs": []
    },
    {
      "cell_type": "code",
      "metadata": {
        "id": "uLSdlntQqc1H"
      },
      "source": [
        "#@title  { display-mode: \"form\" }\n",
        "df.describe()"
      ],
      "execution_count": null,
      "outputs": []
    },
    {
      "cell_type": "markdown",
      "metadata": {
        "id": "CQxGBV2Xqx6y"
      },
      "source": [
        "### Desenhe um histograma da variável **gorjeta**"
      ]
    },
    {
      "cell_type": "code",
      "metadata": {
        "id": "DL88BHowqyiZ"
      },
      "source": [],
      "execution_count": null,
      "outputs": []
    },
    {
      "cell_type": "code",
      "metadata": {
        "id": "cNOyfc55qy8K"
      },
      "source": [
        "#@title  { display-mode: \"form\" }\n",
        "df['gorjeta'].hist()"
      ],
      "execution_count": null,
      "outputs": []
    },
    {
      "cell_type": "markdown",
      "metadata": {
        "id": "nWXE7T1ZpeXE"
      },
      "source": [
        "### (Bônus) Verifique qual a gorjeta máxima que um fumante deu, e a que um Não-Fumante deu.\n",
        "Dicas: \n",
        "- A função que retorna o maior valor de uma série é `.max()`\n",
        "- Você pode filtrar os fumantes verificando a igualdade `==` com a palavra `'Yes'`"
      ]
    },
    {
      "cell_type": "code",
      "metadata": {
        "id": "cmsTEjFZpe0R"
      },
      "source": [],
      "execution_count": null,
      "outputs": []
    },
    {
      "cell_type": "code",
      "metadata": {
        "id": "jVMn-7jhonKt"
      },
      "source": [
        "#@title  { display-mode: \"form\" }\n",
        "print(\"Maior gorjeta Fumante\")\n",
        "print(df[df['fumante'] == 'Yes']['gorjeta'].max())\n",
        "print(\"Maior gorjeta Não-Fumante\")\n",
        "print(df[df['fumante'] == 'No']['gorjeta'].max())\n"
      ],
      "execution_count": null,
      "outputs": []
    },
    {
      "cell_type": "code",
      "metadata": {
        "id": "qC0z8u77o1as"
      },
      "source": [],
      "execution_count": null,
      "outputs": []
    }
  ]
}