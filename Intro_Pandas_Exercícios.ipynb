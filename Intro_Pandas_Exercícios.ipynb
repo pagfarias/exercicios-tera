{
  "cells": [
    {
      "cell_type": "markdown",
      "metadata": {
        "colab_type": "text",
        "id": "view-in-github"
      },
      "source": [
        "<a href=\"https://colab.research.google.com/github/pagfarias/exercicios-tera/blob/main/Intro_Pandas_Exerc%C3%ADcios.ipynb\" target=\"_parent\"><img src=\"https://colab.research.google.com/assets/colab-badge.svg\" alt=\"Open In Colab\"/></a>"
      ]
    },
    {
      "cell_type": "markdown",
      "metadata": {
        "id": "kNUbWCavegOg"
      },
      "source": [
        "# Exercícios Pandas"
      ]
    },
    {
      "cell_type": "markdown",
      "metadata": {
        "id": "SDFnXYhqf5Fd"
      },
      "source": [
        "### Crie manualmente um DataFrame no pandas com os valores abaixo e salve na variável `df`\n",
        "- **fruta**: maçã, abacate, laranja, banana, mamão\n",
        "- **peso**: 30, 300, 50, 35, 220\n",
        "- **caloria**: 52, 160, 47, 89, 50\n",
        "\n",
        "Dica: Não se esqueça de importar a biblicoteca primeiro"
      ]
    },
    {
      "cell_type": "code",
      "execution_count": 2,
      "metadata": {
        "id": "bWynZUYvecKF"
      },
      "outputs": [
        {
          "data": {
            "text/html": [
              "<div>\n",
              "<style scoped>\n",
              "    .dataframe tbody tr th:only-of-type {\n",
              "        vertical-align: middle;\n",
              "    }\n",
              "\n",
              "    .dataframe tbody tr th {\n",
              "        vertical-align: top;\n",
              "    }\n",
              "\n",
              "    .dataframe thead th {\n",
              "        text-align: right;\n",
              "    }\n",
              "</style>\n",
              "<table border=\"1\" class=\"dataframe\">\n",
              "  <thead>\n",
              "    <tr style=\"text-align: right;\">\n",
              "      <th></th>\n",
              "      <th>fruta</th>\n",
              "      <th>peso</th>\n",
              "      <th>caloria</th>\n",
              "    </tr>\n",
              "  </thead>\n",
              "  <tbody>\n",
              "    <tr>\n",
              "      <th>0</th>\n",
              "      <td>maçã</td>\n",
              "      <td>30</td>\n",
              "      <td>52</td>\n",
              "    </tr>\n",
              "    <tr>\n",
              "      <th>1</th>\n",
              "      <td>abacate</td>\n",
              "      <td>300</td>\n",
              "      <td>160</td>\n",
              "    </tr>\n",
              "    <tr>\n",
              "      <th>2</th>\n",
              "      <td>laranja</td>\n",
              "      <td>50</td>\n",
              "      <td>47</td>\n",
              "    </tr>\n",
              "    <tr>\n",
              "      <th>3</th>\n",
              "      <td>banana</td>\n",
              "      <td>35</td>\n",
              "      <td>89</td>\n",
              "    </tr>\n",
              "    <tr>\n",
              "      <th>4</th>\n",
              "      <td>mamão</td>\n",
              "      <td>220</td>\n",
              "      <td>50</td>\n",
              "    </tr>\n",
              "  </tbody>\n",
              "</table>\n",
              "</div>"
            ],
            "text/plain": [
              "     fruta  peso  caloria\n",
              "0     maçã    30       52\n",
              "1  abacate   300      160\n",
              "2  laranja    50       47\n",
              "3   banana    35       89\n",
              "4    mamão   220       50"
            ]
          },
          "execution_count": 2,
          "metadata": {},
          "output_type": "execute_result"
        }
      ],
      "source": [
        "import pandas as pd\n",
        "\n",
        "frutas = {\"fruta\" : [\"maçã\",\"abacate\",\"laranja\", \"banana\",\"mamão\"],\n",
        "          \"peso\" : [30,300,50,35,220],\n",
        "          \"caloria\" : [52,160,47,89,50]\n",
        "}\n",
        "\n",
        "df = pd.DataFrame(frutas)\n",
        "df"
      ]
    },
    {
      "cell_type": "code",
      "execution_count": null,
      "metadata": {
        "id": "dA3gYY3jhO1J"
      },
      "outputs": [],
      "source": [
        "#@title  { display-mode: \"form\" }\n",
        "import pandas as pd\n",
        "\n",
        "frutas = {'fruta': ['maçã', 'abacate', 'laranja', 'banana', 'mamão'],\n",
        "          'peso': [30, 300, 50, 35, 220],\n",
        "          'caloria': [52, 160, 47, 89, 50]   \n",
        "}\n",
        "df = pd.DataFrame(frutas)\n",
        "df"
      ]
    },
    {
      "cell_type": "markdown",
      "metadata": {
        "id": "Q7QQvNr0iN0t"
      },
      "source": [
        "### Descubra através de uma função do pandas as seguintes informações:\n",
        "- média de peso das frutas\n",
        "- soma de calorias das frutas "
      ]
    },
    {
      "cell_type": "code",
      "execution_count": 7,
      "metadata": {
        "id": "FXNR-Jt6jFRK"
      },
      "outputs": [
        {
          "name": "stdout",
          "output_type": "stream",
          "text": [
            "Média de Peso\n",
            "127.0\n",
            "Soma das Calorias\n",
            "398\n"
          ]
        }
      ],
      "source": [
        "print(\"Média de Peso\")\n",
        "print(df[\"peso\"].mean())\n",
        "\n",
        "print(\"Soma das Calorias\")\n",
        "print(df[\"caloria\"].sum())"
      ]
    },
    {
      "cell_type": "code",
      "execution_count": null,
      "metadata": {
        "id": "asivXoadh2i9"
      },
      "outputs": [],
      "source": [
        "#@title  { display-mode: \"form\" }\n",
        "print('Média de peso')\n",
        "print(df['peso'].mean())\n",
        "\n",
        "print('Soma de calorias')\n",
        "print(df['caloria'].sum())\n"
      ]
    },
    {
      "cell_type": "markdown",
      "metadata": {
        "id": "MekokS1fj8m-"
      },
      "source": [
        "### Quais as frutas que pesam mais de 100g?"
      ]
    },
    {
      "cell_type": "code",
      "execution_count": null,
      "metadata": {
        "id": "kE6XyzeAigBj"
      },
      "outputs": [],
      "source": []
    },
    {
      "cell_type": "code",
      "execution_count": null,
      "metadata": {
        "id": "3KWQkBzpkHc7"
      },
      "outputs": [],
      "source": [
        "#@title  { display-mode: \"form\" }\n",
        "df[df['peso'] > 100]"
      ]
    },
    {
      "cell_type": "markdown",
      "metadata": {
        "id": "jeSHCVP6mHWP"
      },
      "source": [
        "### Faça o download do `.csv` abaixo e faça a leitura dele no `pandas`\n",
        "\n",
        "[Arquivo para download](https://drive.google.com/file/d/18f43p3FPmzRqN-I5S03U5pn6wdburrZQ/view?usp=sharing)\n",
        "\n",
        "Dica: Depois de fazer o download você tera que fazer o upload do arquivo para sua sessão do Colab."
      ]
    },
    {
      "cell_type": "code",
      "execution_count": null,
      "metadata": {
        "id": "vJpMMQbekK4r"
      },
      "outputs": [],
      "source": []
    },
    {
      "cell_type": "code",
      "execution_count": null,
      "metadata": {
        "id": "kGhuTHi5kV2l"
      },
      "outputs": [],
      "source": [
        "#@title  { display-mode: \"form\" }\n",
        "df = pd.read_csv('gorjeta.csv')\n",
        "df"
      ]
    },
    {
      "cell_type": "markdown",
      "metadata": {
        "id": "4K_XNSDqoa4v"
      },
      "source": [
        "### Utilize a função `.head()` para verificar as 5 primeiras linhas do DataFrame"
      ]
    },
    {
      "cell_type": "code",
      "execution_count": null,
      "metadata": {
        "id": "-HR54O9Wksse"
      },
      "outputs": [],
      "source": []
    },
    {
      "cell_type": "code",
      "execution_count": null,
      "metadata": {
        "id": "fCQ-yzuQol0m"
      },
      "outputs": [],
      "source": [
        "#@title  { display-mode: \"form\" }\n",
        "\n",
        "df.head()"
      ]
    },
    {
      "cell_type": "markdown",
      "metadata": {
        "id": "P6WIdYedqcJK"
      },
      "source": [
        "### Utilize a função `.describe()` para ter uma descrição estatística dos seu DataFrame"
      ]
    },
    {
      "cell_type": "code",
      "execution_count": null,
      "metadata": {
        "id": "ZFqzEpNSqcgT"
      },
      "outputs": [],
      "source": []
    },
    {
      "cell_type": "code",
      "execution_count": null,
      "metadata": {
        "id": "uLSdlntQqc1H"
      },
      "outputs": [],
      "source": [
        "#@title  { display-mode: \"form\" }\n",
        "df.describe()"
      ]
    },
    {
      "cell_type": "markdown",
      "metadata": {
        "id": "CQxGBV2Xqx6y"
      },
      "source": [
        "### Desenhe um histograma da variável **gorjeta**"
      ]
    },
    {
      "cell_type": "code",
      "execution_count": null,
      "metadata": {
        "id": "DL88BHowqyiZ"
      },
      "outputs": [],
      "source": []
    },
    {
      "cell_type": "code",
      "execution_count": null,
      "metadata": {
        "id": "cNOyfc55qy8K"
      },
      "outputs": [],
      "source": [
        "#@title  { display-mode: \"form\" }\n",
        "df['gorjeta'].hist()"
      ]
    },
    {
      "cell_type": "markdown",
      "metadata": {
        "id": "nWXE7T1ZpeXE"
      },
      "source": [
        "### (Bônus) Verifique qual a gorjeta máxima que um fumante deu, e a que um Não-Fumante deu.\n",
        "Dicas: \n",
        "- A função que retorna o maior valor de uma série é `.max()`\n",
        "- Você pode filtrar os fumantes verificando a igualdade `==` com a palavra `'Yes'`"
      ]
    },
    {
      "cell_type": "code",
      "execution_count": null,
      "metadata": {
        "id": "cmsTEjFZpe0R"
      },
      "outputs": [],
      "source": []
    },
    {
      "cell_type": "code",
      "execution_count": null,
      "metadata": {
        "id": "jVMn-7jhonKt"
      },
      "outputs": [],
      "source": [
        "#@title  { display-mode: \"form\" }\n",
        "print(\"Maior gorjeta Fumante\")\n",
        "print(df[df['fumante'] == 'Yes']['gorjeta'].max())\n",
        "print(\"Maior gorjeta Não-Fumante\")\n",
        "print(df[df['fumante'] == 'No']['gorjeta'].max())\n"
      ]
    },
    {
      "cell_type": "code",
      "execution_count": null,
      "metadata": {
        "id": "qC0z8u77o1as"
      },
      "outputs": [],
      "source": []
    }
  ],
  "metadata": {
    "colab": {
      "include_colab_link": true,
      "provenance": []
    },
    "kernelspec": {
      "display_name": "Python 3",
      "language": "python",
      "name": "python3"
    },
    "language_info": {
      "codemirror_mode": {
        "name": "ipython",
        "version": 3
      },
      "file_extension": ".py",
      "mimetype": "text/x-python",
      "name": "python",
      "nbconvert_exporter": "python",
      "pygments_lexer": "ipython3",
      "version": "3.11.1"
    },
    "vscode": {
      "interpreter": {
        "hash": "f22b72fa366aa14d6aa369ffe441ad4c2c14e4ba4e697db3750692880921a3ac"
      }
    }
  },
  "nbformat": 4,
  "nbformat_minor": 0
}
