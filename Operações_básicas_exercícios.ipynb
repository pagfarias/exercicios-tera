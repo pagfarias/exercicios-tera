{
  "nbformat": 4,
  "nbformat_minor": 0,
  "metadata": {
    "colab": {
      "provenance": []
    },
    "kernelspec": {
      "name": "python3",
      "display_name": "Python 3"
    },
    "language_info": {
      "name": "python"
    }
  },
  "cells": [
    {
      "cell_type": "markdown",
      "metadata": {
        "id": "CmIi4oett0d-"
      },
      "source": [
        "# Vamos praticar um pouco?"
      ]
    },
    {
      "cell_type": "markdown",
      "metadata": {
        "id": "-Fn67UfEt5Zk"
      },
      "source": [
        "### Faça algumas operações matemáricas básicas com os operadores `+ - / *`\n"
      ]
    },
    {
      "cell_type": "code",
      "metadata": {
        "id": "0_Rj73A5sbE2",
        "colab": {
          "base_uri": "https://localhost:8080/"
        },
        "outputId": "87e22985-43d9-4b37-9c34-853fcd772057"
      },
      "source": [
        "num1 = 4\n",
        "num2 = 2\n",
        "soma = num1 + num2\n",
        "print(f\"A soma de {num1} com {num2} é: {soma}.\")\n",
        "\n",
        "sub = num1 - num2\n",
        "print(f\"A subtração de {num1} menos {num2} é: {sub}.\")\n",
        "\n",
        "mult = num1 * num2\n",
        "print(f\"A multiplicação de {num1} por {num2} é: {mult}.\")\n",
        "\n",
        "div = num1 / num2\n",
        "print(f\"A divisão de {num1} por {num2} é: {div}.\")"
      ],
      "execution_count": 6,
      "outputs": [
        {
          "output_type": "stream",
          "name": "stdout",
          "text": [
            "A soma de 4 com 2 é: 6.\n",
            "A subtração de 4 menos 2 é: 2.\n",
            "A multiplicação de 4 por 2 é: 8.\n",
            "A divisão de 4 por 2 é: 2.0.\n"
          ]
        }
      ]
    },
    {
      "cell_type": "code",
      "metadata": {
        "id": "nk6v56wryQBQ",
        "colab": {
          "base_uri": "https://localhost:8080/"
        },
        "outputId": "a7bcdd5b-35d9-4792-ae1f-1e1b71e367d7"
      },
      "source": [
        "#@title  { display-mode: \"form\" }\n",
        "10+32\n",
        "50-8\n",
        "8/2\n",
        "5*5"
      ],
      "execution_count": 7,
      "outputs": [
        {
          "output_type": "execute_result",
          "data": {
            "text/plain": [
              "25"
            ]
          },
          "metadata": {},
          "execution_count": 7
        }
      ]
    },
    {
      "cell_type": "markdown",
      "metadata": {
        "id": "RI8pLcEWyhJv"
      },
      "source": [
        "### Eleve o número 8 ao quadrado com o operador `**`\n"
      ]
    },
    {
      "cell_type": "code",
      "metadata": {
        "id": "i5wnMB6fyw1V",
        "colab": {
          "base_uri": "https://localhost:8080/"
        },
        "outputId": "d6810dea-5731-46b4-c15b-76cc50cd9178"
      },
      "source": [
        "8 ** 2"
      ],
      "execution_count": 8,
      "outputs": [
        {
          "output_type": "execute_result",
          "data": {
            "text/plain": [
              "64"
            ]
          },
          "metadata": {},
          "execution_count": 8
        }
      ]
    },
    {
      "cell_type": "code",
      "metadata": {
        "id": "xmSc8wAZyx_E"
      },
      "source": [
        "#@title  { display-mode: \"form\" }\n",
        "8**2"
      ],
      "execution_count": null,
      "outputs": []
    },
    {
      "cell_type": "markdown",
      "metadata": {
        "id": "fmF-XasWzXXe"
      },
      "source": [
        "### Tire a raíz quadrada do número 64 com o operador `**`"
      ]
    },
    {
      "cell_type": "code",
      "metadata": {
        "id": "-9wc7Hn4zpVe"
      },
      "source": [],
      "execution_count": null,
      "outputs": []
    },
    {
      "cell_type": "code",
      "metadata": {
        "id": "peT5kMUjzqFB"
      },
      "source": [
        "#@title  { display-mode: \"form\" }\n",
        "64**0.5"
      ],
      "execution_count": null,
      "outputs": []
    },
    {
      "cell_type": "markdown",
      "metadata": {
        "id": "4b0GONcr11rk"
      },
      "source": [
        "### Mostre somente a parte inteira da divisão: 20 dividido por 3"
      ]
    },
    {
      "cell_type": "code",
      "metadata": {
        "id": "t1tb3NBf12Mq"
      },
      "source": [],
      "execution_count": null,
      "outputs": []
    },
    {
      "cell_type": "code",
      "metadata": {
        "id": "tM_j4fHy12GE"
      },
      "source": [
        "#@title  { display-mode: \"form\" }\n",
        "20//3"
      ],
      "execution_count": null,
      "outputs": []
    },
    {
      "cell_type": "markdown",
      "metadata": {
        "id": "tvxuQcs02dmM"
      },
      "source": [
        "Mostre o resto da divisão: 20 dividido por 3"
      ]
    },
    {
      "cell_type": "code",
      "metadata": {
        "id": "HuOQVHAE2eGw"
      },
      "source": [],
      "execution_count": null,
      "outputs": []
    },
    {
      "cell_type": "code",
      "metadata": {
        "id": "L-aBb8162ejs"
      },
      "source": [
        "#@title  { display-mode: \"form\" }\n",
        "20%3"
      ],
      "execution_count": null,
      "outputs": []
    },
    {
      "cell_type": "markdown",
      "metadata": {
        "id": "rkflBYYxz4QK"
      },
      "source": [
        "### Guarde na variável `nome` o seu nome e na variável `idade` a sua idade"
      ]
    },
    {
      "cell_type": "code",
      "metadata": {
        "id": "6BJmkQIv0Ska"
      },
      "source": [],
      "execution_count": null,
      "outputs": []
    },
    {
      "cell_type": "code",
      "metadata": {
        "id": "i5q24RZx0TzV"
      },
      "source": [
        "#@title  { display-mode: \"form\" }\n",
        "nome = \"Rogério\"\n",
        "idade = 35"
      ],
      "execution_count": null,
      "outputs": []
    },
    {
      "cell_type": "markdown",
      "metadata": {
        "id": "0PcF8qAU0e65"
      },
      "source": [
        "### Verifique e imprima qual o tipo das variáveis `nome` e `idade` com a função `type()`"
      ]
    },
    {
      "cell_type": "code",
      "metadata": {
        "id": "_CtnOC7E0l95"
      },
      "source": [],
      "execution_count": null,
      "outputs": []
    },
    {
      "cell_type": "code",
      "metadata": {
        "id": "aYlRFvML0mn7"
      },
      "source": [
        "#@title  { display-mode: \"form\" }\n",
        "print(type(nome))\n",
        "print(type(idade))"
      ],
      "execution_count": null,
      "outputs": []
    },
    {
      "cell_type": "markdown",
      "metadata": {
        "id": "67IMNSJN04VO"
      },
      "source": [
        "### Lembra do teorema de Pitágoras?\n",
        "<img src=\"https://upload.wikimedia.org/wikipedia/commons/thumb/6/6f/Rtriangle.svg/1024px-Rtriangle.svg.png\" width=\"350\">\n",
        "\n",
        "Basicamente, lembre que podemos descobrir o valor de um dos lados de um triângulo retângo com a seguinte fórmula `c²=a²+b²`\n",
        "\n",
        "Se o lado **a** tem **3cm** e o lado **b** tem **4cm**, quantos cm tem o lado **c**?"
      ]
    },
    {
      "cell_type": "code",
      "metadata": {
        "id": "V2Yj8PuD3TAI"
      },
      "source": [],
      "execution_count": null,
      "outputs": []
    },
    {
      "cell_type": "code",
      "metadata": {
        "id": "kAlrJ36M3UOs"
      },
      "source": [
        "#@title  { display-mode: \"form\" }\n",
        "a = 3\n",
        "b = 4\n",
        "c = (a**2+b**2)**0.5\n",
        "\n",
        "print(c)"
      ],
      "execution_count": null,
      "outputs": []
    },
    {
      "cell_type": "markdown",
      "metadata": {
        "id": "JUsakOdv0sPL"
      },
      "source": [
        "### (Debugging) Encontre e corrija o erro do código abaixo"
      ]
    },
    {
      "cell_type": "code",
      "metadata": {
        "id": "x4kMoO-D00WC",
        "colab": {
          "base_uri": "https://localhost:8080/",
          "height": 244
        },
        "outputId": "ebcd9960-c78a-4690-c544-b1d0f4747a1e"
      },
      "source": [
        "a = 10\n",
        "b = 20\n",
        "c = A + b\n",
        "\n",
        "print(c)"
      ],
      "execution_count": null,
      "outputs": [
        {
          "output_type": "error",
          "ename": "NameError",
          "evalue": "ignored",
          "traceback": [
            "\u001b[0;31m---------------------------------------------------------------------------\u001b[0m",
            "\u001b[0;31mNameError\u001b[0m                                 Traceback (most recent call last)",
            "\u001b[0;32m<ipython-input-2-d3e2473ffaed>\u001b[0m in \u001b[0;36m<module>\u001b[0;34m()\u001b[0m\n\u001b[1;32m      1\u001b[0m \u001b[0ma\u001b[0m \u001b[0;34m=\u001b[0m \u001b[0;36m10\u001b[0m\u001b[0;34m\u001b[0m\u001b[0;34m\u001b[0m\u001b[0m\n\u001b[1;32m      2\u001b[0m \u001b[0mb\u001b[0m \u001b[0;34m=\u001b[0m \u001b[0;36m20\u001b[0m\u001b[0;34m\u001b[0m\u001b[0;34m\u001b[0m\u001b[0m\n\u001b[0;32m----> 3\u001b[0;31m \u001b[0mc\u001b[0m \u001b[0;34m=\u001b[0m \u001b[0mA\u001b[0m \u001b[0;34m+\u001b[0m \u001b[0mb\u001b[0m\u001b[0;34m\u001b[0m\u001b[0;34m\u001b[0m\u001b[0m\n\u001b[0m\u001b[1;32m      4\u001b[0m \u001b[0;34m\u001b[0m\u001b[0m\n\u001b[1;32m      5\u001b[0m \u001b[0mprint\u001b[0m\u001b[0;34m(\u001b[0m\u001b[0mc\u001b[0m\u001b[0;34m)\u001b[0m\u001b[0;34m\u001b[0m\u001b[0;34m\u001b[0m\u001b[0m\n",
            "\u001b[0;31mNameError\u001b[0m: name 'A' is not defined"
          ]
        }
      ]
    },
    {
      "cell_type": "code",
      "metadata": {
        "id": "5FyCddjT1FFx"
      },
      "source": [
        "#@title  { display-mode: \"form\" }\n",
        "a = 10\n",
        "b = 20\n",
        "c = a + b\n",
        "\n",
        "print(c)"
      ],
      "execution_count": null,
      "outputs": []
    },
    {
      "cell_type": "code",
      "metadata": {
        "id": "1l_ljjNE9rKB"
      },
      "source": [],
      "execution_count": null,
      "outputs": []
    }
  ]
}