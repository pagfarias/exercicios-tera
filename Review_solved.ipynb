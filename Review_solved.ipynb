{
 "cells": [
  {
   "cell_type": "markdown",
   "id": "60d91fb4",
   "metadata": {},
   "source": [
    "# Instalando bibliotecas e importando dados"
   ]
  },
  {
   "cell_type": "code",
   "execution_count": 1,
   "id": "2ff4d268",
   "metadata": {},
   "outputs": [],
   "source": [
    "#!pip install pandas"
   ]
  },
  {
   "cell_type": "code",
   "execution_count": 2,
   "id": "c7bf7b57",
   "metadata": {},
   "outputs": [],
   "source": [
    "import pandas as pd"
   ]
  },
  {
   "cell_type": "markdown",
   "id": "eb3c4679",
   "metadata": {},
   "source": [
    "### A partir de dicionários"
   ]
  },
  {
   "cell_type": "code",
   "execution_count": 3,
   "id": "8b515679",
   "metadata": {},
   "outputs": [],
   "source": [
    "grades_dic =   {'Math'    : [72, 69, 90, 47, 76, 71, 88, 40],\n",
    "                  'Reading' : [72, 90, 95, 57, 78, 83, 95, 43],\n",
    "                  'Writing' : [74, 88, 93, 44, 75, 78, 92, 39],\n",
    "                  'Gender'  : ['FM', 'FM', 'FM', 'ML', 'ML', 'FM', 'FM', 'ML']}"
   ]
  },
  {
   "cell_type": "code",
   "execution_count": 4,
   "id": "e49d85e7",
   "metadata": {},
   "outputs": [],
   "source": [
    "grades = pd.DataFrame(grades_dic)"
   ]
  },
  {
   "cell_type": "code",
   "execution_count": 5,
   "id": "1dba8ef8",
   "metadata": {},
   "outputs": [
    {
     "data": {
      "text/html": [
       "<div>\n",
       "<style scoped>\n",
       "    .dataframe tbody tr th:only-of-type {\n",
       "        vertical-align: middle;\n",
       "    }\n",
       "\n",
       "    .dataframe tbody tr th {\n",
       "        vertical-align: top;\n",
       "    }\n",
       "\n",
       "    .dataframe thead th {\n",
       "        text-align: right;\n",
       "    }\n",
       "</style>\n",
       "<table border=\"1\" class=\"dataframe\">\n",
       "  <thead>\n",
       "    <tr style=\"text-align: right;\">\n",
       "      <th></th>\n",
       "      <th>Math</th>\n",
       "      <th>Reading</th>\n",
       "      <th>Writing</th>\n",
       "      <th>Gender</th>\n",
       "    </tr>\n",
       "  </thead>\n",
       "  <tbody>\n",
       "    <tr>\n",
       "      <th>0</th>\n",
       "      <td>72</td>\n",
       "      <td>72</td>\n",
       "      <td>74</td>\n",
       "      <td>FM</td>\n",
       "    </tr>\n",
       "    <tr>\n",
       "      <th>1</th>\n",
       "      <td>69</td>\n",
       "      <td>90</td>\n",
       "      <td>88</td>\n",
       "      <td>FM</td>\n",
       "    </tr>\n",
       "    <tr>\n",
       "      <th>2</th>\n",
       "      <td>90</td>\n",
       "      <td>95</td>\n",
       "      <td>93</td>\n",
       "      <td>FM</td>\n",
       "    </tr>\n",
       "    <tr>\n",
       "      <th>3</th>\n",
       "      <td>47</td>\n",
       "      <td>57</td>\n",
       "      <td>44</td>\n",
       "      <td>ML</td>\n",
       "    </tr>\n",
       "    <tr>\n",
       "      <th>4</th>\n",
       "      <td>76</td>\n",
       "      <td>78</td>\n",
       "      <td>75</td>\n",
       "      <td>ML</td>\n",
       "    </tr>\n",
       "    <tr>\n",
       "      <th>5</th>\n",
       "      <td>71</td>\n",
       "      <td>83</td>\n",
       "      <td>78</td>\n",
       "      <td>FM</td>\n",
       "    </tr>\n",
       "    <tr>\n",
       "      <th>6</th>\n",
       "      <td>88</td>\n",
       "      <td>95</td>\n",
       "      <td>92</td>\n",
       "      <td>FM</td>\n",
       "    </tr>\n",
       "    <tr>\n",
       "      <th>7</th>\n",
       "      <td>40</td>\n",
       "      <td>43</td>\n",
       "      <td>39</td>\n",
       "      <td>ML</td>\n",
       "    </tr>\n",
       "  </tbody>\n",
       "</table>\n",
       "</div>"
      ],
      "text/plain": [
       "   Math  Reading  Writing Gender\n",
       "0    72       72       74     FM\n",
       "1    69       90       88     FM\n",
       "2    90       95       93     FM\n",
       "3    47       57       44     ML\n",
       "4    76       78       75     ML\n",
       "5    71       83       78     FM\n",
       "6    88       95       92     FM\n",
       "7    40       43       39     ML"
      ]
     },
     "execution_count": 5,
     "metadata": {},
     "output_type": "execute_result"
    }
   ],
   "source": [
    "grades"
   ]
  },
  {
   "cell_type": "markdown",
   "id": "45ccffcd",
   "metadata": {},
   "source": [
    "### A partir de listas"
   ]
  },
  {
   "cell_type": "code",
   "execution_count": 6,
   "id": "fd2edb31",
   "metadata": {},
   "outputs": [],
   "source": [
    "A = [72, 72, 74, 'FM']\n",
    "B = [69, 90, 88, 'FM']\n",
    "C = [90, 95, 93, 'FM']\n",
    "D = [47, 57, 44, 'ML']\n",
    "E = [76, 78, 75, 'ML']\n",
    "F = [71, 83, 78, 'FM']\n",
    "G = [88, 95, 92, 'FM']\n",
    "H = [40, 43, 39, 'ML']"
   ]
  },
  {
   "cell_type": "code",
   "execution_count": 7,
   "id": "b0d02bac",
   "metadata": {},
   "outputs": [
    {
     "data": {
      "text/html": [
       "<div>\n",
       "<style scoped>\n",
       "    .dataframe tbody tr th:only-of-type {\n",
       "        vertical-align: middle;\n",
       "    }\n",
       "\n",
       "    .dataframe tbody tr th {\n",
       "        vertical-align: top;\n",
       "    }\n",
       "\n",
       "    .dataframe thead th {\n",
       "        text-align: right;\n",
       "    }\n",
       "</style>\n",
       "<table border=\"1\" class=\"dataframe\">\n",
       "  <thead>\n",
       "    <tr style=\"text-align: right;\">\n",
       "      <th></th>\n",
       "      <th>Math</th>\n",
       "      <th>Reading</th>\n",
       "      <th>Writing</th>\n",
       "      <th>Gender</th>\n",
       "    </tr>\n",
       "  </thead>\n",
       "  <tbody>\n",
       "    <tr>\n",
       "      <th>0</th>\n",
       "      <td>72</td>\n",
       "      <td>72</td>\n",
       "      <td>74</td>\n",
       "      <td>FM</td>\n",
       "    </tr>\n",
       "    <tr>\n",
       "      <th>1</th>\n",
       "      <td>69</td>\n",
       "      <td>90</td>\n",
       "      <td>88</td>\n",
       "      <td>FM</td>\n",
       "    </tr>\n",
       "    <tr>\n",
       "      <th>2</th>\n",
       "      <td>90</td>\n",
       "      <td>95</td>\n",
       "      <td>93</td>\n",
       "      <td>FM</td>\n",
       "    </tr>\n",
       "    <tr>\n",
       "      <th>3</th>\n",
       "      <td>47</td>\n",
       "      <td>57</td>\n",
       "      <td>44</td>\n",
       "      <td>ML</td>\n",
       "    </tr>\n",
       "    <tr>\n",
       "      <th>4</th>\n",
       "      <td>76</td>\n",
       "      <td>78</td>\n",
       "      <td>75</td>\n",
       "      <td>ML</td>\n",
       "    </tr>\n",
       "    <tr>\n",
       "      <th>5</th>\n",
       "      <td>71</td>\n",
       "      <td>83</td>\n",
       "      <td>78</td>\n",
       "      <td>FM</td>\n",
       "    </tr>\n",
       "    <tr>\n",
       "      <th>6</th>\n",
       "      <td>88</td>\n",
       "      <td>95</td>\n",
       "      <td>92</td>\n",
       "      <td>FM</td>\n",
       "    </tr>\n",
       "    <tr>\n",
       "      <th>7</th>\n",
       "      <td>40</td>\n",
       "      <td>43</td>\n",
       "      <td>39</td>\n",
       "      <td>ML</td>\n",
       "    </tr>\n",
       "  </tbody>\n",
       "</table>\n",
       "</div>"
      ],
      "text/plain": [
       "   Math  Reading  Writing Gender\n",
       "0    72       72       74     FM\n",
       "1    69       90       88     FM\n",
       "2    90       95       93     FM\n",
       "3    47       57       44     ML\n",
       "4    76       78       75     ML\n",
       "5    71       83       78     FM\n",
       "6    88       95       92     FM\n",
       "7    40       43       39     ML"
      ]
     },
     "execution_count": 7,
     "metadata": {},
     "output_type": "execute_result"
    }
   ],
   "source": [
    "grades_from_list = pd.DataFrame([A, B, C, D, E, F, G, H],\n",
    "                                columns=['Math', 'Reading', 'Writing', 'Gender'])\n",
    "grades_from_list"
   ]
  },
  {
   "cell_type": "markdown",
   "id": "7620978e",
   "metadata": {},
   "source": [
    "### A partir de arquivos "
   ]
  },
  {
   "cell_type": "code",
   "execution_count": 8,
   "id": "a2a7e53f",
   "metadata": {},
   "outputs": [],
   "source": [
    "#Importando dataset\n",
    "df = pd.read_excel('consumo_de_cerveja.xlsx')"
   ]
  },
  {
   "cell_type": "code",
   "execution_count": 9,
   "id": "824df26d",
   "metadata": {},
   "outputs": [
    {
     "data": {
      "text/html": [
       "<div>\n",
       "<style scoped>\n",
       "    .dataframe tbody tr th:only-of-type {\n",
       "        vertical-align: middle;\n",
       "    }\n",
       "\n",
       "    .dataframe tbody tr th {\n",
       "        vertical-align: top;\n",
       "    }\n",
       "\n",
       "    .dataframe thead th {\n",
       "        text-align: right;\n",
       "    }\n",
       "</style>\n",
       "<table border=\"1\" class=\"dataframe\">\n",
       "  <thead>\n",
       "    <tr style=\"text-align: right;\">\n",
       "      <th></th>\n",
       "      <th>Temperatura Minima (C)</th>\n",
       "      <th>Temperatura Media (C)</th>\n",
       "      <th>Temperatura Maxima (C)</th>\n",
       "      <th>Precipitacao (mm)</th>\n",
       "      <th>Final de Semana</th>\n",
       "      <th>Consumo de cerveja (litros)</th>\n",
       "    </tr>\n",
       "  </thead>\n",
       "  <tbody>\n",
       "    <tr>\n",
       "      <th>0</th>\n",
       "      <td>23.9</td>\n",
       "      <td>27.30</td>\n",
       "      <td>32.5</td>\n",
       "      <td>0.0</td>\n",
       "      <td>0</td>\n",
       "      <td>25461</td>\n",
       "    </tr>\n",
       "    <tr>\n",
       "      <th>1</th>\n",
       "      <td>24.5</td>\n",
       "      <td>27.02</td>\n",
       "      <td>33.5</td>\n",
       "      <td>0.0</td>\n",
       "      <td>0</td>\n",
       "      <td>28972</td>\n",
       "    </tr>\n",
       "    <tr>\n",
       "      <th>2</th>\n",
       "      <td>22.4</td>\n",
       "      <td>24.82</td>\n",
       "      <td>29.9</td>\n",
       "      <td>0.0</td>\n",
       "      <td>1</td>\n",
       "      <td>30814</td>\n",
       "    </tr>\n",
       "    <tr>\n",
       "      <th>3</th>\n",
       "      <td>21.5</td>\n",
       "      <td>23.98</td>\n",
       "      <td>28.6</td>\n",
       "      <td>1.2</td>\n",
       "      <td>1</td>\n",
       "      <td>29799</td>\n",
       "    </tr>\n",
       "    <tr>\n",
       "      <th>4</th>\n",
       "      <td>21.0</td>\n",
       "      <td>23.82</td>\n",
       "      <td>28.3</td>\n",
       "      <td>0.0</td>\n",
       "      <td>0</td>\n",
       "      <td>28900</td>\n",
       "    </tr>\n",
       "    <tr>\n",
       "      <th>...</th>\n",
       "      <td>...</td>\n",
       "      <td>...</td>\n",
       "      <td>...</td>\n",
       "      <td>...</td>\n",
       "      <td>...</td>\n",
       "      <td>...</td>\n",
       "    </tr>\n",
       "    <tr>\n",
       "      <th>360</th>\n",
       "      <td>21.1</td>\n",
       "      <td>24.00</td>\n",
       "      <td>28.2</td>\n",
       "      <td>13.6</td>\n",
       "      <td>1</td>\n",
       "      <td>32307</td>\n",
       "    </tr>\n",
       "    <tr>\n",
       "      <th>361</th>\n",
       "      <td>21.1</td>\n",
       "      <td>22.64</td>\n",
       "      <td>26.7</td>\n",
       "      <td>0.0</td>\n",
       "      <td>0</td>\n",
       "      <td>26095</td>\n",
       "    </tr>\n",
       "    <tr>\n",
       "      <th>362</th>\n",
       "      <td>20.3</td>\n",
       "      <td>21.68</td>\n",
       "      <td>24.1</td>\n",
       "      <td>10.3</td>\n",
       "      <td>0</td>\n",
       "      <td>22309</td>\n",
       "    </tr>\n",
       "    <tr>\n",
       "      <th>363</th>\n",
       "      <td>19.3</td>\n",
       "      <td>21.38</td>\n",
       "      <td>22.4</td>\n",
       "      <td>6.3</td>\n",
       "      <td>0</td>\n",
       "      <td>20467</td>\n",
       "    </tr>\n",
       "    <tr>\n",
       "      <th>364</th>\n",
       "      <td>20.2</td>\n",
       "      <td>24.76</td>\n",
       "      <td>29.0</td>\n",
       "      <td>0.0</td>\n",
       "      <td>0</td>\n",
       "      <td>22446</td>\n",
       "    </tr>\n",
       "  </tbody>\n",
       "</table>\n",
       "<p>365 rows × 6 columns</p>\n",
       "</div>"
      ],
      "text/plain": [
       "     Temperatura Minima (C)  Temperatura Media (C)  Temperatura Maxima (C)  \\\n",
       "0                      23.9                  27.30                    32.5   \n",
       "1                      24.5                  27.02                    33.5   \n",
       "2                      22.4                  24.82                    29.9   \n",
       "3                      21.5                  23.98                    28.6   \n",
       "4                      21.0                  23.82                    28.3   \n",
       "..                      ...                    ...                     ...   \n",
       "360                    21.1                  24.00                    28.2   \n",
       "361                    21.1                  22.64                    26.7   \n",
       "362                    20.3                  21.68                    24.1   \n",
       "363                    19.3                  21.38                    22.4   \n",
       "364                    20.2                  24.76                    29.0   \n",
       "\n",
       "     Precipitacao (mm)  Final de Semana  Consumo de cerveja (litros)  \n",
       "0                  0.0                0                        25461  \n",
       "1                  0.0                0                        28972  \n",
       "2                  0.0                1                        30814  \n",
       "3                  1.2                1                        29799  \n",
       "4                  0.0                0                        28900  \n",
       "..                 ...              ...                          ...  \n",
       "360               13.6                1                        32307  \n",
       "361                0.0                0                        26095  \n",
       "362               10.3                0                        22309  \n",
       "363                6.3                0                        20467  \n",
       "364                0.0                0                        22446  \n",
       "\n",
       "[365 rows x 6 columns]"
      ]
     },
     "execution_count": 9,
     "metadata": {},
     "output_type": "execute_result"
    }
   ],
   "source": [
    "df"
   ]
  },
  {
   "cell_type": "markdown",
   "id": "c53fad2f",
   "metadata": {},
   "source": [
    "# Métodos de manipulação"
   ]
  },
  {
   "cell_type": "markdown",
   "id": "a266a012",
   "metadata": {},
   "source": [
    "### Visualizando um resumo do df"
   ]
  },
  {
   "cell_type": "code",
   "execution_count": 10,
   "id": "ea09a29f",
   "metadata": {},
   "outputs": [
    {
     "data": {
      "text/html": [
       "<div>\n",
       "<style scoped>\n",
       "    .dataframe tbody tr th:only-of-type {\n",
       "        vertical-align: middle;\n",
       "    }\n",
       "\n",
       "    .dataframe tbody tr th {\n",
       "        vertical-align: top;\n",
       "    }\n",
       "\n",
       "    .dataframe thead th {\n",
       "        text-align: right;\n",
       "    }\n",
       "</style>\n",
       "<table border=\"1\" class=\"dataframe\">\n",
       "  <thead>\n",
       "    <tr style=\"text-align: right;\">\n",
       "      <th></th>\n",
       "      <th>Temperatura Minima (C)</th>\n",
       "      <th>Temperatura Media (C)</th>\n",
       "      <th>Temperatura Maxima (C)</th>\n",
       "      <th>Precipitacao (mm)</th>\n",
       "      <th>Final de Semana</th>\n",
       "      <th>Consumo de cerveja (litros)</th>\n",
       "    </tr>\n",
       "  </thead>\n",
       "  <tbody>\n",
       "    <tr>\n",
       "      <th>0</th>\n",
       "      <td>23.9</td>\n",
       "      <td>27.30</td>\n",
       "      <td>32.5</td>\n",
       "      <td>0.0</td>\n",
       "      <td>0</td>\n",
       "      <td>25461</td>\n",
       "    </tr>\n",
       "    <tr>\n",
       "      <th>1</th>\n",
       "      <td>24.5</td>\n",
       "      <td>27.02</td>\n",
       "      <td>33.5</td>\n",
       "      <td>0.0</td>\n",
       "      <td>0</td>\n",
       "      <td>28972</td>\n",
       "    </tr>\n",
       "    <tr>\n",
       "      <th>2</th>\n",
       "      <td>22.4</td>\n",
       "      <td>24.82</td>\n",
       "      <td>29.9</td>\n",
       "      <td>0.0</td>\n",
       "      <td>1</td>\n",
       "      <td>30814</td>\n",
       "    </tr>\n",
       "    <tr>\n",
       "      <th>3</th>\n",
       "      <td>21.5</td>\n",
       "      <td>23.98</td>\n",
       "      <td>28.6</td>\n",
       "      <td>1.2</td>\n",
       "      <td>1</td>\n",
       "      <td>29799</td>\n",
       "    </tr>\n",
       "    <tr>\n",
       "      <th>4</th>\n",
       "      <td>21.0</td>\n",
       "      <td>23.82</td>\n",
       "      <td>28.3</td>\n",
       "      <td>0.0</td>\n",
       "      <td>0</td>\n",
       "      <td>28900</td>\n",
       "    </tr>\n",
       "  </tbody>\n",
       "</table>\n",
       "</div>"
      ],
      "text/plain": [
       "   Temperatura Minima (C)  Temperatura Media (C)  Temperatura Maxima (C)  \\\n",
       "0                    23.9                  27.30                    32.5   \n",
       "1                    24.5                  27.02                    33.5   \n",
       "2                    22.4                  24.82                    29.9   \n",
       "3                    21.5                  23.98                    28.6   \n",
       "4                    21.0                  23.82                    28.3   \n",
       "\n",
       "   Precipitacao (mm)  Final de Semana  Consumo de cerveja (litros)  \n",
       "0                0.0                0                        25461  \n",
       "1                0.0                0                        28972  \n",
       "2                0.0                1                        30814  \n",
       "3                1.2                1                        29799  \n",
       "4                0.0                0                        28900  "
      ]
     },
     "execution_count": 10,
     "metadata": {},
     "output_type": "execute_result"
    }
   ],
   "source": [
    "df.head()"
   ]
  },
  {
   "cell_type": "markdown",
   "id": "1fb6ac62",
   "metadata": {},
   "source": [
    "### Visualizando colunas"
   ]
  },
  {
   "cell_type": "code",
   "execution_count": 11,
   "id": "d39ebcc8",
   "metadata": {},
   "outputs": [
    {
     "data": {
      "text/plain": [
       "Index(['Temperatura Minima (C)', 'Temperatura Media (C)',\n",
       "       'Temperatura Maxima (C)', 'Precipitacao (mm)', 'Final de Semana',\n",
       "       'Consumo de cerveja (litros)'],\n",
       "      dtype='object')"
      ]
     },
     "execution_count": 11,
     "metadata": {},
     "output_type": "execute_result"
    }
   ],
   "source": [
    "df.columns"
   ]
  },
  {
   "cell_type": "markdown",
   "id": "851c05ca",
   "metadata": {},
   "source": [
    "### Visualizando as últimas observações do df"
   ]
  },
  {
   "cell_type": "code",
   "execution_count": 12,
   "id": "6e17d4a8",
   "metadata": {},
   "outputs": [
    {
     "data": {
      "text/html": [
       "<div>\n",
       "<style scoped>\n",
       "    .dataframe tbody tr th:only-of-type {\n",
       "        vertical-align: middle;\n",
       "    }\n",
       "\n",
       "    .dataframe tbody tr th {\n",
       "        vertical-align: top;\n",
       "    }\n",
       "\n",
       "    .dataframe thead th {\n",
       "        text-align: right;\n",
       "    }\n",
       "</style>\n",
       "<table border=\"1\" class=\"dataframe\">\n",
       "  <thead>\n",
       "    <tr style=\"text-align: right;\">\n",
       "      <th></th>\n",
       "      <th>Temperatura Minima (C)</th>\n",
       "      <th>Temperatura Media (C)</th>\n",
       "      <th>Temperatura Maxima (C)</th>\n",
       "      <th>Precipitacao (mm)</th>\n",
       "      <th>Final de Semana</th>\n",
       "      <th>Consumo de cerveja (litros)</th>\n",
       "    </tr>\n",
       "  </thead>\n",
       "  <tbody>\n",
       "    <tr>\n",
       "      <th>360</th>\n",
       "      <td>21.1</td>\n",
       "      <td>24.00</td>\n",
       "      <td>28.2</td>\n",
       "      <td>13.6</td>\n",
       "      <td>1</td>\n",
       "      <td>32307</td>\n",
       "    </tr>\n",
       "    <tr>\n",
       "      <th>361</th>\n",
       "      <td>21.1</td>\n",
       "      <td>22.64</td>\n",
       "      <td>26.7</td>\n",
       "      <td>0.0</td>\n",
       "      <td>0</td>\n",
       "      <td>26095</td>\n",
       "    </tr>\n",
       "    <tr>\n",
       "      <th>362</th>\n",
       "      <td>20.3</td>\n",
       "      <td>21.68</td>\n",
       "      <td>24.1</td>\n",
       "      <td>10.3</td>\n",
       "      <td>0</td>\n",
       "      <td>22309</td>\n",
       "    </tr>\n",
       "    <tr>\n",
       "      <th>363</th>\n",
       "      <td>19.3</td>\n",
       "      <td>21.38</td>\n",
       "      <td>22.4</td>\n",
       "      <td>6.3</td>\n",
       "      <td>0</td>\n",
       "      <td>20467</td>\n",
       "    </tr>\n",
       "    <tr>\n",
       "      <th>364</th>\n",
       "      <td>20.2</td>\n",
       "      <td>24.76</td>\n",
       "      <td>29.0</td>\n",
       "      <td>0.0</td>\n",
       "      <td>0</td>\n",
       "      <td>22446</td>\n",
       "    </tr>\n",
       "  </tbody>\n",
       "</table>\n",
       "</div>"
      ],
      "text/plain": [
       "     Temperatura Minima (C)  Temperatura Media (C)  Temperatura Maxima (C)  \\\n",
       "360                    21.1                  24.00                    28.2   \n",
       "361                    21.1                  22.64                    26.7   \n",
       "362                    20.3                  21.68                    24.1   \n",
       "363                    19.3                  21.38                    22.4   \n",
       "364                    20.2                  24.76                    29.0   \n",
       "\n",
       "     Precipitacao (mm)  Final de Semana  Consumo de cerveja (litros)  \n",
       "360               13.6                1                        32307  \n",
       "361                0.0                0                        26095  \n",
       "362               10.3                0                        22309  \n",
       "363                6.3                0                        20467  \n",
       "364                0.0                0                        22446  "
      ]
     },
     "execution_count": 12,
     "metadata": {},
     "output_type": "execute_result"
    }
   ],
   "source": [
    "df.tail()"
   ]
  },
  {
   "cell_type": "markdown",
   "id": "ba68a8e3",
   "metadata": {},
   "source": [
    "### Visualizando linhas específicas"
   ]
  },
  {
   "cell_type": "code",
   "execution_count": 13,
   "id": "50c5a1ed",
   "metadata": {},
   "outputs": [
    {
     "data": {
      "text/html": [
       "<div>\n",
       "<style scoped>\n",
       "    .dataframe tbody tr th:only-of-type {\n",
       "        vertical-align: middle;\n",
       "    }\n",
       "\n",
       "    .dataframe tbody tr th {\n",
       "        vertical-align: top;\n",
       "    }\n",
       "\n",
       "    .dataframe thead th {\n",
       "        text-align: right;\n",
       "    }\n",
       "</style>\n",
       "<table border=\"1\" class=\"dataframe\">\n",
       "  <thead>\n",
       "    <tr style=\"text-align: right;\">\n",
       "      <th></th>\n",
       "      <th>Temperatura Minima (C)</th>\n",
       "      <th>Temperatura Media (C)</th>\n",
       "      <th>Temperatura Maxima (C)</th>\n",
       "      <th>Precipitacao (mm)</th>\n",
       "      <th>Final de Semana</th>\n",
       "      <th>Consumo de cerveja (litros)</th>\n",
       "    </tr>\n",
       "  </thead>\n",
       "  <tbody>\n",
       "    <tr>\n",
       "      <th>10</th>\n",
       "      <td>22.2</td>\n",
       "      <td>27.62</td>\n",
       "      <td>34.8</td>\n",
       "      <td>3.4</td>\n",
       "      <td>1</td>\n",
       "      <td>36254</td>\n",
       "    </tr>\n",
       "    <tr>\n",
       "      <th>11</th>\n",
       "      <td>21.4</td>\n",
       "      <td>25.96</td>\n",
       "      <td>35.4</td>\n",
       "      <td>0.0</td>\n",
       "      <td>0</td>\n",
       "      <td>25743</td>\n",
       "    </tr>\n",
       "    <tr>\n",
       "      <th>12</th>\n",
       "      <td>21.2</td>\n",
       "      <td>25.52</td>\n",
       "      <td>34.8</td>\n",
       "      <td>0.8</td>\n",
       "      <td>0</td>\n",
       "      <td>26990</td>\n",
       "    </tr>\n",
       "    <tr>\n",
       "      <th>13</th>\n",
       "      <td>21.3</td>\n",
       "      <td>25.96</td>\n",
       "      <td>34.0</td>\n",
       "      <td>1.6</td>\n",
       "      <td>0</td>\n",
       "      <td>31825</td>\n",
       "    </tr>\n",
       "    <tr>\n",
       "      <th>14</th>\n",
       "      <td>21.5</td>\n",
       "      <td>25.86</td>\n",
       "      <td>32.8</td>\n",
       "      <td>3.0</td>\n",
       "      <td>0</td>\n",
       "      <td>25724</td>\n",
       "    </tr>\n",
       "    <tr>\n",
       "      <th>15</th>\n",
       "      <td>22.3</td>\n",
       "      <td>26.50</td>\n",
       "      <td>32.7</td>\n",
       "      <td>2.0</td>\n",
       "      <td>0</td>\n",
       "      <td>29938</td>\n",
       "    </tr>\n",
       "    <tr>\n",
       "      <th>16</th>\n",
       "      <td>22.0</td>\n",
       "      <td>28.86</td>\n",
       "      <td>35.8</td>\n",
       "      <td>0.0</td>\n",
       "      <td>1</td>\n",
       "      <td>37690</td>\n",
       "    </tr>\n",
       "    <tr>\n",
       "      <th>17</th>\n",
       "      <td>23.4</td>\n",
       "      <td>28.26</td>\n",
       "      <td>35.6</td>\n",
       "      <td>0.0</td>\n",
       "      <td>1</td>\n",
       "      <td>30524</td>\n",
       "    </tr>\n",
       "    <tr>\n",
       "      <th>18</th>\n",
       "      <td>22.7</td>\n",
       "      <td>28.22</td>\n",
       "      <td>36.5</td>\n",
       "      <td>3.7</td>\n",
       "      <td>0</td>\n",
       "      <td>29265</td>\n",
       "    </tr>\n",
       "    <tr>\n",
       "      <th>19</th>\n",
       "      <td>23.3</td>\n",
       "      <td>27.68</td>\n",
       "      <td>35.6</td>\n",
       "      <td>0.6</td>\n",
       "      <td>0</td>\n",
       "      <td>35127</td>\n",
       "    </tr>\n",
       "  </tbody>\n",
       "</table>\n",
       "</div>"
      ],
      "text/plain": [
       "    Temperatura Minima (C)  Temperatura Media (C)  Temperatura Maxima (C)  \\\n",
       "10                    22.2                  27.62                    34.8   \n",
       "11                    21.4                  25.96                    35.4   \n",
       "12                    21.2                  25.52                    34.8   \n",
       "13                    21.3                  25.96                    34.0   \n",
       "14                    21.5                  25.86                    32.8   \n",
       "15                    22.3                  26.50                    32.7   \n",
       "16                    22.0                  28.86                    35.8   \n",
       "17                    23.4                  28.26                    35.6   \n",
       "18                    22.7                  28.22                    36.5   \n",
       "19                    23.3                  27.68                    35.6   \n",
       "\n",
       "    Precipitacao (mm)  Final de Semana  Consumo de cerveja (litros)  \n",
       "10                3.4                1                        36254  \n",
       "11                0.0                0                        25743  \n",
       "12                0.8                0                        26990  \n",
       "13                1.6                0                        31825  \n",
       "14                3.0                0                        25724  \n",
       "15                2.0                0                        29938  \n",
       "16                0.0                1                        37690  \n",
       "17                0.0                1                        30524  \n",
       "18                3.7                0                        29265  \n",
       "19                0.6                0                        35127  "
      ]
     },
     "execution_count": 13,
     "metadata": {},
     "output_type": "execute_result"
    }
   ],
   "source": [
    "df[10:20]"
   ]
  },
  {
   "cell_type": "markdown",
   "id": "6f158a93",
   "metadata": {},
   "source": [
    "### Visualizando os tipos das colunas"
   ]
  },
  {
   "cell_type": "code",
   "execution_count": 14,
   "id": "b22d311b",
   "metadata": {},
   "outputs": [
    {
     "data": {
      "text/plain": [
       "Temperatura Minima (C)         float64\n",
       "Temperatura Media (C)          float64\n",
       "Temperatura Maxima (C)         float64\n",
       "Precipitacao (mm)              float64\n",
       "Final de Semana                  int64\n",
       "Consumo de cerveja (litros)      int64\n",
       "dtype: object"
      ]
     },
     "execution_count": 14,
     "metadata": {},
     "output_type": "execute_result"
    }
   ],
   "source": [
    "df.dtypes"
   ]
  },
  {
   "cell_type": "markdown",
   "id": "df1c1d2c",
   "metadata": {},
   "source": [
    "### Visualizando o shape do df"
   ]
  },
  {
   "cell_type": "code",
   "execution_count": 15,
   "id": "b07988a7",
   "metadata": {},
   "outputs": [
    {
     "data": {
      "text/plain": [
       "(365, 6)"
      ]
     },
     "execution_count": 15,
     "metadata": {},
     "output_type": "execute_result"
    }
   ],
   "source": [
    "df.shape"
   ]
  },
  {
   "cell_type": "markdown",
   "id": "2bc00aa3",
   "metadata": {},
   "source": [
    "### Visualizando detalhes do df"
   ]
  },
  {
   "cell_type": "code",
   "execution_count": 16,
   "id": "8d526550",
   "metadata": {},
   "outputs": [
    {
     "name": "stdout",
     "output_type": "stream",
     "text": [
      "<class 'pandas.core.frame.DataFrame'>\n",
      "RangeIndex: 365 entries, 0 to 364\n",
      "Data columns (total 6 columns):\n",
      " #   Column                       Non-Null Count  Dtype  \n",
      "---  ------                       --------------  -----  \n",
      " 0   Temperatura Minima (C)       365 non-null    float64\n",
      " 1   Temperatura Media (C)        365 non-null    float64\n",
      " 2   Temperatura Maxima (C)       365 non-null    float64\n",
      " 3   Precipitacao (mm)            365 non-null    float64\n",
      " 4   Final de Semana              365 non-null    int64  \n",
      " 5   Consumo de cerveja (litros)  365 non-null    int64  \n",
      "dtypes: float64(4), int64(2)\n",
      "memory usage: 17.2 KB\n"
     ]
    }
   ],
   "source": [
    "df.info()"
   ]
  },
  {
   "cell_type": "markdown",
   "id": "a6a7317e",
   "metadata": {},
   "source": [
    "### Realizando uma contagem de valores dentro das colunas"
   ]
  },
  {
   "cell_type": "code",
   "execution_count": 17,
   "id": "7eaa78ee",
   "metadata": {},
   "outputs": [
    {
     "data": {
      "text/plain": [
       "0    261\n",
       "1    104\n",
       "Name: Final de Semana, dtype: int64"
      ]
     },
     "execution_count": 17,
     "metadata": {},
     "output_type": "execute_result"
    }
   ],
   "source": [
    "df['Final de Semana'].value_counts()"
   ]
  },
  {
   "cell_type": "markdown",
   "id": "e1dba941",
   "metadata": {},
   "source": [
    "### Selecionando conlunas específicas"
   ]
  },
  {
   "cell_type": "code",
   "execution_count": 18,
   "id": "702bdd51",
   "metadata": {},
   "outputs": [
    {
     "data": {
      "text/html": [
       "<div>\n",
       "<style scoped>\n",
       "    .dataframe tbody tr th:only-of-type {\n",
       "        vertical-align: middle;\n",
       "    }\n",
       "\n",
       "    .dataframe tbody tr th {\n",
       "        vertical-align: top;\n",
       "    }\n",
       "\n",
       "    .dataframe thead th {\n",
       "        text-align: right;\n",
       "    }\n",
       "</style>\n",
       "<table border=\"1\" class=\"dataframe\">\n",
       "  <thead>\n",
       "    <tr style=\"text-align: right;\">\n",
       "      <th></th>\n",
       "      <th>Temperatura Media (C)</th>\n",
       "      <th>Temperatura Maxima (C)</th>\n",
       "      <th>Precipitacao (mm)</th>\n",
       "    </tr>\n",
       "  </thead>\n",
       "  <tbody>\n",
       "    <tr>\n",
       "      <th>0</th>\n",
       "      <td>27.30</td>\n",
       "      <td>32.5</td>\n",
       "      <td>0.0</td>\n",
       "    </tr>\n",
       "    <tr>\n",
       "      <th>1</th>\n",
       "      <td>27.02</td>\n",
       "      <td>33.5</td>\n",
       "      <td>0.0</td>\n",
       "    </tr>\n",
       "    <tr>\n",
       "      <th>2</th>\n",
       "      <td>24.82</td>\n",
       "      <td>29.9</td>\n",
       "      <td>0.0</td>\n",
       "    </tr>\n",
       "    <tr>\n",
       "      <th>3</th>\n",
       "      <td>23.98</td>\n",
       "      <td>28.6</td>\n",
       "      <td>1.2</td>\n",
       "    </tr>\n",
       "    <tr>\n",
       "      <th>4</th>\n",
       "      <td>23.82</td>\n",
       "      <td>28.3</td>\n",
       "      <td>0.0</td>\n",
       "    </tr>\n",
       "    <tr>\n",
       "      <th>...</th>\n",
       "      <td>...</td>\n",
       "      <td>...</td>\n",
       "      <td>...</td>\n",
       "    </tr>\n",
       "    <tr>\n",
       "      <th>360</th>\n",
       "      <td>24.00</td>\n",
       "      <td>28.2</td>\n",
       "      <td>13.6</td>\n",
       "    </tr>\n",
       "    <tr>\n",
       "      <th>361</th>\n",
       "      <td>22.64</td>\n",
       "      <td>26.7</td>\n",
       "      <td>0.0</td>\n",
       "    </tr>\n",
       "    <tr>\n",
       "      <th>362</th>\n",
       "      <td>21.68</td>\n",
       "      <td>24.1</td>\n",
       "      <td>10.3</td>\n",
       "    </tr>\n",
       "    <tr>\n",
       "      <th>363</th>\n",
       "      <td>21.38</td>\n",
       "      <td>22.4</td>\n",
       "      <td>6.3</td>\n",
       "    </tr>\n",
       "    <tr>\n",
       "      <th>364</th>\n",
       "      <td>24.76</td>\n",
       "      <td>29.0</td>\n",
       "      <td>0.0</td>\n",
       "    </tr>\n",
       "  </tbody>\n",
       "</table>\n",
       "<p>365 rows × 3 columns</p>\n",
       "</div>"
      ],
      "text/plain": [
       "     Temperatura Media (C)  Temperatura Maxima (C)  Precipitacao (mm)\n",
       "0                    27.30                    32.5                0.0\n",
       "1                    27.02                    33.5                0.0\n",
       "2                    24.82                    29.9                0.0\n",
       "3                    23.98                    28.6                1.2\n",
       "4                    23.82                    28.3                0.0\n",
       "..                     ...                     ...                ...\n",
       "360                  24.00                    28.2               13.6\n",
       "361                  22.64                    26.7                0.0\n",
       "362                  21.68                    24.1               10.3\n",
       "363                  21.38                    22.4                6.3\n",
       "364                  24.76                    29.0                0.0\n",
       "\n",
       "[365 rows x 3 columns]"
      ]
     },
     "execution_count": 18,
     "metadata": {},
     "output_type": "execute_result"
    }
   ],
   "source": [
    "df[['Temperatura Media (C)','Temperatura Maxima (C)','Precipitacao (mm)']]"
   ]
  },
  {
   "cell_type": "markdown",
   "id": "c329f512",
   "metadata": {},
   "source": [
    "### Ordenando as observações do df"
   ]
  },
  {
   "cell_type": "code",
   "execution_count": 19,
   "id": "9cfe22bc",
   "metadata": {},
   "outputs": [
    {
     "data": {
      "text/html": [
       "<div>\n",
       "<style scoped>\n",
       "    .dataframe tbody tr th:only-of-type {\n",
       "        vertical-align: middle;\n",
       "    }\n",
       "\n",
       "    .dataframe tbody tr th {\n",
       "        vertical-align: top;\n",
       "    }\n",
       "\n",
       "    .dataframe thead th {\n",
       "        text-align: right;\n",
       "    }\n",
       "</style>\n",
       "<table border=\"1\" class=\"dataframe\">\n",
       "  <thead>\n",
       "    <tr style=\"text-align: right;\">\n",
       "      <th></th>\n",
       "      <th>Temperatura Minima (C)</th>\n",
       "      <th>Temperatura Media (C)</th>\n",
       "      <th>Temperatura Maxima (C)</th>\n",
       "      <th>Precipitacao (mm)</th>\n",
       "      <th>Final de Semana</th>\n",
       "      <th>Consumo de cerveja (litros)</th>\n",
       "    </tr>\n",
       "  </thead>\n",
       "  <tbody>\n",
       "    <tr>\n",
       "      <th>202</th>\n",
       "      <td>12.8</td>\n",
       "      <td>14.52</td>\n",
       "      <td>16.1</td>\n",
       "      <td>0.0</td>\n",
       "      <td>0</td>\n",
       "      <td>14343</td>\n",
       "    </tr>\n",
       "    <tr>\n",
       "      <th>183</th>\n",
       "      <td>15.6</td>\n",
       "      <td>17.52</td>\n",
       "      <td>18.4</td>\n",
       "      <td>17.8</td>\n",
       "      <td>0</td>\n",
       "      <td>14940</td>\n",
       "    </tr>\n",
       "    <tr>\n",
       "      <th>151</th>\n",
       "      <td>15.2</td>\n",
       "      <td>16.28</td>\n",
       "      <td>18.0</td>\n",
       "      <td>2.2</td>\n",
       "      <td>0</td>\n",
       "      <td>16228</td>\n",
       "    </tr>\n",
       "    <tr>\n",
       "      <th>169</th>\n",
       "      <td>13.2</td>\n",
       "      <td>14.66</td>\n",
       "      <td>17.7</td>\n",
       "      <td>3.8</td>\n",
       "      <td>0</td>\n",
       "      <td>16748</td>\n",
       "    </tr>\n",
       "    <tr>\n",
       "      <th>130</th>\n",
       "      <td>15.7</td>\n",
       "      <td>17.86</td>\n",
       "      <td>20.6</td>\n",
       "      <td>22.2</td>\n",
       "      <td>0</td>\n",
       "      <td>16956</td>\n",
       "    </tr>\n",
       "    <tr>\n",
       "      <th>...</th>\n",
       "      <td>...</td>\n",
       "      <td>...</td>\n",
       "      <td>...</td>\n",
       "      <td>...</td>\n",
       "      <td>...</td>\n",
       "      <td>...</td>\n",
       "    </tr>\n",
       "    <tr>\n",
       "      <th>303</th>\n",
       "      <td>18.2</td>\n",
       "      <td>23.18</td>\n",
       "      <td>29.3</td>\n",
       "      <td>0.0</td>\n",
       "      <td>1</td>\n",
       "      <td>35781</td>\n",
       "    </tr>\n",
       "    <tr>\n",
       "      <th>287</th>\n",
       "      <td>18.9</td>\n",
       "      <td>28.12</td>\n",
       "      <td>35.8</td>\n",
       "      <td>0.0</td>\n",
       "      <td>0</td>\n",
       "      <td>35861</td>\n",
       "    </tr>\n",
       "    <tr>\n",
       "      <th>10</th>\n",
       "      <td>22.2</td>\n",
       "      <td>27.62</td>\n",
       "      <td>34.8</td>\n",
       "      <td>3.4</td>\n",
       "      <td>1</td>\n",
       "      <td>36254</td>\n",
       "    </tr>\n",
       "    <tr>\n",
       "      <th>16</th>\n",
       "      <td>22.0</td>\n",
       "      <td>28.86</td>\n",
       "      <td>35.8</td>\n",
       "      <td>0.0</td>\n",
       "      <td>1</td>\n",
       "      <td>37690</td>\n",
       "    </tr>\n",
       "    <tr>\n",
       "      <th>9</th>\n",
       "      <td>22.1</td>\n",
       "      <td>26.76</td>\n",
       "      <td>34.2</td>\n",
       "      <td>0.0</td>\n",
       "      <td>1</td>\n",
       "      <td>37937</td>\n",
       "    </tr>\n",
       "  </tbody>\n",
       "</table>\n",
       "<p>365 rows × 6 columns</p>\n",
       "</div>"
      ],
      "text/plain": [
       "     Temperatura Minima (C)  Temperatura Media (C)  Temperatura Maxima (C)  \\\n",
       "202                    12.8                  14.52                    16.1   \n",
       "183                    15.6                  17.52                    18.4   \n",
       "151                    15.2                  16.28                    18.0   \n",
       "169                    13.2                  14.66                    17.7   \n",
       "130                    15.7                  17.86                    20.6   \n",
       "..                      ...                    ...                     ...   \n",
       "303                    18.2                  23.18                    29.3   \n",
       "287                    18.9                  28.12                    35.8   \n",
       "10                     22.2                  27.62                    34.8   \n",
       "16                     22.0                  28.86                    35.8   \n",
       "9                      22.1                  26.76                    34.2   \n",
       "\n",
       "     Precipitacao (mm)  Final de Semana  Consumo de cerveja (litros)  \n",
       "202                0.0                0                        14343  \n",
       "183               17.8                0                        14940  \n",
       "151                2.2                0                        16228  \n",
       "169                3.8                0                        16748  \n",
       "130               22.2                0                        16956  \n",
       "..                 ...              ...                          ...  \n",
       "303                0.0                1                        35781  \n",
       "287                0.0                0                        35861  \n",
       "10                 3.4                1                        36254  \n",
       "16                 0.0                1                        37690  \n",
       "9                  0.0                1                        37937  \n",
       "\n",
       "[365 rows x 6 columns]"
      ]
     },
     "execution_count": 19,
     "metadata": {},
     "output_type": "execute_result"
    }
   ],
   "source": [
    "df.sort_values('Consumo de cerveja (litros)',ascending = True)"
   ]
  },
  {
   "cell_type": "markdown",
   "id": "cce8bc0d",
   "metadata": {},
   "source": [
    "### Verificando valores máximos dentro de uma coluna"
   ]
  },
  {
   "cell_type": "code",
   "execution_count": 20,
   "id": "18525bdb",
   "metadata": {},
   "outputs": [
    {
     "data": {
      "text/plain": [
       "36.5"
      ]
     },
     "execution_count": 20,
     "metadata": {},
     "output_type": "execute_result"
    }
   ],
   "source": [
    "df['Temperatura Maxima (C)'].max()"
   ]
  },
  {
   "cell_type": "markdown",
   "id": "ea0e218e",
   "metadata": {},
   "source": [
    "### Verificando valores mínimos dentro de uma coluna"
   ]
  },
  {
   "cell_type": "code",
   "execution_count": 21,
   "id": "52acd0de",
   "metadata": {},
   "outputs": [
    {
     "data": {
      "text/plain": [
       "10.6"
      ]
     },
     "execution_count": 21,
     "metadata": {},
     "output_type": "execute_result"
    }
   ],
   "source": [
    "df['Temperatura Minima (C)'].min()"
   ]
  },
  {
   "cell_type": "markdown",
   "id": "f53f0aa0",
   "metadata": {},
   "source": [
    "### Verificando a média de valores dentro de uma coluna"
   ]
  },
  {
   "cell_type": "code",
   "execution_count": 22,
   "id": "59cdd152",
   "metadata": {},
   "outputs": [
    {
     "data": {
      "text/plain": [
       "25401.36712328767"
      ]
     },
     "execution_count": 22,
     "metadata": {},
     "output_type": "execute_result"
    }
   ],
   "source": [
    "df['Consumo de cerveja (litros)'].mean()"
   ]
  },
  {
   "cell_type": "markdown",
   "id": "9dbd71c5",
   "metadata": {},
   "source": [
    "### Realizando a soma de uma coluna inteira"
   ]
  },
  {
   "cell_type": "code",
   "execution_count": 23,
   "id": "1531cf10",
   "metadata": {},
   "outputs": [
    {
     "data": {
      "text/plain": [
       "9271499"
      ]
     },
     "execution_count": 23,
     "metadata": {},
     "output_type": "execute_result"
    }
   ],
   "source": [
    "df['Consumo de cerveja (litros)'].sum()"
   ]
  },
  {
   "cell_type": "markdown",
   "id": "e173b4db",
   "metadata": {},
   "source": [
    "# loc e iloc\n",
    "\n",
    "* loc itera pela posição\n",
    "* iloc itera pelo index"
   ]
  },
  {
   "cell_type": "markdown",
   "id": "65f2c473",
   "metadata": {},
   "source": [
    "### Buscando por posição"
   ]
  },
  {
   "cell_type": "code",
   "execution_count": 24,
   "id": "0a7b903b",
   "metadata": {},
   "outputs": [
    {
     "data": {
      "text/plain": [
       "Temperatura Minima (C)            23.9\n",
       "Temperatura Media (C)             27.3\n",
       "Temperatura Maxima (C)            32.5\n",
       "Precipitacao (mm)                  0.0\n",
       "Final de Semana                    0.0\n",
       "Consumo de cerveja (litros)    25461.0\n",
       "Name: 0, dtype: float64"
      ]
     },
     "execution_count": 24,
     "metadata": {},
     "output_type": "execute_result"
    }
   ],
   "source": [
    "df.iloc[0]"
   ]
  },
  {
   "cell_type": "markdown",
   "id": "87532249",
   "metadata": {},
   "source": [
    "### Buscando por index"
   ]
  },
  {
   "cell_type": "code",
   "execution_count": 25,
   "id": "8c2ee203",
   "metadata": {},
   "outputs": [
    {
     "data": {
      "text/plain": [
       "Temperatura Minima (C)            23.9\n",
       "Temperatura Media (C)             27.3\n",
       "Temperatura Maxima (C)            32.5\n",
       "Precipitacao (mm)                  0.0\n",
       "Final de Semana                    0.0\n",
       "Consumo de cerveja (litros)    25461.0\n",
       "Name: 0, dtype: float64"
      ]
     },
     "execution_count": 25,
     "metadata": {},
     "output_type": "execute_result"
    }
   ],
   "source": [
    "df.loc[0]"
   ]
  },
  {
   "cell_type": "markdown",
   "id": "3060b711",
   "metadata": {},
   "source": [
    "### Buscando um intervalo"
   ]
  },
  {
   "cell_type": "code",
   "execution_count": 26,
   "id": "0e066c98",
   "metadata": {},
   "outputs": [
    {
     "data": {
      "text/html": [
       "<div>\n",
       "<style scoped>\n",
       "    .dataframe tbody tr th:only-of-type {\n",
       "        vertical-align: middle;\n",
       "    }\n",
       "\n",
       "    .dataframe tbody tr th {\n",
       "        vertical-align: top;\n",
       "    }\n",
       "\n",
       "    .dataframe thead th {\n",
       "        text-align: right;\n",
       "    }\n",
       "</style>\n",
       "<table border=\"1\" class=\"dataframe\">\n",
       "  <thead>\n",
       "    <tr style=\"text-align: right;\">\n",
       "      <th></th>\n",
       "      <th>Temperatura Minima (C)</th>\n",
       "      <th>Temperatura Media (C)</th>\n",
       "      <th>Temperatura Maxima (C)</th>\n",
       "      <th>Precipitacao (mm)</th>\n",
       "      <th>Final de Semana</th>\n",
       "      <th>Consumo de cerveja (litros)</th>\n",
       "    </tr>\n",
       "  </thead>\n",
       "  <tbody>\n",
       "    <tr>\n",
       "      <th>38</th>\n",
       "      <td>17.1</td>\n",
       "      <td>22.76</td>\n",
       "      <td>29.5</td>\n",
       "      <td>10.4</td>\n",
       "      <td>1</td>\n",
       "      <td>29926</td>\n",
       "    </tr>\n",
       "    <tr>\n",
       "      <th>39</th>\n",
       "      <td>19.3</td>\n",
       "      <td>24.00</td>\n",
       "      <td>30.7</td>\n",
       "      <td>0.0</td>\n",
       "      <td>0</td>\n",
       "      <td>24062</td>\n",
       "    </tr>\n",
       "    <tr>\n",
       "      <th>40</th>\n",
       "      <td>20.1</td>\n",
       "      <td>23.92</td>\n",
       "      <td>29.0</td>\n",
       "      <td>32.2</td>\n",
       "      <td>0</td>\n",
       "      <td>21137</td>\n",
       "    </tr>\n",
       "    <tr>\n",
       "      <th>41</th>\n",
       "      <td>19.9</td>\n",
       "      <td>25.38</td>\n",
       "      <td>30.4</td>\n",
       "      <td>2.2</td>\n",
       "      <td>0</td>\n",
       "      <td>26805</td>\n",
       "    </tr>\n",
       "  </tbody>\n",
       "</table>\n",
       "</div>"
      ],
      "text/plain": [
       "    Temperatura Minima (C)  Temperatura Media (C)  Temperatura Maxima (C)  \\\n",
       "38                    17.1                  22.76                    29.5   \n",
       "39                    19.3                  24.00                    30.7   \n",
       "40                    20.1                  23.92                    29.0   \n",
       "41                    19.9                  25.38                    30.4   \n",
       "\n",
       "    Precipitacao (mm)  Final de Semana  Consumo de cerveja (litros)  \n",
       "38               10.4                1                        29926  \n",
       "39                0.0                0                        24062  \n",
       "40               32.2                0                        21137  \n",
       "41                2.2                0                        26805  "
      ]
     },
     "execution_count": 26,
     "metadata": {},
     "output_type": "execute_result"
    }
   ],
   "source": [
    "df.iloc[38:42]"
   ]
  },
  {
   "cell_type": "markdown",
   "id": "56c9ffa3",
   "metadata": {},
   "source": [
    "# Mascaras"
   ]
  },
  {
   "cell_type": "code",
   "execution_count": 27,
   "id": "5bbd24f8",
   "metadata": {},
   "outputs": [],
   "source": [
    "mask = df['Final de Semana'] == 1"
   ]
  },
  {
   "cell_type": "code",
   "execution_count": 28,
   "id": "7b93f71a",
   "metadata": {},
   "outputs": [
    {
     "data": {
      "text/html": [
       "<div>\n",
       "<style scoped>\n",
       "    .dataframe tbody tr th:only-of-type {\n",
       "        vertical-align: middle;\n",
       "    }\n",
       "\n",
       "    .dataframe tbody tr th {\n",
       "        vertical-align: top;\n",
       "    }\n",
       "\n",
       "    .dataframe thead th {\n",
       "        text-align: right;\n",
       "    }\n",
       "</style>\n",
       "<table border=\"1\" class=\"dataframe\">\n",
       "  <thead>\n",
       "    <tr style=\"text-align: right;\">\n",
       "      <th></th>\n",
       "      <th>Temperatura Minima (C)</th>\n",
       "      <th>Temperatura Media (C)</th>\n",
       "      <th>Temperatura Maxima (C)</th>\n",
       "      <th>Precipitacao (mm)</th>\n",
       "      <th>Final de Semana</th>\n",
       "      <th>Consumo de cerveja (litros)</th>\n",
       "    </tr>\n",
       "  </thead>\n",
       "  <tbody>\n",
       "    <tr>\n",
       "      <th>2</th>\n",
       "      <td>22.4</td>\n",
       "      <td>24.82</td>\n",
       "      <td>29.9</td>\n",
       "      <td>0.0</td>\n",
       "      <td>1</td>\n",
       "      <td>30814</td>\n",
       "    </tr>\n",
       "    <tr>\n",
       "      <th>3</th>\n",
       "      <td>21.5</td>\n",
       "      <td>23.98</td>\n",
       "      <td>28.6</td>\n",
       "      <td>1.2</td>\n",
       "      <td>1</td>\n",
       "      <td>29799</td>\n",
       "    </tr>\n",
       "    <tr>\n",
       "      <th>9</th>\n",
       "      <td>22.1</td>\n",
       "      <td>26.76</td>\n",
       "      <td>34.2</td>\n",
       "      <td>0.0</td>\n",
       "      <td>1</td>\n",
       "      <td>37937</td>\n",
       "    </tr>\n",
       "    <tr>\n",
       "      <th>10</th>\n",
       "      <td>22.2</td>\n",
       "      <td>27.62</td>\n",
       "      <td>34.8</td>\n",
       "      <td>3.4</td>\n",
       "      <td>1</td>\n",
       "      <td>36254</td>\n",
       "    </tr>\n",
       "    <tr>\n",
       "      <th>16</th>\n",
       "      <td>22.0</td>\n",
       "      <td>28.86</td>\n",
       "      <td>35.8</td>\n",
       "      <td>0.0</td>\n",
       "      <td>1</td>\n",
       "      <td>37690</td>\n",
       "    </tr>\n",
       "  </tbody>\n",
       "</table>\n",
       "</div>"
      ],
      "text/plain": [
       "    Temperatura Minima (C)  Temperatura Media (C)  Temperatura Maxima (C)  \\\n",
       "2                     22.4                  24.82                    29.9   \n",
       "3                     21.5                  23.98                    28.6   \n",
       "9                     22.1                  26.76                    34.2   \n",
       "10                    22.2                  27.62                    34.8   \n",
       "16                    22.0                  28.86                    35.8   \n",
       "\n",
       "    Precipitacao (mm)  Final de Semana  Consumo de cerveja (litros)  \n",
       "2                 0.0                1                        30814  \n",
       "3                 1.2                1                        29799  \n",
       "9                 0.0                1                        37937  \n",
       "10                3.4                1                        36254  \n",
       "16                0.0                1                        37690  "
      ]
     },
     "execution_count": 28,
     "metadata": {},
     "output_type": "execute_result"
    }
   ],
   "source": [
    "df[mask].head()"
   ]
  },
  {
   "cell_type": "code",
   "execution_count": 29,
   "id": "78539e5e",
   "metadata": {},
   "outputs": [],
   "source": [
    "mask = df['Temperatura Maxima (C)'] >25"
   ]
  },
  {
   "cell_type": "code",
   "execution_count": 30,
   "id": "b557038e",
   "metadata": {},
   "outputs": [
    {
     "data": {
      "text/html": [
       "<div>\n",
       "<style scoped>\n",
       "    .dataframe tbody tr th:only-of-type {\n",
       "        vertical-align: middle;\n",
       "    }\n",
       "\n",
       "    .dataframe tbody tr th {\n",
       "        vertical-align: top;\n",
       "    }\n",
       "\n",
       "    .dataframe thead th {\n",
       "        text-align: right;\n",
       "    }\n",
       "</style>\n",
       "<table border=\"1\" class=\"dataframe\">\n",
       "  <thead>\n",
       "    <tr style=\"text-align: right;\">\n",
       "      <th></th>\n",
       "      <th>Temperatura Minima (C)</th>\n",
       "      <th>Temperatura Media (C)</th>\n",
       "      <th>Temperatura Maxima (C)</th>\n",
       "      <th>Precipitacao (mm)</th>\n",
       "      <th>Final de Semana</th>\n",
       "      <th>Consumo de cerveja (litros)</th>\n",
       "    </tr>\n",
       "  </thead>\n",
       "  <tbody>\n",
       "    <tr>\n",
       "      <th>0</th>\n",
       "      <td>23.9</td>\n",
       "      <td>27.30</td>\n",
       "      <td>32.5</td>\n",
       "      <td>0.0</td>\n",
       "      <td>0</td>\n",
       "      <td>25461</td>\n",
       "    </tr>\n",
       "    <tr>\n",
       "      <th>1</th>\n",
       "      <td>24.5</td>\n",
       "      <td>27.02</td>\n",
       "      <td>33.5</td>\n",
       "      <td>0.0</td>\n",
       "      <td>0</td>\n",
       "      <td>28972</td>\n",
       "    </tr>\n",
       "    <tr>\n",
       "      <th>2</th>\n",
       "      <td>22.4</td>\n",
       "      <td>24.82</td>\n",
       "      <td>29.9</td>\n",
       "      <td>0.0</td>\n",
       "      <td>1</td>\n",
       "      <td>30814</td>\n",
       "    </tr>\n",
       "    <tr>\n",
       "      <th>3</th>\n",
       "      <td>21.5</td>\n",
       "      <td>23.98</td>\n",
       "      <td>28.6</td>\n",
       "      <td>1.2</td>\n",
       "      <td>1</td>\n",
       "      <td>29799</td>\n",
       "    </tr>\n",
       "    <tr>\n",
       "      <th>4</th>\n",
       "      <td>21.0</td>\n",
       "      <td>23.82</td>\n",
       "      <td>28.3</td>\n",
       "      <td>0.0</td>\n",
       "      <td>0</td>\n",
       "      <td>28900</td>\n",
       "    </tr>\n",
       "  </tbody>\n",
       "</table>\n",
       "</div>"
      ],
      "text/plain": [
       "   Temperatura Minima (C)  Temperatura Media (C)  Temperatura Maxima (C)  \\\n",
       "0                    23.9                  27.30                    32.5   \n",
       "1                    24.5                  27.02                    33.5   \n",
       "2                    22.4                  24.82                    29.9   \n",
       "3                    21.5                  23.98                    28.6   \n",
       "4                    21.0                  23.82                    28.3   \n",
       "\n",
       "   Precipitacao (mm)  Final de Semana  Consumo de cerveja (litros)  \n",
       "0                0.0                0                        25461  \n",
       "1                0.0                0                        28972  \n",
       "2                0.0                1                        30814  \n",
       "3                1.2                1                        29799  \n",
       "4                0.0                0                        28900  "
      ]
     },
     "execution_count": 30,
     "metadata": {},
     "output_type": "execute_result"
    }
   ],
   "source": [
    "df[mask].head()"
   ]
  },
  {
   "cell_type": "markdown",
   "id": "cc8147ca",
   "metadata": {},
   "source": [
    "# Groupby"
   ]
  },
  {
   "cell_type": "code",
   "execution_count": 31,
   "id": "2bace002",
   "metadata": {},
   "outputs": [
    {
     "data": {
      "text/html": [
       "<div>\n",
       "<style scoped>\n",
       "    .dataframe tbody tr th:only-of-type {\n",
       "        vertical-align: middle;\n",
       "    }\n",
       "\n",
       "    .dataframe tbody tr th {\n",
       "        vertical-align: top;\n",
       "    }\n",
       "\n",
       "    .dataframe thead th {\n",
       "        text-align: right;\n",
       "    }\n",
       "</style>\n",
       "<table border=\"1\" class=\"dataframe\">\n",
       "  <thead>\n",
       "    <tr style=\"text-align: right;\">\n",
       "      <th></th>\n",
       "      <th>Temperatura Minima (C)</th>\n",
       "      <th>Temperatura Media (C)</th>\n",
       "      <th>Temperatura Maxima (C)</th>\n",
       "      <th>Precipitacao (mm)</th>\n",
       "      <th>Consumo de cerveja (litros)</th>\n",
       "    </tr>\n",
       "    <tr>\n",
       "      <th>Final de Semana</th>\n",
       "      <th></th>\n",
       "      <th></th>\n",
       "      <th></th>\n",
       "      <th></th>\n",
       "      <th></th>\n",
       "    </tr>\n",
       "  </thead>\n",
       "  <tbody>\n",
       "    <tr>\n",
       "      <th>0</th>\n",
       "      <td>17.567433</td>\n",
       "      <td>21.328199</td>\n",
       "      <td>26.721073</td>\n",
       "      <td>5.184291</td>\n",
       "      <td>23998.222222</td>\n",
       "    </tr>\n",
       "    <tr>\n",
       "      <th>1</th>\n",
       "      <td>17.195192</td>\n",
       "      <td>20.970769</td>\n",
       "      <td>26.336538</td>\n",
       "      <td>5.227885</td>\n",
       "      <td>28922.721154</td>\n",
       "    </tr>\n",
       "  </tbody>\n",
       "</table>\n",
       "</div>"
      ],
      "text/plain": [
       "                 Temperatura Minima (C)  Temperatura Media (C)  \\\n",
       "Final de Semana                                                  \n",
       "0                             17.567433              21.328199   \n",
       "1                             17.195192              20.970769   \n",
       "\n",
       "                 Temperatura Maxima (C)  Precipitacao (mm)  \\\n",
       "Final de Semana                                              \n",
       "0                             26.721073           5.184291   \n",
       "1                             26.336538           5.227885   \n",
       "\n",
       "                 Consumo de cerveja (litros)  \n",
       "Final de Semana                               \n",
       "0                               23998.222222  \n",
       "1                               28922.721154  "
      ]
     },
     "execution_count": 31,
     "metadata": {},
     "output_type": "execute_result"
    }
   ],
   "source": [
    "df.groupby(by = 'Final de Semana').mean()"
   ]
  },
  {
   "cell_type": "markdown",
   "id": "d3b52293",
   "metadata": {},
   "source": [
    "# Plotando gráficos"
   ]
  },
  {
   "cell_type": "markdown",
   "id": "d09a65be",
   "metadata": {},
   "source": [
    "### Histogramas com pandas"
   ]
  },
  {
   "cell_type": "code",
   "execution_count": 32,
   "id": "b1a4cc8c",
   "metadata": {},
   "outputs": [
    {
     "data": {
      "text/plain": [
       "array([[<AxesSubplot:title={'center':'Temperatura Maxima (C)'}>]],\n",
       "      dtype=object)"
      ]
     },
     "execution_count": 32,
     "metadata": {},
     "output_type": "execute_result"
    },
    {
     "data": {
      "image/png": "[encoded data removed]",
      "text/plain": [
       "<Figure size 640x480 with 1 Axes>"
      ]
     },
     "metadata": {},
     "output_type": "display_data"
    }
   ],
   "source": [
    "df.hist('Temperatura Maxima (C)')"
   ]
  },
  {
   "cell_type": "markdown",
   "id": "75c34150",
   "metadata": {},
   "source": [
    "### Com seaborn"
   ]
  },
  {
   "cell_type": "code",
   "execution_count": 33,
   "id": "11a0a581",
   "metadata": {},
   "outputs": [],
   "source": [
    "import seaborn as sns"
   ]
  },
  {
   "cell_type": "markdown",
   "id": "1e48daa0",
   "metadata": {},
   "source": [
    "#### Variáveis categóricas"
   ]
  },
  {
   "cell_type": "code",
   "execution_count": 47,
   "id": "aaf66519",
   "metadata": {
    "scrolled": false
   },
   "outputs": [
    {
     "data": {
      "text/plain": [
       "<seaborn.axisgrid.FacetGrid at 0x199c8c94280>"
      ]
     },
     "execution_count": 47,
     "metadata": {},
     "output_type": "execute_result"
    },
    {
     "data": {
      "image/png": "[encoded data removed]",
      "text/plain": [
       "<Figure size 500x500 with 1 Axes>"
      ]
     },
     "metadata": {},
     "output_type": "display_data"
    }
   ],
   "source": [
    "sns.catplot(x=\"Final de Semana\", kind=\"count\", data=df)"
   ]
  },
  {
   "cell_type": "code",
   "execution_count": null,
   "id": "0d15c634",
   "metadata": {},
   "outputs": [],
   "source": []
  },
  {
   "cell_type": "markdown",
   "id": "efe1be78",
   "metadata": {},
   "source": [
    "#### Gráficos de barras"
   ]
  },
  {
   "cell_type": "code",
   "execution_count": 35,
   "id": "6e39b33d",
   "metadata": {
    "scrolled": false
   },
   "outputs": [
    {
     "data": {
      "text/plain": [
       "<AxesSubplot:xlabel='Final de Semana', ylabel='Consumo de cerveja (litros)'>"
      ]
     },
     "execution_count": 35,
     "metadata": {},
     "output_type": "execute_result"
    },
    {
     "data": {
      "image/png": "[encoded data removed]",
      "text/plain": [
       "<Figure size 640x480 with 1 Axes>"
      ]
     },
     "metadata": {},
     "output_type": "display_data"
    }
   ],
   "source": [
    "sns.barplot(x=\"Final de Semana\", y='Consumo de cerveja (litros)', data=df)"
   ]
  },
  {
   "cell_type": "markdown",
   "id": "bdb9a233",
   "metadata": {},
   "source": [
    "#### Gráficos de dispersão "
   ]
  },
  {
   "cell_type": "code",
   "execution_count": 36,
   "id": "710731eb",
   "metadata": {},
   "outputs": [
    {
     "data": {
      "text/plain": [
       "<AxesSubplot:xlabel='Temperatura Maxima (C)', ylabel='Consumo de cerveja (litros)'>"
      ]
     },
     "execution_count": 36,
     "metadata": {},
     "output_type": "execute_result"
    },
    {
     "data": {
      "image/png": "[encoded data removed]",
      "text/plain": [
       "<Figure size 640x480 with 1 Axes>"
      ]
     },
     "metadata": {},
     "output_type": "display_data"
    }
   ],
   "source": [
    "#Plotando a dispersão da varíavel \"Temperatura Maxima\" em relação a variável \"Consumo de Cerveja\"\n",
    "sns.scatterplot(data=df, x=\"Temperatura Maxima (C)\", y=\"Consumo de cerveja (litros)\")"
   ]
  },
  {
   "cell_type": "markdown",
   "id": "23711719",
   "metadata": {},
   "source": [
    "# Substituindo valores"
   ]
  },
  {
   "cell_type": "code",
   "execution_count": 37,
   "id": "6c58730c",
   "metadata": {},
   "outputs": [
    {
     "data": {
      "text/html": [
       "<div>\n",
       "<style scoped>\n",
       "    .dataframe tbody tr th:only-of-type {\n",
       "        vertical-align: middle;\n",
       "    }\n",
       "\n",
       "    .dataframe tbody tr th {\n",
       "        vertical-align: top;\n",
       "    }\n",
       "\n",
       "    .dataframe thead th {\n",
       "        text-align: right;\n",
       "    }\n",
       "</style>\n",
       "<table border=\"1\" class=\"dataframe\">\n",
       "  <thead>\n",
       "    <tr style=\"text-align: right;\">\n",
       "      <th></th>\n",
       "      <th>Temperatura Minima (C)</th>\n",
       "      <th>Temperatura Media (C)</th>\n",
       "      <th>Temperatura Maxima (C)</th>\n",
       "      <th>Precipitacao (mm)</th>\n",
       "      <th>Final de Semana</th>\n",
       "      <th>Consumo de cerveja (litros)</th>\n",
       "    </tr>\n",
       "  </thead>\n",
       "  <tbody>\n",
       "    <tr>\n",
       "      <th>0</th>\n",
       "      <td>23.9</td>\n",
       "      <td>27.30</td>\n",
       "      <td>32.5</td>\n",
       "      <td>0.0</td>\n",
       "      <td>0</td>\n",
       "      <td>25461</td>\n",
       "    </tr>\n",
       "    <tr>\n",
       "      <th>1</th>\n",
       "      <td>24.5</td>\n",
       "      <td>27.02</td>\n",
       "      <td>33.5</td>\n",
       "      <td>0.0</td>\n",
       "      <td>0</td>\n",
       "      <td>28972</td>\n",
       "    </tr>\n",
       "    <tr>\n",
       "      <th>2</th>\n",
       "      <td>22.4</td>\n",
       "      <td>24.82</td>\n",
       "      <td>29.9</td>\n",
       "      <td>0.0</td>\n",
       "      <td>1</td>\n",
       "      <td>30814</td>\n",
       "    </tr>\n",
       "    <tr>\n",
       "      <th>3</th>\n",
       "      <td>21.5</td>\n",
       "      <td>23.98</td>\n",
       "      <td>28.6</td>\n",
       "      <td>1.2</td>\n",
       "      <td>1</td>\n",
       "      <td>29799</td>\n",
       "    </tr>\n",
       "    <tr>\n",
       "      <th>4</th>\n",
       "      <td>21.0</td>\n",
       "      <td>23.82</td>\n",
       "      <td>28.3</td>\n",
       "      <td>0.0</td>\n",
       "      <td>0</td>\n",
       "      <td>28900</td>\n",
       "    </tr>\n",
       "  </tbody>\n",
       "</table>\n",
       "</div>"
      ],
      "text/plain": [
       "   Temperatura Minima (C)  Temperatura Media (C)  Temperatura Maxima (C)  \\\n",
       "0                    23.9                  27.30                    32.5   \n",
       "1                    24.5                  27.02                    33.5   \n",
       "2                    22.4                  24.82                    29.9   \n",
       "3                    21.5                  23.98                    28.6   \n",
       "4                    21.0                  23.82                    28.3   \n",
       "\n",
       "   Precipitacao (mm)  Final de Semana  Consumo de cerveja (litros)  \n",
       "0                0.0                0                        25461  \n",
       "1                0.0                0                        28972  \n",
       "2                0.0                1                        30814  \n",
       "3                1.2                1                        29799  \n",
       "4                0.0                0                        28900  "
      ]
     },
     "execution_count": 37,
     "metadata": {},
     "output_type": "execute_result"
    }
   ],
   "source": [
    "df.head()"
   ]
  },
  {
   "cell_type": "code",
   "execution_count": 38,
   "id": "d4e922a5",
   "metadata": {},
   "outputs": [],
   "source": [
    "df.at[0,'Final de Semana'] = 1"
   ]
  },
  {
   "cell_type": "code",
   "execution_count": 39,
   "id": "cd684450",
   "metadata": {},
   "outputs": [
    {
     "data": {
      "text/html": [
       "<div>\n",
       "<style scoped>\n",
       "    .dataframe tbody tr th:only-of-type {\n",
       "        vertical-align: middle;\n",
       "    }\n",
       "\n",
       "    .dataframe tbody tr th {\n",
       "        vertical-align: top;\n",
       "    }\n",
       "\n",
       "    .dataframe thead th {\n",
       "        text-align: right;\n",
       "    }\n",
       "</style>\n",
       "<table border=\"1\" class=\"dataframe\">\n",
       "  <thead>\n",
       "    <tr style=\"text-align: right;\">\n",
       "      <th></th>\n",
       "      <th>Temperatura Minima (C)</th>\n",
       "      <th>Temperatura Media (C)</th>\n",
       "      <th>Temperatura Maxima (C)</th>\n",
       "      <th>Precipitacao (mm)</th>\n",
       "      <th>Final de Semana</th>\n",
       "      <th>Consumo de cerveja (litros)</th>\n",
       "    </tr>\n",
       "  </thead>\n",
       "  <tbody>\n",
       "    <tr>\n",
       "      <th>0</th>\n",
       "      <td>23.9</td>\n",
       "      <td>27.30</td>\n",
       "      <td>32.5</td>\n",
       "      <td>0.0</td>\n",
       "      <td>1</td>\n",
       "      <td>25461</td>\n",
       "    </tr>\n",
       "    <tr>\n",
       "      <th>1</th>\n",
       "      <td>24.5</td>\n",
       "      <td>27.02</td>\n",
       "      <td>33.5</td>\n",
       "      <td>0.0</td>\n",
       "      <td>0</td>\n",
       "      <td>28972</td>\n",
       "    </tr>\n",
       "    <tr>\n",
       "      <th>2</th>\n",
       "      <td>22.4</td>\n",
       "      <td>24.82</td>\n",
       "      <td>29.9</td>\n",
       "      <td>0.0</td>\n",
       "      <td>1</td>\n",
       "      <td>30814</td>\n",
       "    </tr>\n",
       "    <tr>\n",
       "      <th>3</th>\n",
       "      <td>21.5</td>\n",
       "      <td>23.98</td>\n",
       "      <td>28.6</td>\n",
       "      <td>1.2</td>\n",
       "      <td>1</td>\n",
       "      <td>29799</td>\n",
       "    </tr>\n",
       "    <tr>\n",
       "      <th>4</th>\n",
       "      <td>21.0</td>\n",
       "      <td>23.82</td>\n",
       "      <td>28.3</td>\n",
       "      <td>0.0</td>\n",
       "      <td>0</td>\n",
       "      <td>28900</td>\n",
       "    </tr>\n",
       "  </tbody>\n",
       "</table>\n",
       "</div>"
      ],
      "text/plain": [
       "   Temperatura Minima (C)  Temperatura Media (C)  Temperatura Maxima (C)  \\\n",
       "0                    23.9                  27.30                    32.5   \n",
       "1                    24.5                  27.02                    33.5   \n",
       "2                    22.4                  24.82                    29.9   \n",
       "3                    21.5                  23.98                    28.6   \n",
       "4                    21.0                  23.82                    28.3   \n",
       "\n",
       "   Precipitacao (mm)  Final de Semana  Consumo de cerveja (litros)  \n",
       "0                0.0                1                        25461  \n",
       "1                0.0                0                        28972  \n",
       "2                0.0                1                        30814  \n",
       "3                1.2                1                        29799  \n",
       "4                0.0                0                        28900  "
      ]
     },
     "execution_count": 39,
     "metadata": {},
     "output_type": "execute_result"
    }
   ],
   "source": [
    "df.head()"
   ]
  },
  {
   "cell_type": "markdown",
   "id": "2e9dd148",
   "metadata": {},
   "source": [
    "# Correlacionando variáveis"
   ]
  },
  {
   "cell_type": "code",
   "execution_count": 40,
   "id": "ef5f47ea",
   "metadata": {},
   "outputs": [
    {
     "data": {
      "text/html": [
       "<div>\n",
       "<style scoped>\n",
       "    .dataframe tbody tr th:only-of-type {\n",
       "        vertical-align: middle;\n",
       "    }\n",
       "\n",
       "    .dataframe tbody tr th {\n",
       "        vertical-align: top;\n",
       "    }\n",
       "\n",
       "    .dataframe thead th {\n",
       "        text-align: right;\n",
       "    }\n",
       "</style>\n",
       "<table border=\"1\" class=\"dataframe\">\n",
       "  <thead>\n",
       "    <tr style=\"text-align: right;\">\n",
       "      <th></th>\n",
       "      <th>Temperatura Minima (C)</th>\n",
       "      <th>Temperatura Media (C)</th>\n",
       "      <th>Temperatura Maxima (C)</th>\n",
       "      <th>Precipitacao (mm)</th>\n",
       "      <th>Final de Semana</th>\n",
       "      <th>Consumo de cerveja (litros)</th>\n",
       "    </tr>\n",
       "  </thead>\n",
       "  <tbody>\n",
       "    <tr>\n",
       "      <th>Temperatura Minima (C)</th>\n",
       "      <td>1.000000</td>\n",
       "      <td>0.862752</td>\n",
       "      <td>0.672929</td>\n",
       "      <td>0.098625</td>\n",
       "      <td>-0.045556</td>\n",
       "      <td>0.392509</td>\n",
       "    </tr>\n",
       "    <tr>\n",
       "      <th>Temperatura Media (C)</th>\n",
       "      <td>0.862752</td>\n",
       "      <td>1.000000</td>\n",
       "      <td>0.922513</td>\n",
       "      <td>0.024416</td>\n",
       "      <td>-0.039083</td>\n",
       "      <td>0.574615</td>\n",
       "    </tr>\n",
       "    <tr>\n",
       "      <th>Temperatura Maxima (C)</th>\n",
       "      <td>0.672929</td>\n",
       "      <td>0.922513</td>\n",
       "      <td>1.000000</td>\n",
       "      <td>-0.049305</td>\n",
       "      <td>-0.031877</td>\n",
       "      <td>0.642672</td>\n",
       "    </tr>\n",
       "    <tr>\n",
       "      <th>Precipitacao (mm)</th>\n",
       "      <td>0.098625</td>\n",
       "      <td>0.024416</td>\n",
       "      <td>-0.049305</td>\n",
       "      <td>1.000000</td>\n",
       "      <td>-0.000954</td>\n",
       "      <td>-0.193784</td>\n",
       "    </tr>\n",
       "    <tr>\n",
       "      <th>Final de Semana</th>\n",
       "      <td>-0.045556</td>\n",
       "      <td>-0.039083</td>\n",
       "      <td>-0.031877</td>\n",
       "      <td>-0.000954</td>\n",
       "      <td>1.000000</td>\n",
       "      <td>0.504615</td>\n",
       "    </tr>\n",
       "    <tr>\n",
       "      <th>Consumo de cerveja (litros)</th>\n",
       "      <td>0.392509</td>\n",
       "      <td>0.574615</td>\n",
       "      <td>0.642672</td>\n",
       "      <td>-0.193784</td>\n",
       "      <td>0.504615</td>\n",
       "      <td>1.000000</td>\n",
       "    </tr>\n",
       "  </tbody>\n",
       "</table>\n",
       "</div>"
      ],
      "text/plain": [
       "                             Temperatura Minima (C)  Temperatura Media (C)  \\\n",
       "Temperatura Minima (C)                     1.000000               0.862752   \n",
       "Temperatura Media (C)                      0.862752               1.000000   \n",
       "Temperatura Maxima (C)                     0.672929               0.922513   \n",
       "Precipitacao (mm)                          0.098625               0.024416   \n",
       "Final de Semana                           -0.045556              -0.039083   \n",
       "Consumo de cerveja (litros)                0.392509               0.574615   \n",
       "\n",
       "                             Temperatura Maxima (C)  Precipitacao (mm)  \\\n",
       "Temperatura Minima (C)                     0.672929           0.098625   \n",
       "Temperatura Media (C)                      0.922513           0.024416   \n",
       "Temperatura Maxima (C)                     1.000000          -0.049305   \n",
       "Precipitacao (mm)                         -0.049305           1.000000   \n",
       "Final de Semana                           -0.031877          -0.000954   \n",
       "Consumo de cerveja (litros)                0.642672          -0.193784   \n",
       "\n",
       "                             Final de Semana  Consumo de cerveja (litros)  \n",
       "Temperatura Minima (C)             -0.045556                     0.392509  \n",
       "Temperatura Media (C)              -0.039083                     0.574615  \n",
       "Temperatura Maxima (C)             -0.031877                     0.642672  \n",
       "Precipitacao (mm)                  -0.000954                    -0.193784  \n",
       "Final de Semana                     1.000000                     0.504615  \n",
       "Consumo de cerveja (litros)         0.504615                     1.000000  "
      ]
     },
     "execution_count": 40,
     "metadata": {},
     "output_type": "execute_result"
    }
   ],
   "source": [
    "#Verificando as correlações entre as variáveis\n",
    "df_corr = df.corr(method = 'pearson')\n",
    "df_corr"
   ]
  },
  {
   "cell_type": "markdown",
   "id": "350f190b",
   "metadata": {},
   "source": [
    "### Com mapa de calor"
   ]
  },
  {
   "cell_type": "code",
   "execution_count": 41,
   "id": "e2ddce3b",
   "metadata": {},
   "outputs": [
    {
     "data": {
      "text/plain": [
       "<AxesSubplot:>"
      ]
     },
     "execution_count": 41,
     "metadata": {},
     "output_type": "execute_result"
    },
    {
     "data": {
      "image/png": "[encoded data removed]",
      "text/plain": [
       "<Figure size 640x480 with 2 Axes>"
      ]
     },
     "metadata": {},
     "output_type": "display_data"
    }
   ],
   "source": [
    "#Verificando o heatmap de correlação entre as variáveis \n",
    "sns.heatmap(df_corr)"
   ]
  },
  {
   "cell_type": "code",
   "execution_count": null,
   "id": "ffbd71e2",
   "metadata": {},
   "outputs": [],
   "source": []
  }
 ],
 "metadata": {
  "kernelspec": {
   "display_name": "Python 3 (ipykernel)",
   "language": "python",
   "name": "python3"
  },
  "language_info": {
   "codemirror_mode": {
    "name": "ipython",
    "version": 3
   },
   "file_extension": ".py",
   "mimetype": "text/x-python",
   "name": "python",
   "nbconvert_exporter": "python",
   "pygments_lexer": "ipython3",
   "version": "3.9.13"
  }
 },
 "nbformat": 4,
 "nbformat_minor": 5
}
