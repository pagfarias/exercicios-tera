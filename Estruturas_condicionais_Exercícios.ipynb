{
  "nbformat": 4,
  "nbformat_minor": 0,
  "metadata": {
    "colab": {
      "provenance": [],
      "include_colab_link": true
    },
    "kernelspec": {
      "name": "python3",
      "display_name": "Python 3"
    },
    "language_info": {
      "name": "python"
    }
  },
  "cells": [
    {
      "cell_type": "markdown",
      "metadata": {
        "id": "view-in-github",
        "colab_type": "text"
      },
      "source": [
        "<a href=\"https://colab.research.google.com/github/pagfarias/exercicios-tera/blob/main/Estruturas_condicionais_Exerc%C3%ADcios.ipynb\" target=\"_parent\"><img src=\"https://colab.research.google.com/assets/colab-badge.svg\" alt=\"Open In Colab\"/></a>"
      ]
    },
    {
      "cell_type": "markdown",
      "metadata": {
        "id": "lCl6XzOTX5hd"
      },
      "source": [
        "# Estruturas condicionais - Exercícios"
      ]
    },
    {
      "cell_type": "markdown",
      "metadata": {
        "id": "awYL3XIw7jH0"
      },
      "source": [
        "### Crie uma estrutura condicional que receba como entrada um número e que responda se este número é múltiplo de 3"
      ]
    },
    {
      "cell_type": "code",
      "metadata": {
        "id": "wZPT_WNn7eGH"
      },
      "source": [
        "#Rode esse código primeiro\n",
        "numero = 11"
      ],
      "execution_count": null,
      "outputs": []
    },
    {
      "cell_type": "code",
      "metadata": {
        "id": "ues0zo2d8DZY"
      },
      "source": [
        "#Escreva o seu código aqui\n"
      ],
      "execution_count": null,
      "outputs": []
    },
    {
      "cell_type": "code",
      "metadata": {
        "id": "gcIlo-eL8Lkn"
      },
      "source": [
        "#@title  { display-mode: \"form\" }\n",
        "if numero%3 == 0:\n",
        "  print('é múltplo de 3')\n",
        "else:\n",
        "  print('não é múltiplo de 3')"
      ],
      "execution_count": null,
      "outputs": []
    },
    {
      "cell_type": "markdown",
      "metadata": {
        "id": "uFSysNly7ikC"
      },
      "source": [
        "### Crie uma estrutura condicional que receba como entrada um horário (0-24h) e que retorne:\n",
        "*   \"Bom dia\", se o horário estiver entre 6h-12h\n",
        "*   \"Boa tarde\", se o horário estiver entre 13h-18h\n",
        "*   \"Boa noite\", se o horário estiver entre 19h-24h\n",
        "*   \"Ainda é de madrugada\", caso contrário\n",
        "\n",
        "**dica:** para verificar se um número está entre outros dois você pode usar o seguinte formato `if 10 <= numero <= 20`. Aqui estamos verificando se a variável número está entre 10 e 10\n"
      ]
    },
    {
      "cell_type": "code",
      "metadata": {
        "id": "S3YLk84R9HXz"
      },
      "source": [
        "#Rode esse código primeiro\n",
        "hora = 10"
      ],
      "execution_count": null,
      "outputs": []
    },
    {
      "cell_type": "code",
      "metadata": {
        "id": "7TNgH97b9Mfu"
      },
      "source": [
        "# Escreva seu código aqui \n"
      ],
      "execution_count": null,
      "outputs": []
    },
    {
      "cell_type": "code",
      "metadata": {
        "id": "9BNb988s9i03"
      },
      "source": [
        "#@title  { display-mode: \"form\" }\n",
        "if 6 <= hora <= 12:\n",
        "  print(\"Bom dia\")\n",
        "elif 13 <= hora <= 18:\n",
        "  print(\"Boa tarde\")\n",
        "elif 19 <= hora <= 24:\n",
        "  print(\"Boa noite\")\n",
        "else:\n",
        "  print(\"Ainda é de madrugada\")"
      ],
      "execution_count": null,
      "outputs": []
    },
    {
      "cell_type": "markdown",
      "metadata": {
        "id": "MaSbC1vRAhxj"
      },
      "source": [
        "### (Desafio). Crie uma estrutura condicional que receba como entrada um ano e que retorne se esse ano é bissexto ou não\n",
        "\n",
        "**Regras**\n",
        "1. Todo ano divisível por 4 é bissexto\n",
        "2. Todo ano divisível por 100 não é ano bissexto\n",
        "3. Mas se o ano for divisível por 400 é ano bissexto\n"
      ]
    },
    {
      "cell_type": "code",
      "metadata": {
        "id": "F11MuihqA21Z"
      },
      "source": [
        "#Rode esse código primeiro\n",
        "ano = 1998"
      ],
      "execution_count": null,
      "outputs": []
    },
    {
      "cell_type": "code",
      "metadata": {
        "id": "zE84qHt3BA-1"
      },
      "source": [
        "# Escreva seu código aqui \n"
      ],
      "execution_count": null,
      "outputs": []
    },
    {
      "cell_type": "code",
      "metadata": {
        "id": "SrUcMN9bBAnZ"
      },
      "source": [
        "#@title  { display-mode: \"form\" }\n",
        "if (ano % 4) == 0:\n",
        "   if (ano % 100) == 0:\n",
        "       if (ano % 400) == 0:\n",
        "           print(\"é ano bissexto\")\n",
        "       else:\n",
        "           print(\"não é ano bissexto\")\n",
        "   else:\n",
        "       print(\"é ano bissexto\")\n",
        "else:\n",
        "   print(\"não é ano bissexto\")"
      ],
      "execution_count": null,
      "outputs": []
    },
    {
      "cell_type": "code",
      "metadata": {
        "id": "CdRQQGWqBc7a"
      },
      "source": [],
      "execution_count": null,
      "outputs": []
    },
    {
      "cell_type": "markdown",
      "metadata": {
        "id": "rXWNaFA-RjAS"
      },
      "source": [
        "### (Debugging) Encontre o erro e solucione o código abaixo."
      ]
    },
    {
      "cell_type": "code",
      "metadata": {
        "colab": {
          "base_uri": "https://localhost:8080/",
          "height": 129
        },
        "id": "IJZ3HZ_pRl_d",
        "outputId": "d1c9b9fa-6524-43b2-ac4e-abc072a20cc3"
      },
      "source": [
        "nota = 8\n",
        "\n",
        "if nota > 9:\n",
        "print(\"Parabéns!\")"
      ],
      "execution_count": null,
      "outputs": [
        {
          "output_type": "error",
          "ename": "IndentationError",
          "evalue": "ignored",
          "traceback": [
            "\u001b[0;36m  File \u001b[0;32m\"<ipython-input-1-86223d44b328>\"\u001b[0;36m, line \u001b[0;32m4\u001b[0m\n\u001b[0;31m    print(\"Parabéns!\")\u001b[0m\n\u001b[0m        ^\u001b[0m\n\u001b[0;31mIndentationError\u001b[0m\u001b[0;31m:\u001b[0m expected an indented block\n"
          ]
        }
      ]
    },
    {
      "cell_type": "code",
      "metadata": {
        "id": "mDl89i7yRyui"
      },
      "source": [],
      "execution_count": null,
      "outputs": []
    }
  ]
}