{
  "cells": [
    {
      "cell_type": "markdown",
      "metadata": {
        "colab_type": "text",
        "id": "view-in-github"
      },
      "source": [
        "<a href=\"https://colab.research.google.com/github/pagfarias/exercicios-tera/blob/main/Estruturas_condicionais_Exerc%C3%ADcios.ipynb\" target=\"_parent\"><img src=\"https://colab.research.google.com/assets/colab-badge.svg\" alt=\"Open In Colab\"/></a>"
      ]
    },
    {
      "cell_type": "markdown",
      "metadata": {
        "id": "lCl6XzOTX5hd"
      },
      "source": [
        "# Estruturas condicionais - Exercícios"
      ]
    },
    {
      "cell_type": "markdown",
      "metadata": {
        "id": "awYL3XIw7jH0"
      },
      "source": [
        "### Crie uma estrutura condicional que receba como entrada um número e que responda se este número é múltiplo de 3"
      ]
    },
    {
      "cell_type": "code",
      "execution_count": 16,
      "metadata": {
        "id": "wZPT_WNn7eGH"
      },
      "outputs": [],
      "source": [
        "#Rode esse código primeiro\n",
        "numero = 11"
      ]
    },
    {
      "cell_type": "code",
      "execution_count": 17,
      "metadata": {
        "id": "ues0zo2d8DZY"
      },
      "outputs": [
        {
          "name": "stdout",
          "output_type": "stream",
          "text": [
            "11 não é múltiplo de 3\n"
          ]
        }
      ],
      "source": [
        "#Escreva o seu código aqui\n",
        "if (numero%3) == 0:\n",
        "    print(f\"{numero} é múltiplo de 3\")\n",
        "else:\n",
        "    print(f\"{numero} não é múltiplo de 3\")\n"
      ]
    },
    {
      "cell_type": "code",
      "execution_count": null,
      "metadata": {
        "id": "gcIlo-eL8Lkn"
      },
      "outputs": [],
      "source": [
        "#@title  { display-mode: \"form\" }\n",
        "if numero%3 == 0:\n",
        "  print('é múltplo de 3')\n",
        "else:\n",
        "  print('não é múltiplo de 3')"
      ]
    },
    {
      "cell_type": "markdown",
      "metadata": {
        "id": "uFSysNly7ikC"
      },
      "source": [
        "### Crie uma estrutura condicional que receba como entrada um horário (0-24h) e que retorne:\n",
        "*   \"Bom dia\", se o horário estiver entre 6h-12h\n",
        "*   \"Boa tarde\", se o horário estiver entre 13h-18h\n",
        "*   \"Boa noite\", se o horário estiver entre 19h-24h\n",
        "*   \"Ainda é de madrugada\", caso contrário\n",
        "\n",
        "**dica:** para verificar se um número está entre outros dois você pode usar o seguinte formato `if 10 <= numero <= 20`. Aqui estamos verificando se a variável número está entre 10 e 10\n"
      ]
    },
    {
      "cell_type": "code",
      "execution_count": 38,
      "metadata": {
        "id": "S3YLk84R9HXz"
      },
      "outputs": [],
      "source": [
        "#Rode esse código primeiro\n",
        "hora = 10"
      ]
    },
    {
      "cell_type": "code",
      "execution_count": 39,
      "metadata": {
        "id": "7TNgH97b9Mfu"
      },
      "outputs": [
        {
          "name": "stdout",
          "output_type": "stream",
          "text": [
            "Bom dia\n"
          ]
        }
      ],
      "source": [
        "# Escreva seu código aqui \n",
        "if 6 <= hora <= 12:\n",
        "    print(\"Bom dia\")\n",
        "elif 13 <= hora <= 18:\n",
        "    print(\"Boa tarde\")\n",
        "elif 19 <= hora <= 24:\n",
        "    print(\"Boa Noite\")\n",
        "else:\n",
        "    print(\"Ainda é madrugada\")"
      ]
    },
    {
      "cell_type": "code",
      "execution_count": null,
      "metadata": {
        "id": "9BNb988s9i03"
      },
      "outputs": [],
      "source": [
        "#@title  { display-mode: \"form\" }\n",
        "if 6 <= hora <= 12:\n",
        "  print(\"Bom dia\")\n",
        "elif 13 <= hora <= 18:\n",
        "  print(\"Boa tarde\")\n",
        "elif 19 <= hora <= 24:\n",
        "  print(\"Boa noite\")\n",
        "else:\n",
        "  print(\"Ainda é de madrugada\")"
      ]
    },
    {
      "cell_type": "markdown",
      "metadata": {
        "id": "MaSbC1vRAhxj"
      },
      "source": [
        "### (Desafio). Crie uma estrutura condicional que receba como entrada um ano e que retorne se esse ano é bissexto ou não\n",
        "\n",
        "**Regras**\n",
        "1. Todo ano divisível por 4 é bissexto\n",
        "2. Todo ano divisível por 100 não é ano bissexto\n",
        "3. Mas se o ano for divisível por 400 é ano bissexto\n"
      ]
    },
    {
      "cell_type": "code",
      "execution_count": 54,
      "metadata": {
        "id": "F11MuihqA21Z"
      },
      "outputs": [],
      "source": [
        "#Rode esse código primeiro\n",
        "ano = 1998"
      ]
    },
    {
      "cell_type": "code",
      "execution_count": 55,
      "metadata": {
        "id": "zE84qHt3BA-1"
      },
      "outputs": [
        {
          "name": "stdout",
          "output_type": "stream",
          "text": [
            "não é ano bissexto\n"
          ]
        }
      ],
      "source": [
        "# Escreva seu código aqui \n",
        "if (ano % 4) == 0:\n",
        "   if (ano % 100) == 0:\n",
        "       if (ano % 400) == 0:\n",
        "           print(\"é ano bissexto\")\n",
        "       else:\n",
        "           print(\"não é ano bissexto\")\n",
        "   else:\n",
        "       print(\"é ano bissexto\")\n",
        "else:\n",
        "   print(\"não é ano bissexto\")"
      ]
    },
    {
      "cell_type": "code",
      "execution_count": null,
      "metadata": {
        "id": "SrUcMN9bBAnZ"
      },
      "outputs": [],
      "source": [
        "#@title  { display-mode: \"form\" }\n",
        "if (ano % 4) == 0:\n",
        "   if (ano % 100) == 0:\n",
        "       if (ano % 400) == 0:\n",
        "           print(\"é ano bissexto\")\n",
        "       else:\n",
        "           print(\"não é ano bissexto\")\n",
        "   else:\n",
        "       print(\"é ano bissexto\")\n",
        "else:\n",
        "   print(\"não é ano bissexto\")"
      ]
    },
    {
      "cell_type": "code",
      "execution_count": null,
      "metadata": {
        "id": "CdRQQGWqBc7a"
      },
      "outputs": [],
      "source": []
    },
    {
      "cell_type": "markdown",
      "metadata": {
        "id": "rXWNaFA-RjAS"
      },
      "source": [
        "### (Debugging) Encontre o erro e solucione o código abaixo."
      ]
    },
    {
      "cell_type": "code",
      "execution_count": null,
      "metadata": {
        "colab": {
          "base_uri": "https://localhost:8080/",
          "height": 129
        },
        "id": "IJZ3HZ_pRl_d",
        "outputId": "d1c9b9fa-6524-43b2-ac4e-abc072a20cc3"
      },
      "outputs": [
        {
          "ename": "IndentationError",
          "evalue": "ignored",
          "output_type": "error",
          "traceback": [
            "\u001b[0;36m  File \u001b[0;32m\"<ipython-input-1-86223d44b328>\"\u001b[0;36m, line \u001b[0;32m4\u001b[0m\n\u001b[0;31m    print(\"Parabéns!\")\u001b[0m\n\u001b[0m        ^\u001b[0m\n\u001b[0;31mIndentationError\u001b[0m\u001b[0;31m:\u001b[0m expected an indented block\n"
          ]
        }
      ],
      "source": [
        "nota = 8\n",
        "\n",
        "if nota > 9:\n",
        "print(\"Parabéns!\")"
      ]
    },
    {
      "cell_type": "code",
      "execution_count": 43,
      "metadata": {
        "id": "mDl89i7yRyui"
      },
      "outputs": [],
      "source": [
        "#faltou idententar o comando print()\n",
        "nota = 8\n",
        "\n",
        "if nota > 9:\n",
        "    print(\"Parabéns!\")"
      ]
    }
  ],
  "metadata": {
    "colab": {
      "include_colab_link": true,
      "provenance": []
    },
    "kernelspec": {
      "display_name": "Python 3",
      "language": "python",
      "name": "python3"
    },
    "language_info": {
      "codemirror_mode": {
        "name": "ipython",
        "version": 3
      },
      "file_extension": ".py",
      "mimetype": "text/x-python",
      "name": "python",
      "nbconvert_exporter": "python",
      "pygments_lexer": "ipython3",
      "version": "3.11.1"
    },
    "vscode": {
      "interpreter": {
        "hash": "f22b72fa366aa14d6aa369ffe441ad4c2c14e4ba4e697db3750692880921a3ac"
      }
    }
  },
  "nbformat": 4,
  "nbformat_minor": 0
}
