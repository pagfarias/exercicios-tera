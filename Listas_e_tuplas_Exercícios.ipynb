{
  "nbformat": 4,
  "nbformat_minor": 0,
  "metadata": {
    "colab": {
      "provenance": [],
      "include_colab_link": true
    },
    "kernelspec": {
      "name": "python3",
      "display_name": "Python 3"
    },
    "language_info": {
      "name": "python"
    }
  },
  "cells": [
    {
      "cell_type": "markdown",
      "metadata": {
        "id": "view-in-github",
        "colab_type": "text"
      },
      "source": [
        "<a href=\"https://colab.research.google.com/github/pagfarias/exercicios-tera/blob/main/Listas_e_tuplas_Exerc%C3%ADcios.ipynb\" target=\"_parent\"><img src=\"https://colab.research.google.com/assets/colab-badge.svg\" alt=\"Open In Colab\"/></a>"
      ]
    },
    {
      "cell_type": "markdown",
      "metadata": {
        "id": "y4yXQaM1oZJt"
      },
      "source": [
        "#Listas e tuplas\n",
        "Alguns exercícios para você praticar o que apredendeu sobre listas e tuplas"
      ]
    },
    {
      "cell_type": "markdown",
      "metadata": {
        "id": "foQHMOI1lPZ6"
      },
      "source": [
        "### Crie uma lista\n",
        "\n",
        "Criar uma lista com suas comidas favoritas e salve na variavel comida"
      ]
    },
    {
      "cell_type": "code",
      "metadata": {
        "id": "7zHHF7qfnRZe",
        "colab": {
          "base_uri": "https://localhost:8080/"
        },
        "outputId": "692e9cd8-c241-40f7-e9b0-ad1acf234872"
      },
      "source": [
        "#Escreva seu código aqui\n",
        "comida = ['risoto', 'pizza', 'japonês', 'churrasco']\n",
        "print(comida)"
      ],
      "execution_count": 16,
      "outputs": [
        {
          "output_type": "stream",
          "name": "stdout",
          "text": [
            "['risoto', 'pizza', 'japonês', 'churrasco']\n"
          ]
        }
      ]
    },
    {
      "cell_type": "code",
      "metadata": {
        "id": "4IR78Lj5kmoo"
      },
      "source": [
        "#@title  { display-mode: \"form\" }\n",
        "comidas = ['pudim', 'batata', 'lasanha']"
      ],
      "execution_count": 7,
      "outputs": []
    },
    {
      "cell_type": "markdown",
      "metadata": {
        "id": "B9ylDfDaoIr7"
      },
      "source": [
        "### Crie uma nova lista com a quantidade de calorias de cada comida que você citou no exercício anterior e salve na variável `calorias`"
      ]
    },
    {
      "cell_type": "code",
      "metadata": {
        "id": "ht2rHZGGnNhP",
        "colab": {
          "base_uri": "https://localhost:8080/"
        },
        "outputId": "8084ff1f-5c7e-4396-a763-ee1052b44973"
      },
      "source": [
        "calorias = [75,100,250,55.5]\n",
        "print(calorias)"
      ],
      "execution_count": 10,
      "outputs": [
        {
          "output_type": "stream",
          "name": "stdout",
          "text": [
            "[75, 100, 250, 55.5]\n"
          ]
        }
      ]
    },
    {
      "cell_type": "code",
      "metadata": {
        "id": "n1tUmT89ou-X"
      },
      "source": [
        "#@title  { display-mode: \"form\" }\n",
        "calorias = [1500, 300, 800]"
      ],
      "execution_count": null,
      "outputs": []
    },
    {
      "cell_type": "markdown",
      "metadata": {
        "id": "pebRpt7lo7Gu"
      },
      "source": [
        "### Com a função `sum` descubra a quantidade total de calorias"
      ]
    },
    {
      "cell_type": "code",
      "metadata": {
        "id": "FB9niMMjpKEb",
        "colab": {
          "base_uri": "https://localhost:8080/"
        },
        "outputId": "286f3f3d-0b19-419f-f2b0-935c375b4655"
      },
      "source": [
        "sum(calorias)"
      ],
      "execution_count": 11,
      "outputs": [
        {
          "output_type": "execute_result",
          "data": {
            "text/plain": [
              "480.5"
            ]
          },
          "metadata": {},
          "execution_count": 11
        }
      ]
    },
    {
      "cell_type": "code",
      "metadata": {
        "id": "FkGxFRVspLC6"
      },
      "source": [
        "#@title  { display-mode: \"form\" }\n",
        "sum(calorias)"
      ],
      "execution_count": null,
      "outputs": []
    },
    {
      "cell_type": "markdown",
      "metadata": {
        "id": "W0rV1snTpqY0"
      },
      "source": [
        "### Use os colchetes para para selecionar o primeiro item da variável `minha_lista`\n",
        "Dica: Lembre que o Python começa a contar no `0`"
      ]
    },
    {
      "cell_type": "code",
      "metadata": {
        "id": "qLkOUvjSppp0"
      },
      "source": [
        "# Rode essa célula\n",
        "a = 25\n",
        "minha_lista = [1, 2, 3, 'quatro', 5.1, [None, a]]"
      ],
      "execution_count": 13,
      "outputs": []
    },
    {
      "cell_type": "code",
      "metadata": {
        "id": "tnVyK51JDL7C",
        "colab": {
          "base_uri": "https://localhost:8080/"
        },
        "outputId": "07c5893f-f1cb-4034-ac2b-630f31b468a3"
      },
      "source": [
        "minha_lista[0]"
      ],
      "execution_count": 14,
      "outputs": [
        {
          "output_type": "execute_result",
          "data": {
            "text/plain": [
              "1"
            ]
          },
          "metadata": {},
          "execution_count": 14
        }
      ]
    },
    {
      "cell_type": "code",
      "metadata": {
        "id": "vDKMXrAXDgiz"
      },
      "source": [
        "#@title  { display-mode: \"form\" }\n",
        "minha_lista[0]"
      ],
      "execution_count": null,
      "outputs": []
    },
    {
      "cell_type": "markdown",
      "metadata": {
        "id": "tGptabUPCfwv"
      },
      "source": [
        "### Utilize o slice para selecionar do terceiro ao último item da `minha_lista`"
      ]
    },
    {
      "cell_type": "code",
      "metadata": {
        "id": "vBgRafgcD_NS",
        "colab": {
          "base_uri": "https://localhost:8080/"
        },
        "outputId": "3bfef163-3131-49ea-c598-7b5482a97c48"
      },
      "source": [
        "minha_lista[2:]"
      ],
      "execution_count": 19,
      "outputs": [
        {
          "output_type": "execute_result",
          "data": {
            "text/plain": [
              "[3, 'quatro', 5.1, [None, 25]]"
            ]
          },
          "metadata": {},
          "execution_count": 19
        }
      ]
    },
    {
      "cell_type": "code",
      "metadata": {
        "id": "yc_KRsSHD_2s"
      },
      "source": [
        "#@title  { display-mode: \"form\" }\n",
        "minha_lista[2:]"
      ],
      "execution_count": null,
      "outputs": []
    },
    {
      "cell_type": "code",
      "metadata": {
        "id": "cn2CcZLZEB9O"
      },
      "source": [],
      "execution_count": null,
      "outputs": []
    },
    {
      "cell_type": "markdown",
      "metadata": {
        "id": "7EbnjKeiN6_c"
      },
      "source": [
        "#  Na seguinte lista multidimensional, acesse o item em negrito\n",
        "[[1,2,3],[4,5,6],[7,8,[9,**10**]]]\n",
        "<br><br>\n",
        "Dica: o índice `-1` seleciona o último elemento da lista"
      ]
    },
    {
      "cell_type": "code",
      "metadata": {
        "id": "Ya7F_kIhO2P_"
      },
      "source": [
        "#Rode esta célula\n",
        "lista_mult = [[1,2,3],[4,5,6],[7,8,[9,10]]]"
      ],
      "execution_count": null,
      "outputs": []
    },
    {
      "cell_type": "code",
      "metadata": {
        "id": "iVZdm8ZhO_X2"
      },
      "source": [],
      "execution_count": null,
      "outputs": []
    },
    {
      "cell_type": "code",
      "metadata": {
        "id": "cxZvnD8mO_Ax"
      },
      "source": [
        "#@title  { display-mode: \"form\" }\n",
        "lista_mult[-1][-1][-1]"
      ],
      "execution_count": null,
      "outputs": []
    },
    {
      "cell_type": "markdown",
      "metadata": {
        "id": "0JvMlY5lKhJ1"
      },
      "source": [
        "### Em uma linha, desempacote os valores de `minha_tupla` nas variáveis `x`, `y` e `z`"
      ]
    },
    {
      "cell_type": "code",
      "metadata": {
        "id": "i2NpAnpGMxcf"
      },
      "source": [
        "#Rode esta célula\n",
        "minha_tupla = (10,20,30)"
      ],
      "execution_count": null,
      "outputs": []
    },
    {
      "cell_type": "code",
      "metadata": {
        "id": "EmPTc131NSsp"
      },
      "source": [],
      "execution_count": null,
      "outputs": []
    },
    {
      "cell_type": "code",
      "metadata": {
        "id": "gFFCuIyyM6JQ"
      },
      "source": [
        "#@title  { display-mode: \"form\" }\n",
        "x,y,z = minha_tupla"
      ],
      "execution_count": null,
      "outputs": []
    },
    {
      "cell_type": "markdown",
      "metadata": {
        "id": "ru4wUDLTHzDa"
      },
      "source": [
        "### (Bônus) Você pode usar o slice em uma `string` assim como na lista. Selecione as 6 primeiras letras da variável `texto2`"
      ]
    },
    {
      "cell_type": "code",
      "metadata": {
        "colab": {
          "base_uri": "https://localhost:8080/"
        },
        "id": "ptZJBHzlIIX0",
        "outputId": "4df05703-3bc3-4986-dcc1-e98258132035"
      },
      "source": [
        "texto = \"Estou estudando Python!\"\n",
        "print(texto[0])\n",
        "print(texto[12])\n",
        "print(texto[12:21])"
      ],
      "execution_count": null,
      "outputs": [
        {
          "output_type": "stream",
          "text": [
            "E\n",
            "n\n",
            "ndo Pytho\n"
          ],
          "name": "stdout"
        }
      ]
    },
    {
      "cell_type": "code",
      "metadata": {
        "id": "969g49e1ITof"
      },
      "source": [
        "#Rode essa célula\n",
        "texto2 = \"Listas e strings são legais\""
      ],
      "execution_count": null,
      "outputs": []
    },
    {
      "cell_type": "code",
      "metadata": {
        "id": "pf0xcIOcJKhw"
      },
      "source": [
        "#@title  { display-mode: \"form\" }\n",
        "texto2[0:6]"
      ],
      "execution_count": null,
      "outputs": []
    },
    {
      "cell_type": "code",
      "metadata": {
        "id": "sOB4VxveJOVg"
      },
      "source": [],
      "execution_count": null,
      "outputs": []
    },
    {
      "cell_type": "markdown",
      "metadata": {
        "id": "AjcDIrJfJ93J"
      },
      "source": [
        "### (Debugging) Encontre e arrume o erro no código abaixo"
      ]
    },
    {
      "cell_type": "code",
      "metadata": {
        "colab": {
          "base_uri": "https://localhost:8080/",
          "height": 197
        },
        "id": "-QmDhOC3KGcD",
        "outputId": "9a55c980-df67-4d3a-cc4f-202d7a0ee2a2"
      },
      "source": [
        "bebidas = ['água', 'refrigerante', 'suco']\n",
        "\n",
        "terceira_bebida = bebidas[3]"
      ],
      "execution_count": null,
      "outputs": [
        {
          "output_type": "error",
          "ename": "IndexError",
          "evalue": "ignored",
          "traceback": [
            "\u001b[0;31m---------------------------------------------------------------------------\u001b[0m",
            "\u001b[0;31mIndexError\u001b[0m                                Traceback (most recent call last)",
            "\u001b[0;32m<ipython-input-15-33670b7eb171>\u001b[0m in \u001b[0;36m<module>\u001b[0;34m()\u001b[0m\n\u001b[1;32m      1\u001b[0m \u001b[0mbebidas\u001b[0m \u001b[0;34m=\u001b[0m \u001b[0;34m[\u001b[0m\u001b[0;34m'água'\u001b[0m\u001b[0;34m,\u001b[0m \u001b[0;34m'refrigerante'\u001b[0m\u001b[0;34m,\u001b[0m \u001b[0;34m'suco'\u001b[0m\u001b[0;34m]\u001b[0m\u001b[0;34m\u001b[0m\u001b[0;34m\u001b[0m\u001b[0m\n\u001b[1;32m      2\u001b[0m \u001b[0;34m\u001b[0m\u001b[0m\n\u001b[0;32m----> 3\u001b[0;31m \u001b[0mterceira_bebida\u001b[0m \u001b[0;34m=\u001b[0m \u001b[0mbebidas\u001b[0m\u001b[0;34m[\u001b[0m\u001b[0;36m3\u001b[0m\u001b[0;34m]\u001b[0m\u001b[0;34m\u001b[0m\u001b[0;34m\u001b[0m\u001b[0m\n\u001b[0m",
            "\u001b[0;31mIndexError\u001b[0m: list index out of range"
          ]
        }
      ]
    },
    {
      "cell_type": "code",
      "metadata": {
        "id": "gls4e5GWKYXx"
      },
      "source": [],
      "execution_count": null,
      "outputs": []
    }
  ]
}