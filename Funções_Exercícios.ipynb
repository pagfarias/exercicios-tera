{
  "cells": [
    {
      "cell_type": "markdown",
      "metadata": {
        "colab_type": "text",
        "id": "view-in-github"
      },
      "source": [
        "<a href=\"https://colab.research.google.com/github/pagfarias/exercicios-tera/blob/main/Fun%C3%A7%C3%B5es_Exerc%C3%ADcios.ipynb\" target=\"_parent\"><img src=\"https://colab.research.google.com/assets/colab-badge.svg\" alt=\"Open In Colab\"/></a>"
      ]
    },
    {
      "cell_type": "markdown",
      "metadata": {
        "id": "TB_-4RLajcD0"
      },
      "source": [
        "# Funções - Exercícios"
      ]
    },
    {
      "cell_type": "markdown",
      "metadata": {
        "id": "6CIshkdykSCO"
      },
      "source": [
        "### Crie uma função de nome `pedir_agua` e que apenas imprima \"Estou com sede!\"\n",
        "\n",
        "Depois, chame está função"
      ]
    },
    {
      "cell_type": "code",
      "execution_count": 2,
      "metadata": {
        "id": "fNwBo5lSjX8I"
      },
      "outputs": [
        {
          "name": "stdout",
          "output_type": "stream",
          "text": [
            "Estou com sede!\n"
          ]
        }
      ],
      "source": [
        "def pedir_agua():\n",
        "    print(\"Estou com sede!\")\n",
        "\n",
        "pedir_agua()"
      ]
    },
    {
      "cell_type": "code",
      "execution_count": null,
      "metadata": {
        "id": "KFB_Yw_JkiFw"
      },
      "outputs": [],
      "source": [
        "#@title  { display-mode: \"form\" }\n",
        "def pedir_agua():\n",
        "  print(\"Estou com sede\")\n",
        "\n",
        "pedir_agua()"
      ]
    },
    {
      "cell_type": "markdown",
      "metadata": {
        "id": "ZgUKyWAqk0Xy"
      },
      "source": [
        "### Crie uma função que multiplique três números\n",
        "Depois, chame essa função com os parâmetros: 10, 5, 12"
      ]
    },
    {
      "cell_type": "code",
      "execution_count": 3,
      "metadata": {
        "id": "LTFQb6Rok61B"
      },
      "outputs": [
        {
          "data": {
            "text/plain": [
              "600"
            ]
          },
          "execution_count": 3,
          "metadata": {},
          "output_type": "execute_result"
        }
      ],
      "source": [
        "def multiplic_numeros(n1, n2, n3):\n",
        "    resp = n1 * n2 * n3\n",
        "    return resp\n",
        "\n",
        "multiplic_numeros(10,5,12)"
      ]
    },
    {
      "cell_type": "code",
      "execution_count": null,
      "metadata": {
        "id": "oSUDysV8lScT"
      },
      "outputs": [],
      "source": [
        "#@title  { display-mode: \"form\" }\n",
        "def multiplicar_numeros(a,b,c):\n",
        "  return a*b*c\n",
        "\n",
        "multiplicar_numeros(10, 5, 12)"
      ]
    },
    {
      "cell_type": "markdown",
      "metadata": {
        "id": "7z_areP2lSE1"
      },
      "source": [
        "### Crie uma função que receba uma temperatura em Celsius e retorne em Fahrenheit\n",
        "\n",
        "Converta as seguintes temperaturas 0°, 21°, 38°, 50°\n",
        "\n",
        "Dica: Para converter de Celsius para Fahrenheit, multiplique por 1.8 e some 32"
      ]
    },
    {
      "cell_type": "code",
      "execution_count": 5,
      "metadata": {
        "id": "IxtPprj-l8rA"
      },
      "outputs": [
        {
          "name": "stdout",
          "output_type": "stream",
          "text": [
            "32.0\n",
            "69.80000000000001\n",
            "100.4\n",
            "122.0\n"
          ]
        }
      ],
      "source": [
        "def converter_celsius_para_fahrenheit(celsius):\n",
        "    fahrenheit = (celsius * 1.8) + 32\n",
        "    return fahrenheit\n",
        "\n",
        "print(converter_celsius_para_fahrenheit(0))\n",
        "print(converter_celsius_para_fahrenheit(21))\n",
        "print(converter_celsius_para_fahrenheit(38))\n",
        "print(converter_celsius_para_fahrenheit(50))"
      ]
    },
    {
      "cell_type": "code",
      "execution_count": 6,
      "metadata": {
        "id": "eSIWeyjhl9dE"
      },
      "outputs": [
        {
          "name": "stdout",
          "output_type": "stream",
          "text": [
            "32.0\n",
            "69.80000000000001\n",
            "100.4\n",
            "122.0\n"
          ]
        }
      ],
      "source": [
        "#@title  { display-mode: \"form\" }\n",
        "def converter_c_para_f(celsius):\n",
        "  fahrenheit = (celsius * 1.8 ) + 32\n",
        "  return fahrenheit\n",
        "\n",
        "print(converter_c_para_f(0))\n",
        "print(converter_c_para_f(21))\n",
        "print(converter_c_para_f(38))\n",
        "print(converter_c_para_f(50))"
      ]
    },
    {
      "cell_type": "markdown",
      "metadata": {
        "id": "zPq8jF68fLJ0"
      },
      "source": [
        "### Crie uma função com nome `converter_valor_absoluto` que recebe um número e retorna o valor absoluto deste número, ou seja:\n",
        "- se receber o número 8 retornará 8;\n",
        "- se receber o número -8, retornará 8 também.\n",
        "\n",
        "Teste  com os número `5` e `-5`"
      ]
    },
    {
      "cell_type": "code",
      "execution_count": 7,
      "metadata": {
        "id": "YIb2y-p5fLbf"
      },
      "outputs": [
        {
          "name": "stdout",
          "output_type": "stream",
          "text": [
            "5\n",
            "5\n"
          ]
        }
      ],
      "source": [
        "def converter_valor_absoluto(num):\n",
        "    if num < 0:\n",
        "        num = num * -1\n",
        "\n",
        "    return num\n",
        "\n",
        "print(converter_valor_absoluto(5))\n",
        "print(converter_valor_absoluto(-5))"
      ]
    },
    {
      "cell_type": "code",
      "execution_count": null,
      "metadata": {
        "id": "YGUtJ-_BfLwR"
      },
      "outputs": [],
      "source": [
        "#@title  { display-mode: \"form\" }\n",
        "\n",
        "def converter_valor_absoluto(num):\n",
        "  if num >= 0:\n",
        "    return num\n",
        "  else:\n",
        "    return -num\n",
        "\n",
        "print(converter_valor_absoluto(5))\n",
        "print(converter_valor_absoluto(-5))"
      ]
    },
    {
      "cell_type": "code",
      "execution_count": null,
      "metadata": {
        "id": "Idql7c1BftIT"
      },
      "outputs": [],
      "source": []
    }
  ],
  "metadata": {
    "colab": {
      "include_colab_link": true,
      "provenance": []
    },
    "kernelspec": {
      "display_name": "Python 3",
      "language": "python",
      "name": "python3"
    },
    "language_info": {
      "codemirror_mode": {
        "name": "ipython",
        "version": 3
      },
      "file_extension": ".py",
      "mimetype": "text/x-python",
      "name": "python",
      "nbconvert_exporter": "python",
      "pygments_lexer": "ipython3",
      "version": "3.11.1"
    },
    "vscode": {
      "interpreter": {
        "hash": "f22b72fa366aa14d6aa369ffe441ad4c2c14e4ba4e697db3750692880921a3ac"
      }
    }
  },
  "nbformat": 4,
  "nbformat_minor": 0
}
