{
  "cells": [
    {
      "cell_type": "code",
      "execution_count": 2,
      "id": "d8833e4c",
      "metadata": {
        "id": "d8833e4c"
      },
      "outputs": [],
      "source": [
        "import pandas as pd\n",
        "import seaborn as sns"
      ]
    },
    {
      "cell_type": "code",
      "execution_count": 3,
      "id": "6ed5ba5e",
      "metadata": {
        "colab": {
          "base_uri": "https://localhost:8080/",
          "height": 73
        },
        "id": "6ed5ba5e",
        "outputId": "e7aa062c-1293-424c-d3de-1fcc95a60bd8"
      },
      "outputs": [
        {
          "ename": "ModuleNotFoundError",
          "evalue": "No module named 'google'",
          "output_type": "error",
          "traceback": [
            "\u001b[1;31m---------------------------------------------------------------------------\u001b[0m",
            "\u001b[1;31mModuleNotFoundError\u001b[0m                       Traceback (most recent call last)",
            "Cell \u001b[1;32mIn[3], line 2\u001b[0m\n\u001b[0;32m      1\u001b[0m \u001b[39m#Importando dataset\u001b[39;00m\n\u001b[1;32m----> 2\u001b[0m \u001b[39mfrom\u001b[39;00m \u001b[39mgoogle\u001b[39;00m\u001b[39m.\u001b[39;00m\u001b[39mcolab\u001b[39;00m \u001b[39mimport\u001b[39;00m files\n\u001b[0;32m      3\u001b[0m uploaded \u001b[39m=\u001b[39m files\u001b[39m.\u001b[39mupload()\n",
            "\u001b[1;31mModuleNotFoundError\u001b[0m: No module named 'google'"
          ]
        }
      ],
      "source": [
        "#Importando dataset\n",
        "from google.colab import files\n",
        "uploaded = files.upload()\n"
      ]
    },
    {
      "cell_type": "code",
      "execution_count": 5,
      "id": "6533ef18",
      "metadata": {
        "id": "6533ef18"
      },
      "outputs": [],
      "source": [
        "df = pd.read_excel('Notas.xlsx')\n"
      ]
    },
    {
      "cell_type": "code",
      "execution_count": 6,
      "id": "eSUShQCIV4Pb",
      "metadata": {
        "colab": {
          "base_uri": "https://localhost:8080/",
          "height": 206
        },
        "id": "eSUShQCIV4Pb",
        "outputId": "f8deaf9a-c9d8-4629-90de-6e1797558801"
      },
      "outputs": [
        {
          "data": {
            "text/html": [
              "<div>\n",
              "<style scoped>\n",
              "    .dataframe tbody tr th:only-of-type {\n",
              "        vertical-align: middle;\n",
              "    }\n",
              "\n",
              "    .dataframe tbody tr th {\n",
              "        vertical-align: top;\n",
              "    }\n",
              "\n",
              "    .dataframe thead th {\n",
              "        text-align: right;\n",
              "    }\n",
              "</style>\n",
              "<table border=\"1\" class=\"dataframe\">\n",
              "  <thead>\n",
              "    <tr style=\"text-align: right;\">\n",
              "      <th></th>\n",
              "      <th>genero</th>\n",
              "      <th>etnia</th>\n",
              "      <th>escolaridade dos pais</th>\n",
              "      <th>almoco</th>\n",
              "      <th>simulado</th>\n",
              "      <th>nota matematica</th>\n",
              "      <th>nota literatura</th>\n",
              "      <th>nota redacao</th>\n",
              "    </tr>\n",
              "  </thead>\n",
              "  <tbody>\n",
              "    <tr>\n",
              "      <th>0</th>\n",
              "      <td>female</td>\n",
              "      <td>group B</td>\n",
              "      <td>bachelor's degree</td>\n",
              "      <td>standard</td>\n",
              "      <td>none</td>\n",
              "      <td>72</td>\n",
              "      <td>72</td>\n",
              "      <td>74</td>\n",
              "    </tr>\n",
              "    <tr>\n",
              "      <th>1</th>\n",
              "      <td>female</td>\n",
              "      <td>group C</td>\n",
              "      <td>some college</td>\n",
              "      <td>standard</td>\n",
              "      <td>completed</td>\n",
              "      <td>69</td>\n",
              "      <td>90</td>\n",
              "      <td>88</td>\n",
              "    </tr>\n",
              "    <tr>\n",
              "      <th>2</th>\n",
              "      <td>female</td>\n",
              "      <td>group B</td>\n",
              "      <td>master's degree</td>\n",
              "      <td>standard</td>\n",
              "      <td>none</td>\n",
              "      <td>90</td>\n",
              "      <td>95</td>\n",
              "      <td>93</td>\n",
              "    </tr>\n",
              "    <tr>\n",
              "      <th>3</th>\n",
              "      <td>male</td>\n",
              "      <td>group A</td>\n",
              "      <td>associate's degree</td>\n",
              "      <td>free/reduced</td>\n",
              "      <td>none</td>\n",
              "      <td>47</td>\n",
              "      <td>57</td>\n",
              "      <td>44</td>\n",
              "    </tr>\n",
              "    <tr>\n",
              "      <th>4</th>\n",
              "      <td>male</td>\n",
              "      <td>group C</td>\n",
              "      <td>some college</td>\n",
              "      <td>standard</td>\n",
              "      <td>none</td>\n",
              "      <td>76</td>\n",
              "      <td>78</td>\n",
              "      <td>75</td>\n",
              "    </tr>\n",
              "  </tbody>\n",
              "</table>\n",
              "</div>"
            ],
            "text/plain": [
              "   genero    etnia escolaridade dos pais        almoco   simulado  \\\n",
              "0  female  group B     bachelor's degree      standard       none   \n",
              "1  female  group C          some college      standard  completed   \n",
              "2  female  group B       master's degree      standard       none   \n",
              "3    male  group A    associate's degree  free/reduced       none   \n",
              "4    male  group C          some college      standard       none   \n",
              "\n",
              "   nota matematica  nota literatura  nota redacao  \n",
              "0               72               72            74  \n",
              "1               69               90            88  \n",
              "2               90               95            93  \n",
              "3               47               57            44  \n",
              "4               76               78            75  "
            ]
          },
          "execution_count": 6,
          "metadata": {},
          "output_type": "execute_result"
        }
      ],
      "source": [
        "df.head()"
      ]
    },
    {
      "cell_type": "markdown",
      "id": "ff65e918",
      "metadata": {
        "id": "ff65e918"
      },
      "source": [
        "# 1) Qual a quantidade de linhas e colunas desse dataframe?"
      ]
    },
    {
      "cell_type": "code",
      "execution_count": 7,
      "id": "56926d10",
      "metadata": {
        "colab": {
          "base_uri": "https://localhost:8080/"
        },
        "id": "56926d10",
        "outputId": "1cc95fb7-e817-4955-8133-3119afc6ccb1"
      },
      "outputs": [
        {
          "data": {
            "text/plain": [
              "1000"
            ]
          },
          "execution_count": 7,
          "metadata": {},
          "output_type": "execute_result"
        }
      ],
      "source": [
        "df.shape[0]"
      ]
    },
    {
      "cell_type": "code",
      "execution_count": 8,
      "id": "MHK0GqQqz_U-",
      "metadata": {
        "colab": {
          "base_uri": "https://localhost:8080/"
        },
        "id": "MHK0GqQqz_U-",
        "outputId": "30ac1ac6-1e68-4203-dfc2-bae83485c195"
      },
      "outputs": [
        {
          "data": {
            "text/plain": [
              "8"
            ]
          },
          "execution_count": 8,
          "metadata": {},
          "output_type": "execute_result"
        }
      ],
      "source": [
        "df.shape[1]"
      ]
    },
    {
      "cell_type": "markdown",
      "id": "566f0933",
      "metadata": {
        "id": "566f0933"
      },
      "source": [
        "# 2) Quais os tipos das váriaveis desse dataframe?"
      ]
    },
    {
      "cell_type": "code",
      "execution_count": 9,
      "id": "a4276d5c",
      "metadata": {
        "id": "a4276d5c"
      },
      "outputs": [
        {
          "data": {
            "text/plain": [
              "genero                   object\n",
              "etnia                    object\n",
              "escolaridade dos pais    object\n",
              "almoco                   object\n",
              "simulado                 object\n",
              "nota matematica           int64\n",
              "nota literatura           int64\n",
              "nota redacao              int64\n",
              "dtype: object"
            ]
          },
          "execution_count": 9,
          "metadata": {},
          "output_type": "execute_result"
        }
      ],
      "source": [
        "df.dtypes\n"
      ]
    },
    {
      "cell_type": "markdown",
      "id": "95e483cf",
      "metadata": {
        "id": "95e483cf"
      },
      "source": [
        "# 3) Há valores nulos nesse dataframe?"
      ]
    },
    {
      "cell_type": "code",
      "execution_count": null,
      "id": "552a8e4f",
      "metadata": {
        "id": "552a8e4f"
      },
      "outputs": [],
      "source": []
    },
    {
      "cell_type": "code",
      "execution_count": null,
      "id": "e014aada",
      "metadata": {
        "id": "e014aada"
      },
      "outputs": [],
      "source": []
    },
    {
      "cell_type": "code",
      "execution_count": null,
      "id": "44f97910",
      "metadata": {
        "id": "44f97910"
      },
      "outputs": [],
      "source": []
    },
    {
      "cell_type": "markdown",
      "id": "88068d0a",
      "metadata": {
        "id": "88068d0a"
      },
      "source": [
        "# 4) Crie um novo dataframe chamado \"df1\", esse dataframe deve possuir somente as colunas \"genero\" e \"almoco\""
      ]
    },
    {
      "cell_type": "code",
      "execution_count": null,
      "id": "1ee9808d",
      "metadata": {
        "id": "1ee9808d"
      },
      "outputs": [],
      "source": []
    },
    {
      "cell_type": "code",
      "execution_count": null,
      "id": "c6abe427",
      "metadata": {
        "id": "c6abe427"
      },
      "outputs": [],
      "source": []
    },
    {
      "cell_type": "code",
      "execution_count": null,
      "id": "93f1d397",
      "metadata": {
        "id": "93f1d397"
      },
      "outputs": [],
      "source": []
    },
    {
      "cell_type": "markdown",
      "id": "9cdd640a",
      "metadata": {
        "id": "9cdd640a"
      },
      "source": [
        "# 5) Ordene o dataset de forma crescente de acordo com a nota de redação"
      ]
    },
    {
      "cell_type": "code",
      "execution_count": null,
      "id": "d8312b54",
      "metadata": {
        "id": "d8312b54"
      },
      "outputs": [],
      "source": []
    },
    {
      "cell_type": "code",
      "execution_count": null,
      "id": "e59e9e9d",
      "metadata": {
        "id": "e59e9e9d"
      },
      "outputs": [],
      "source": []
    },
    {
      "cell_type": "code",
      "execution_count": null,
      "id": "0f04ac3e",
      "metadata": {
        "id": "0f04ac3e"
      },
      "outputs": [],
      "source": []
    },
    {
      "cell_type": "markdown",
      "id": "460d5f45",
      "metadata": {
        "id": "460d5f45"
      },
      "source": [
        "# 6) Qual é a maior nota em matemática? "
      ]
    },
    {
      "cell_type": "code",
      "execution_count": null,
      "id": "145419d5",
      "metadata": {
        "id": "145419d5"
      },
      "outputs": [],
      "source": []
    },
    {
      "cell_type": "code",
      "execution_count": null,
      "id": "66a9f82a",
      "metadata": {
        "id": "66a9f82a"
      },
      "outputs": [],
      "source": []
    },
    {
      "cell_type": "code",
      "execution_count": null,
      "id": "be3bad34",
      "metadata": {
        "id": "be3bad34"
      },
      "outputs": [],
      "source": []
    },
    {
      "cell_type": "markdown",
      "id": "8b13773b",
      "metadata": {
        "id": "8b13773b"
      },
      "source": [
        "# 7) Qual é a menor nota em literatura? "
      ]
    },
    {
      "cell_type": "code",
      "execution_count": null,
      "id": "8ff9c31e",
      "metadata": {
        "id": "8ff9c31e"
      },
      "outputs": [],
      "source": []
    },
    {
      "cell_type": "code",
      "execution_count": null,
      "id": "a293a854",
      "metadata": {
        "id": "a293a854"
      },
      "outputs": [],
      "source": []
    },
    {
      "cell_type": "code",
      "execution_count": null,
      "id": "dbcbb354",
      "metadata": {
        "id": "dbcbb354"
      },
      "outputs": [],
      "source": []
    },
    {
      "cell_type": "markdown",
      "id": "6b8d7711",
      "metadata": {
        "id": "6b8d7711"
      },
      "source": [
        "# 8) Qual é a soma de todas as notas em redacao?"
      ]
    },
    {
      "cell_type": "code",
      "execution_count": null,
      "id": "931ad32f",
      "metadata": {
        "id": "931ad32f"
      },
      "outputs": [],
      "source": [
        "\n"
      ]
    },
    {
      "cell_type": "code",
      "execution_count": null,
      "id": "2437356c",
      "metadata": {
        "id": "2437356c"
      },
      "outputs": [],
      "source": []
    },
    {
      "cell_type": "code",
      "execution_count": null,
      "id": "c1730e10",
      "metadata": {
        "id": "c1730e10"
      },
      "outputs": [],
      "source": []
    },
    {
      "cell_type": "markdown",
      "id": "bc98def8",
      "metadata": {
        "id": "bc98def8"
      },
      "source": [
        "# 9) Qual é a nota em matemática do aluno de index 502?"
      ]
    },
    {
      "cell_type": "code",
      "execution_count": null,
      "id": "c9cd2935",
      "metadata": {
        "id": "c9cd2935"
      },
      "outputs": [],
      "source": []
    },
    {
      "cell_type": "code",
      "execution_count": null,
      "id": "f269724b",
      "metadata": {
        "id": "f269724b"
      },
      "outputs": [],
      "source": []
    },
    {
      "cell_type": "code",
      "execution_count": null,
      "id": "50c1cc4a",
      "metadata": {
        "id": "50c1cc4a"
      },
      "outputs": [],
      "source": []
    },
    {
      "cell_type": "markdown",
      "id": "4d8a9ee7",
      "metadata": {
        "id": "4d8a9ee7"
      },
      "source": [
        "# 10) Quantos grupos étnicos existem no dataframe?"
      ]
    },
    {
      "cell_type": "code",
      "execution_count": null,
      "id": "7d83a96a",
      "metadata": {
        "id": "7d83a96a"
      },
      "outputs": [],
      "source": []
    },
    {
      "cell_type": "code",
      "execution_count": null,
      "id": "fa12b236",
      "metadata": {
        "id": "fa12b236"
      },
      "outputs": [],
      "source": []
    },
    {
      "cell_type": "code",
      "execution_count": null,
      "id": "bd58b4f6",
      "metadata": {
        "id": "bd58b4f6"
      },
      "outputs": [],
      "source": []
    },
    {
      "cell_type": "markdown",
      "id": "f4b315b8",
      "metadata": {
        "id": "f4b315b8"
      },
      "source": [
        "# 11) Dentro da coluna etnia, qual é o grupo que possui a maior quantidade de pessoas?"
      ]
    },
    {
      "cell_type": "code",
      "execution_count": null,
      "id": "581a4396",
      "metadata": {
        "id": "581a4396"
      },
      "outputs": [],
      "source": []
    },
    {
      "cell_type": "code",
      "execution_count": null,
      "id": "220043da",
      "metadata": {
        "id": "220043da"
      },
      "outputs": [],
      "source": []
    },
    {
      "cell_type": "code",
      "execution_count": null,
      "id": "7d84617d",
      "metadata": {
        "id": "7d84617d"
      },
      "outputs": [],
      "source": []
    },
    {
      "cell_type": "markdown",
      "id": "c877ce8f",
      "metadata": {
        "id": "c877ce8f"
      },
      "source": [
        "# 12) Qual é o index da aluna que tirou a menor nota em literatura? "
      ]
    },
    {
      "cell_type": "code",
      "execution_count": null,
      "id": "a5f3e3d4",
      "metadata": {
        "id": "a5f3e3d4"
      },
      "outputs": [],
      "source": []
    },
    {
      "cell_type": "code",
      "execution_count": null,
      "id": "08afb4b8",
      "metadata": {
        "id": "08afb4b8"
      },
      "outputs": [],
      "source": []
    },
    {
      "cell_type": "code",
      "execution_count": null,
      "id": "4722e8ba",
      "metadata": {
        "id": "4722e8ba"
      },
      "outputs": [],
      "source": []
    },
    {
      "cell_type": "markdown",
      "id": "dde12c51",
      "metadata": {
        "id": "dde12c51"
      },
      "source": [
        "# 13) Qual é a escolaridade mais comum entre os pais dos alunos?"
      ]
    },
    {
      "cell_type": "code",
      "execution_count": null,
      "id": "cb165652",
      "metadata": {
        "id": "cb165652"
      },
      "outputs": [],
      "source": []
    },
    {
      "cell_type": "code",
      "execution_count": null,
      "id": "6d746c5a",
      "metadata": {
        "id": "6d746c5a"
      },
      "outputs": [],
      "source": []
    },
    {
      "cell_type": "code",
      "execution_count": null,
      "id": "ba27933a",
      "metadata": {
        "id": "ba27933a"
      },
      "outputs": [],
      "source": []
    },
    {
      "cell_type": "markdown",
      "id": "3cce1170",
      "metadata": {
        "id": "3cce1170"
      },
      "source": [
        "# 14) Printe a correlação entre as variáveise identifique  a variável que tem a maior correlação positiva com as notas em redação"
      ]
    },
    {
      "cell_type": "code",
      "execution_count": null,
      "id": "0a49fdbe",
      "metadata": {
        "id": "0a49fdbe"
      },
      "outputs": [],
      "source": []
    },
    {
      "cell_type": "code",
      "execution_count": null,
      "id": "2e00172c",
      "metadata": {
        "id": "2e00172c"
      },
      "outputs": [],
      "source": []
    },
    {
      "cell_type": "code",
      "execution_count": null,
      "id": "c9f7d3de",
      "metadata": {
        "id": "c9f7d3de"
      },
      "outputs": [],
      "source": []
    },
    {
      "cell_type": "markdown",
      "id": "WW4be-MaziWO",
      "metadata": {
        "id": "WW4be-MaziWO"
      },
      "source": [
        "# 15) Realize um groupby e agrupe a coluna \"escolaridade dos pais\". Após agrupado, verifique qual é a maior nota média em matemática dentre os grupos."
      ]
    },
    {
      "cell_type": "code",
      "execution_count": null,
      "id": "OYYvTHvYzjUj",
      "metadata": {
        "id": "OYYvTHvYzjUj"
      },
      "outputs": [],
      "source": []
    },
    {
      "cell_type": "code",
      "execution_count": null,
      "id": "ozCvkn9TzjW-",
      "metadata": {
        "id": "ozCvkn9TzjW-"
      },
      "outputs": [],
      "source": []
    },
    {
      "cell_type": "code",
      "execution_count": null,
      "id": "_fTWNxs5zjZb",
      "metadata": {
        "id": "_fTWNxs5zjZb"
      },
      "outputs": [],
      "source": []
    },
    {
      "cell_type": "markdown",
      "id": "06e81b79",
      "metadata": {
        "id": "06e81b79"
      },
      "source": [
        "# 16) Plote um gráfico de barras que compara a média da nota em literatura de pessoas que tem almoço standard com as que tem almoço free/reduced"
      ]
    },
    {
      "cell_type": "code",
      "execution_count": null,
      "id": "62484da5",
      "metadata": {
        "id": "62484da5"
      },
      "outputs": [],
      "source": []
    },
    {
      "cell_type": "code",
      "execution_count": null,
      "id": "340496db",
      "metadata": {
        "id": "340496db"
      },
      "outputs": [],
      "source": []
    },
    {
      "cell_type": "code",
      "execution_count": null,
      "id": "0b2f060d",
      "metadata": {
        "id": "0b2f060d"
      },
      "outputs": [],
      "source": []
    },
    {
      "cell_type": "markdown",
      "id": "7337b18f",
      "metadata": {
        "id": "7337b18f"
      },
      "source": [
        "# 17) Crie uma nova coluna chamada \"media geral\", ela deve ser uma média das notas de matemática, literatura e redação."
      ]
    },
    {
      "cell_type": "code",
      "execution_count": null,
      "id": "ee969e51",
      "metadata": {
        "id": "ee969e51"
      },
      "outputs": [],
      "source": []
    },
    {
      "cell_type": "code",
      "execution_count": null,
      "id": "83b6d4c7",
      "metadata": {
        "id": "83b6d4c7"
      },
      "outputs": [],
      "source": []
    },
    {
      "cell_type": "code",
      "execution_count": null,
      "id": "87e9ba18",
      "metadata": {
        "id": "87e9ba18"
      },
      "outputs": [],
      "source": []
    },
    {
      "cell_type": "markdown",
      "id": "74a62644",
      "metadata": {
        "id": "74a62644"
      },
      "source": [
        "# 18) Plote um histograma com as notas da media geral"
      ]
    },
    {
      "cell_type": "code",
      "execution_count": null,
      "id": "59de5b7f",
      "metadata": {
        "id": "59de5b7f"
      },
      "outputs": [],
      "source": []
    },
    {
      "cell_type": "code",
      "execution_count": null,
      "id": "78338fa7",
      "metadata": {
        "id": "78338fa7"
      },
      "outputs": [],
      "source": []
    },
    {
      "cell_type": "code",
      "execution_count": null,
      "id": "24e0b43a",
      "metadata": {
        "id": "24e0b43a"
      },
      "outputs": [],
      "source": []
    },
    {
      "cell_type": "markdown",
      "id": "0927b985",
      "metadata": {
        "id": "0927b985"
      },
      "source": [
        "# 19) Verifique qual é a média geral de pessoas que completaram o simulado e compare com a média geral de pessoas que não completaram o simulado."
      ]
    },
    {
      "cell_type": "code",
      "execution_count": null,
      "id": "add78bac",
      "metadata": {
        "id": "add78bac"
      },
      "outputs": [],
      "source": []
    },
    {
      "cell_type": "code",
      "execution_count": null,
      "id": "0165d326",
      "metadata": {
        "id": "0165d326"
      },
      "outputs": [],
      "source": []
    },
    {
      "cell_type": "code",
      "execution_count": null,
      "id": "e6db5945",
      "metadata": {
        "id": "e6db5945"
      },
      "outputs": [],
      "source": []
    },
    {
      "cell_type": "markdown",
      "id": "f105ad48",
      "metadata": {
        "id": "f105ad48"
      },
      "source": [
        "# 20) O diretor da escola decidiu dar 10 pontos na média geral para pessoas que completaram o simulado. Crie um código que faça essa operação de forma que nenhuma pessoa exceda os 100 pontos."
      ]
    },
    {
      "cell_type": "code",
      "execution_count": null,
      "id": "2f5ab8dd",
      "metadata": {
        "id": "2f5ab8dd"
      },
      "outputs": [],
      "source": []
    },
    {
      "cell_type": "code",
      "execution_count": null,
      "id": "4d32b94c",
      "metadata": {
        "id": "4d32b94c"
      },
      "outputs": [],
      "source": []
    },
    {
      "cell_type": "code",
      "execution_count": null,
      "id": "1ab16f8e",
      "metadata": {
        "id": "1ab16f8e"
      },
      "outputs": [],
      "source": []
    }
  ],
  "metadata": {
    "colab": {
      "provenance": []
    },
    "kernelspec": {
      "display_name": "Python 3",
      "language": "python",
      "name": "python3"
    },
    "language_info": {
      "codemirror_mode": {
        "name": "ipython",
        "version": 3
      },
      "file_extension": ".py",
      "mimetype": "text/x-python",
      "name": "python",
      "nbconvert_exporter": "python",
      "pygments_lexer": "ipython3",
      "version": "3.11.1"
    },
    "vscode": {
      "interpreter": {
        "hash": "f22b72fa366aa14d6aa369ffe441ad4c2c14e4ba4e697db3750692880921a3ac"
      }
    }
  },
  "nbformat": 4,
  "nbformat_minor": 5
}
