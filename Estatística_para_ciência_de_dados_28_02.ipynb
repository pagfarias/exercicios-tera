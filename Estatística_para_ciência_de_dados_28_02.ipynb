{
  "nbformat": 4,
  "nbformat_minor": 0,
  "metadata": {
    "colab": {
      "provenance": [],
      "include_colab_link": true
    },
    "kernelspec": {
      "name": "python3",
      "display_name": "Python 3"
    }
  },
  "cells": [
    {
      "cell_type": "markdown",
      "metadata": {
        "id": "view-in-github",
        "colab_type": "text"
      },
      "source": [
        "<a href=\"https://colab.research.google.com/github/pagfarias/exercicios-tera/blob/main/Estat%C3%ADstica_para_ci%C3%AAncia_de_dados_28_02.ipynb\" target=\"_parent\"><img src=\"https://colab.research.google.com/assets/colab-badge.svg\" alt=\"Open In Colab\"/></a>"
      ]
    },
    {
      "cell_type": "markdown",
      "metadata": {
        "id": "kLI0gJtzDGuQ"
      },
      "source": [
        "# Análise dos Dados do Airbnb - *Rio de Janeiro*\n",
        "\n",
        "<img alt=\"Analisando Airbnb\" width=\"30%\" src=\"https://upload.wikimedia.org/wikipedia/commons/thumb/6/69/Airbnb_Logo_B%C3%A9lo.svg/2560px-Airbnb_Logo_B%C3%A9lo.svg.png\">\n",
        "\n",
        "\n",
        "[Airbnb](https://www.airbnb.com.br/) é um serviço online comunitário para as pessoas anunciarem, descobrirem e reservarem acomodações e meios de hospedagem.  \n",
        "  \n",
        "Atualmente, conta com mais de 4 milhões de anfitriões, que já receberam mais de 1 bilhão de hóspedes em quase todos os países.  \n",
        "\n",
        "Uma das iniciativas do Airbnb é disponibilizar os dados de locações em algumas as principais cidades do mundo, para que possam ser analisados. Esses dados são disponibilizados no portal [Inside Airbnb](http://insideairbnb.com/get-the-data.html).\n",
        "\n",
        "Hoje, iremos analisar os dados da cidade do **Rio de Janeiro**."
      ]
    },
    {
      "cell_type": "markdown",
      "metadata": {
        "id": "0zxQHhIUDF_2"
      },
      "source": [
        "## Obtenção dos dados\n",
        "\n",
        "\n"
      ]
    },
    {
      "cell_type": "code",
      "metadata": {
        "id": "Vhp2wMPgJ6zX"
      },
      "source": [
        "# importar os bibliotecas necessárias\n",
        "import pandas as pd\n",
        "import matplotlib.pyplot as plt\n",
        "import seaborn as sns\n",
        "\n",
        "%matplotlib inline"
      ],
      "execution_count": 2,
      "outputs": []
    },
    {
      "cell_type": "code",
      "metadata": {
        "id": "tUmoAT8DLQ5T"
      },
      "source": [
        "# importar o arquivo listings.csv para um dataframe\n",
        "df = pd.read_csv(\"http://data.insideairbnb.com/brazil/rj/rio-de-janeiro/2022-06-20/visualisations/listings.csv\")"
      ],
      "execution_count": 3,
      "outputs": []
    },
    {
      "cell_type": "markdown",
      "metadata": {
        "id": "qb5By2nIMS6m"
      },
      "source": [
        "## Análise exploratória dos dados\n",
        "O objetivo dessa etapa é uma análise exploratória dos dados, bem como a identificação de quais são as variáveis disponíveis para análise.\n"
      ]
    },
    {
      "cell_type": "markdown",
      "source": [
        "### Criação de um dicionário das variáveis\n",
        "Vamos avaliar quais variáveis compõem o banco, e criar a partir delas um dicionário com o nome da variável no banco e o que ela significa."
      ],
      "metadata": {
        "id": "4E4VHgXSlMV3"
      }
    },
    {
      "cell_type": "code",
      "source": [
        "df.info()"
      ],
      "metadata": {
        "colab": {
          "base_uri": "https://localhost:8080/"
        },
        "id": "w3qQBH2HlfbW",
        "outputId": "07271a16-0951-4328-9886-980f8c6ac115"
      },
      "execution_count": 4,
      "outputs": [
        {
          "output_type": "stream",
          "name": "stdout",
          "text": [
            "<class 'pandas.core.frame.DataFrame'>\n",
            "RangeIndex: 24881 entries, 0 to 24880\n",
            "Data columns (total 18 columns):\n",
            " #   Column                          Non-Null Count  Dtype  \n",
            "---  ------                          --------------  -----  \n",
            " 0   id                              24881 non-null  int64  \n",
            " 1   name                            24860 non-null  object \n",
            " 2   host_id                         24881 non-null  int64  \n",
            " 3   host_name                       24764 non-null  object \n",
            " 4   neighbourhood_group             0 non-null      float64\n",
            " 5   neighbourhood                   24881 non-null  object \n",
            " 6   latitude                        24881 non-null  float64\n",
            " 7   longitude                       24881 non-null  float64\n",
            " 8   room_type                       24881 non-null  object \n",
            " 9   price                           24881 non-null  int64  \n",
            " 10  minimum_nights                  24881 non-null  int64  \n",
            " 11  number_of_reviews               24881 non-null  int64  \n",
            " 12  last_review                     17213 non-null  object \n",
            " 13  reviews_per_month               17213 non-null  float64\n",
            " 14  calculated_host_listings_count  24881 non-null  int64  \n",
            " 15  availability_365                24881 non-null  int64  \n",
            " 16  number_of_reviews_ltm           24881 non-null  int64  \n",
            " 17  license                         0 non-null      float64\n",
            "dtypes: float64(5), int64(8), object(5)\n",
            "memory usage: 3.4+ MB\n"
          ]
        }
      ]
    },
    {
      "cell_type": "code",
      "source": [
        "df.head()"
      ],
      "metadata": {
        "colab": {
          "base_uri": "https://localhost:8080/",
          "height": 426
        },
        "id": "0kChbpkXl7Wl",
        "outputId": "abdeb63f-e04d-4ad1-c622-0a6f429589b4"
      },
      "execution_count": 5,
      "outputs": [
        {
          "output_type": "execute_result",
          "data": {
            "text/plain": [
              "                   id                                               name  \\\n",
              "0               17878  Very Nice 2Br in Copacabana w. balcony, fast WiFi   \n",
              "1  556930647599893392   Venha passar uma pernoite em um veleiro na Urca!   \n",
              "2             1174007                  100% Best View In Copa In Suite 2   \n",
              "3             8410797  Ipanema(Arpoador) 100mdo Mar/ Jan & Carnaval +Fev   \n",
              "4            28053241     Navegar a  Bordo de um Veleiro Francês no Rio!   \n",
              "\n",
              "     host_id    host_name  neighbourhood_group neighbourhood  latitude  \\\n",
              "0      68997     Matthias                  NaN    Copacabana -22.96599   \n",
              "1  198206849      Andréia                  NaN          Urca -22.94781   \n",
              "2    3962758  Thiago Luiz                  NaN    Copacabana -22.97277   \n",
              "3   42038091       Sheila                  NaN       Ipanema -22.98871   \n",
              "4  193860988      Luciano                  NaN          Urca -22.95056   \n",
              "\n",
              "   longitude        room_type  price  minimum_nights  number_of_reviews  \\\n",
              "0  -43.17940  Entire home/apt    350               5                272   \n",
              "1  -43.16351     Private room    280               1                  1   \n",
              "2  -43.17966     Private room    107               2                177   \n",
              "3  -43.19334     Private room   1000               3                  1   \n",
              "4  -43.17175     Private room   1850               2                  0   \n",
              "\n",
              "  last_review  reviews_per_month  calculated_host_listings_count  \\\n",
              "0  2022-04-23               1.87                               1   \n",
              "1  2022-02-19               0.25                               1   \n",
              "2  2022-06-07               1.69                               6   \n",
              "3  2017-09-28               0.02                               3   \n",
              "4         NaN                NaN                               1   \n",
              "\n",
              "   availability_365  number_of_reviews_ltm  license  \n",
              "0               311                      8      NaN  \n",
              "1               365                      1      NaN  \n",
              "2               357                     29      NaN  \n",
              "3               362                      0      NaN  \n",
              "4               180                      0      NaN  "
            ],
            "text/html": [
              "\n",
              "  <div id=\"df-d023504b-3b90-475a-a0a0-1347ccb35c71\">\n",
              "    <div class=\"colab-df-container\">\n",
              "      <div>\n",
              "<style scoped>\n",
              "    .dataframe tbody tr th:only-of-type {\n",
              "        vertical-align: middle;\n",
              "    }\n",
              "\n",
              "    .dataframe tbody tr th {\n",
              "        vertical-align: top;\n",
              "    }\n",
              "\n",
              "    .dataframe thead th {\n",
              "        text-align: right;\n",
              "    }\n",
              "</style>\n",
              "<table border=\"1\" class=\"dataframe\">\n",
              "  <thead>\n",
              "    <tr style=\"text-align: right;\">\n",
              "      <th></th>\n",
              "      <th>id</th>\n",
              "      <th>name</th>\n",
              "      <th>host_id</th>\n",
              "      <th>host_name</th>\n",
              "      <th>neighbourhood_group</th>\n",
              "      <th>neighbourhood</th>\n",
              "      <th>latitude</th>\n",
              "      <th>longitude</th>\n",
              "      <th>room_type</th>\n",
              "      <th>price</th>\n",
              "      <th>minimum_nights</th>\n",
              "      <th>number_of_reviews</th>\n",
              "      <th>last_review</th>\n",
              "      <th>reviews_per_month</th>\n",
              "      <th>calculated_host_listings_count</th>\n",
              "      <th>availability_365</th>\n",
              "      <th>number_of_reviews_ltm</th>\n",
              "      <th>license</th>\n",
              "    </tr>\n",
              "  </thead>\n",
              "  <tbody>\n",
              "    <tr>\n",
              "      <th>0</th>\n",
              "      <td>17878</td>\n",
              "      <td>Very Nice 2Br in Copacabana w. balcony, fast WiFi</td>\n",
              "      <td>68997</td>\n",
              "      <td>Matthias</td>\n",
              "      <td>NaN</td>\n",
              "      <td>Copacabana</td>\n",
              "      <td>-22.96599</td>\n",
              "      <td>-43.17940</td>\n",
              "      <td>Entire home/apt</td>\n",
              "      <td>350</td>\n",
              "      <td>5</td>\n",
              "      <td>272</td>\n",
              "      <td>2022-04-23</td>\n",
              "      <td>1.87</td>\n",
              "      <td>1</td>\n",
              "      <td>311</td>\n",
              "      <td>8</td>\n",
              "      <td>NaN</td>\n",
              "    </tr>\n",
              "    <tr>\n",
              "      <th>1</th>\n",
              "      <td>556930647599893392</td>\n",
              "      <td>Venha passar uma pernoite em um veleiro na Urca!</td>\n",
              "      <td>198206849</td>\n",
              "      <td>Andréia</td>\n",
              "      <td>NaN</td>\n",
              "      <td>Urca</td>\n",
              "      <td>-22.94781</td>\n",
              "      <td>-43.16351</td>\n",
              "      <td>Private room</td>\n",
              "      <td>280</td>\n",
              "      <td>1</td>\n",
              "      <td>1</td>\n",
              "      <td>2022-02-19</td>\n",
              "      <td>0.25</td>\n",
              "      <td>1</td>\n",
              "      <td>365</td>\n",
              "      <td>1</td>\n",
              "      <td>NaN</td>\n",
              "    </tr>\n",
              "    <tr>\n",
              "      <th>2</th>\n",
              "      <td>1174007</td>\n",
              "      <td>100% Best View In Copa In Suite 2</td>\n",
              "      <td>3962758</td>\n",
              "      <td>Thiago Luiz</td>\n",
              "      <td>NaN</td>\n",
              "      <td>Copacabana</td>\n",
              "      <td>-22.97277</td>\n",
              "      <td>-43.17966</td>\n",
              "      <td>Private room</td>\n",
              "      <td>107</td>\n",
              "      <td>2</td>\n",
              "      <td>177</td>\n",
              "      <td>2022-06-07</td>\n",
              "      <td>1.69</td>\n",
              "      <td>6</td>\n",
              "      <td>357</td>\n",
              "      <td>29</td>\n",
              "      <td>NaN</td>\n",
              "    </tr>\n",
              "    <tr>\n",
              "      <th>3</th>\n",
              "      <td>8410797</td>\n",
              "      <td>Ipanema(Arpoador) 100mdo Mar/ Jan &amp; Carnaval +Fev</td>\n",
              "      <td>42038091</td>\n",
              "      <td>Sheila</td>\n",
              "      <td>NaN</td>\n",
              "      <td>Ipanema</td>\n",
              "      <td>-22.98871</td>\n",
              "      <td>-43.19334</td>\n",
              "      <td>Private room</td>\n",
              "      <td>1000</td>\n",
              "      <td>3</td>\n",
              "      <td>1</td>\n",
              "      <td>2017-09-28</td>\n",
              "      <td>0.02</td>\n",
              "      <td>3</td>\n",
              "      <td>362</td>\n",
              "      <td>0</td>\n",
              "      <td>NaN</td>\n",
              "    </tr>\n",
              "    <tr>\n",
              "      <th>4</th>\n",
              "      <td>28053241</td>\n",
              "      <td>Navegar a  Bordo de um Veleiro Francês no Rio!</td>\n",
              "      <td>193860988</td>\n",
              "      <td>Luciano</td>\n",
              "      <td>NaN</td>\n",
              "      <td>Urca</td>\n",
              "      <td>-22.95056</td>\n",
              "      <td>-43.17175</td>\n",
              "      <td>Private room</td>\n",
              "      <td>1850</td>\n",
              "      <td>2</td>\n",
              "      <td>0</td>\n",
              "      <td>NaN</td>\n",
              "      <td>NaN</td>\n",
              "      <td>1</td>\n",
              "      <td>180</td>\n",
              "      <td>0</td>\n",
              "      <td>NaN</td>\n",
              "    </tr>\n",
              "  </tbody>\n",
              "</table>\n",
              "</div>\n",
              "      <button class=\"colab-df-convert\" onclick=\"convertToInteractive('df-d023504b-3b90-475a-a0a0-1347ccb35c71')\"\n",
              "              title=\"Convert this dataframe to an interactive table.\"\n",
              "              style=\"display:none;\">\n",
              "        \n",
              "  <svg xmlns=\"http://www.w3.org/2000/svg\" height=\"24px\"viewBox=\"0 0 24 24\"\n",
              "       width=\"24px\">\n",
              "    <path d=\"M0 0h24v24H0V0z\" fill=\"none\"/>\n",
              "    <path d=\"M18.56 5.44l.94 2.06.94-2.06 2.06-.94-2.06-.94-.94-2.06-.94 2.06-2.06.94zm-11 1L8.5 8.5l.94-2.06 2.06-.94-2.06-.94L8.5 2.5l-.94 2.06-2.06.94zm10 10l.94 2.06.94-2.06 2.06-.94-2.06-.94-.94-2.06-.94 2.06-2.06.94z\"/><path d=\"M17.41 7.96l-1.37-1.37c-.4-.4-.92-.59-1.43-.59-.52 0-1.04.2-1.43.59L10.3 9.45l-7.72 7.72c-.78.78-.78 2.05 0 2.83L4 21.41c.39.39.9.59 1.41.59.51 0 1.02-.2 1.41-.59l7.78-7.78 2.81-2.81c.8-.78.8-2.07 0-2.86zM5.41 20L4 18.59l7.72-7.72 1.47 1.35L5.41 20z\"/>\n",
              "  </svg>\n",
              "      </button>\n",
              "      \n",
              "  <style>\n",
              "    .colab-df-container {\n",
              "      display:flex;\n",
              "      flex-wrap:wrap;\n",
              "      gap: 12px;\n",
              "    }\n",
              "\n",
              "    .colab-df-convert {\n",
              "      background-color: #E8F0FE;\n",
              "      border: none;\n",
              "      border-radius: 50%;\n",
              "      cursor: pointer;\n",
              "      display: none;\n",
              "      fill: #1967D2;\n",
              "      height: 32px;\n",
              "      padding: 0 0 0 0;\n",
              "      width: 32px;\n",
              "    }\n",
              "\n",
              "    .colab-df-convert:hover {\n",
              "      background-color: #E2EBFA;\n",
              "      box-shadow: 0px 1px 2px rgba(60, 64, 67, 0.3), 0px 1px 3px 1px rgba(60, 64, 67, 0.15);\n",
              "      fill: #174EA6;\n",
              "    }\n",
              "\n",
              "    [theme=dark] .colab-df-convert {\n",
              "      background-color: #3B4455;\n",
              "      fill: #D2E3FC;\n",
              "    }\n",
              "\n",
              "    [theme=dark] .colab-df-convert:hover {\n",
              "      background-color: #434B5C;\n",
              "      box-shadow: 0px 1px 3px 1px rgba(0, 0, 0, 0.15);\n",
              "      filter: drop-shadow(0px 1px 2px rgba(0, 0, 0, 0.3));\n",
              "      fill: #FFFFFF;\n",
              "    }\n",
              "  </style>\n",
              "\n",
              "      <script>\n",
              "        const buttonEl =\n",
              "          document.querySelector('#df-d023504b-3b90-475a-a0a0-1347ccb35c71 button.colab-df-convert');\n",
              "        buttonEl.style.display =\n",
              "          google.colab.kernel.accessAllowed ? 'block' : 'none';\n",
              "\n",
              "        async function convertToInteractive(key) {\n",
              "          const element = document.querySelector('#df-d023504b-3b90-475a-a0a0-1347ccb35c71');\n",
              "          const dataTable =\n",
              "            await google.colab.kernel.invokeFunction('convertToInteractive',\n",
              "                                                     [key], {});\n",
              "          if (!dataTable) return;\n",
              "\n",
              "          const docLinkHtml = 'Like what you see? Visit the ' +\n",
              "            '<a target=\"_blank\" href=https://colab.research.google.com/notebooks/data_table.ipynb>data table notebook</a>'\n",
              "            + ' to learn more about interactive tables.';\n",
              "          element.innerHTML = '';\n",
              "          dataTable['output_type'] = 'display_data';\n",
              "          await google.colab.output.renderOutput(dataTable, element);\n",
              "          const docLink = document.createElement('div');\n",
              "          docLink.innerHTML = docLinkHtml;\n",
              "          element.appendChild(docLink);\n",
              "        }\n",
              "      </script>\n",
              "    </div>\n",
              "  </div>\n",
              "  "
            ]
          },
          "metadata": {},
          "execution_count": 5
        }
      ]
    },
    {
      "cell_type": "code",
      "source": [
        "df.tail()"
      ],
      "metadata": {
        "colab": {
          "base_uri": "https://localhost:8080/",
          "height": 513
        },
        "id": "aU80fiH7Lig4",
        "outputId": "ae60b39b-1634-4168-a64e-329ff92483a3"
      },
      "execution_count": 6,
      "outputs": [
        {
          "output_type": "execute_result",
          "data": {
            "text/plain": [
              "                       id                                               name  \\\n",
              "24876  649994149549663983                   Apartamento encantador no centro   \n",
              "24877  650006296362728202               Apartamento encantador em Copacabana   \n",
              "24878  650011310811912783       Apto em frente à praia com vista lateral mar   \n",
              "24879  650020855611122186               Apto com vista deslumbrante na Barra   \n",
              "24880  650025403378811576  Jumpinbed - Studio in Copacabana in front of t...   \n",
              "\n",
              "         host_id  host_name  neighbourhood_group    neighbourhood   latitude  \\\n",
              "24876  184987752    Tatiane                  NaN           Centro -22.908390   \n",
              "24877  327150319  Elisabeth                  NaN       Copacabana -22.966930   \n",
              "24878  238604267    Claudia                  NaN  Barra da Tijuca -23.009351   \n",
              "24879  238604267    Claudia                  NaN  Barra da Tijuca -23.008220   \n",
              "24880  397106841    Jumpers                  NaN       Copacabana -22.976880   \n",
              "\n",
              "       longitude        room_type  price  minimum_nights  number_of_reviews  \\\n",
              "24876 -43.187100  Entire home/apt    251               1                  0   \n",
              "24877 -43.181400  Entire home/apt    440               1                  1   \n",
              "24878 -43.344853  Entire home/apt    380               1                  0   \n",
              "24879 -43.343700  Entire home/apt    300               2                  0   \n",
              "24880 -43.189920  Entire home/apt    315               1                  0   \n",
              "\n",
              "      last_review  reviews_per_month  calculated_host_listings_count  \\\n",
              "24876         NaN                NaN                               1   \n",
              "24877  2022-06-18                1.0                               2   \n",
              "24878         NaN                NaN                              12   \n",
              "24879         NaN                NaN                              12   \n",
              "24880         NaN                NaN                              15   \n",
              "\n",
              "       availability_365  number_of_reviews_ltm  license  \n",
              "24876               358                      0      NaN  \n",
              "24877               358                      1      NaN  \n",
              "24878                90                      0      NaN  \n",
              "24879                89                      0      NaN  \n",
              "24880               334                      0      NaN  "
            ],
            "text/html": [
              "\n",
              "  <div id=\"df-62d7c0f5-f898-46c7-aaa6-bb9592c47392\">\n",
              "    <div class=\"colab-df-container\">\n",
              "      <div>\n",
              "<style scoped>\n",
              "    .dataframe tbody tr th:only-of-type {\n",
              "        vertical-align: middle;\n",
              "    }\n",
              "\n",
              "    .dataframe tbody tr th {\n",
              "        vertical-align: top;\n",
              "    }\n",
              "\n",
              "    .dataframe thead th {\n",
              "        text-align: right;\n",
              "    }\n",
              "</style>\n",
              "<table border=\"1\" class=\"dataframe\">\n",
              "  <thead>\n",
              "    <tr style=\"text-align: right;\">\n",
              "      <th></th>\n",
              "      <th>id</th>\n",
              "      <th>name</th>\n",
              "      <th>host_id</th>\n",
              "      <th>host_name</th>\n",
              "      <th>neighbourhood_group</th>\n",
              "      <th>neighbourhood</th>\n",
              "      <th>latitude</th>\n",
              "      <th>longitude</th>\n",
              "      <th>room_type</th>\n",
              "      <th>price</th>\n",
              "      <th>minimum_nights</th>\n",
              "      <th>number_of_reviews</th>\n",
              "      <th>last_review</th>\n",
              "      <th>reviews_per_month</th>\n",
              "      <th>calculated_host_listings_count</th>\n",
              "      <th>availability_365</th>\n",
              "      <th>number_of_reviews_ltm</th>\n",
              "      <th>license</th>\n",
              "    </tr>\n",
              "  </thead>\n",
              "  <tbody>\n",
              "    <tr>\n",
              "      <th>24876</th>\n",
              "      <td>649994149549663983</td>\n",
              "      <td>Apartamento encantador no centro</td>\n",
              "      <td>184987752</td>\n",
              "      <td>Tatiane</td>\n",
              "      <td>NaN</td>\n",
              "      <td>Centro</td>\n",
              "      <td>-22.908390</td>\n",
              "      <td>-43.187100</td>\n",
              "      <td>Entire home/apt</td>\n",
              "      <td>251</td>\n",
              "      <td>1</td>\n",
              "      <td>0</td>\n",
              "      <td>NaN</td>\n",
              "      <td>NaN</td>\n",
              "      <td>1</td>\n",
              "      <td>358</td>\n",
              "      <td>0</td>\n",
              "      <td>NaN</td>\n",
              "    </tr>\n",
              "    <tr>\n",
              "      <th>24877</th>\n",
              "      <td>650006296362728202</td>\n",
              "      <td>Apartamento encantador em Copacabana</td>\n",
              "      <td>327150319</td>\n",
              "      <td>Elisabeth</td>\n",
              "      <td>NaN</td>\n",
              "      <td>Copacabana</td>\n",
              "      <td>-22.966930</td>\n",
              "      <td>-43.181400</td>\n",
              "      <td>Entire home/apt</td>\n",
              "      <td>440</td>\n",
              "      <td>1</td>\n",
              "      <td>1</td>\n",
              "      <td>2022-06-18</td>\n",
              "      <td>1.0</td>\n",
              "      <td>2</td>\n",
              "      <td>358</td>\n",
              "      <td>1</td>\n",
              "      <td>NaN</td>\n",
              "    </tr>\n",
              "    <tr>\n",
              "      <th>24878</th>\n",
              "      <td>650011310811912783</td>\n",
              "      <td>Apto em frente à praia com vista lateral mar</td>\n",
              "      <td>238604267</td>\n",
              "      <td>Claudia</td>\n",
              "      <td>NaN</td>\n",
              "      <td>Barra da Tijuca</td>\n",
              "      <td>-23.009351</td>\n",
              "      <td>-43.344853</td>\n",
              "      <td>Entire home/apt</td>\n",
              "      <td>380</td>\n",
              "      <td>1</td>\n",
              "      <td>0</td>\n",
              "      <td>NaN</td>\n",
              "      <td>NaN</td>\n",
              "      <td>12</td>\n",
              "      <td>90</td>\n",
              "      <td>0</td>\n",
              "      <td>NaN</td>\n",
              "    </tr>\n",
              "    <tr>\n",
              "      <th>24879</th>\n",
              "      <td>650020855611122186</td>\n",
              "      <td>Apto com vista deslumbrante na Barra</td>\n",
              "      <td>238604267</td>\n",
              "      <td>Claudia</td>\n",
              "      <td>NaN</td>\n",
              "      <td>Barra da Tijuca</td>\n",
              "      <td>-23.008220</td>\n",
              "      <td>-43.343700</td>\n",
              "      <td>Entire home/apt</td>\n",
              "      <td>300</td>\n",
              "      <td>2</td>\n",
              "      <td>0</td>\n",
              "      <td>NaN</td>\n",
              "      <td>NaN</td>\n",
              "      <td>12</td>\n",
              "      <td>89</td>\n",
              "      <td>0</td>\n",
              "      <td>NaN</td>\n",
              "    </tr>\n",
              "    <tr>\n",
              "      <th>24880</th>\n",
              "      <td>650025403378811576</td>\n",
              "      <td>Jumpinbed - Studio in Copacabana in front of t...</td>\n",
              "      <td>397106841</td>\n",
              "      <td>Jumpers</td>\n",
              "      <td>NaN</td>\n",
              "      <td>Copacabana</td>\n",
              "      <td>-22.976880</td>\n",
              "      <td>-43.189920</td>\n",
              "      <td>Entire home/apt</td>\n",
              "      <td>315</td>\n",
              "      <td>1</td>\n",
              "      <td>0</td>\n",
              "      <td>NaN</td>\n",
              "      <td>NaN</td>\n",
              "      <td>15</td>\n",
              "      <td>334</td>\n",
              "      <td>0</td>\n",
              "      <td>NaN</td>\n",
              "    </tr>\n",
              "  </tbody>\n",
              "</table>\n",
              "</div>\n",
              "      <button class=\"colab-df-convert\" onclick=\"convertToInteractive('df-62d7c0f5-f898-46c7-aaa6-bb9592c47392')\"\n",
              "              title=\"Convert this dataframe to an interactive table.\"\n",
              "              style=\"display:none;\">\n",
              "        \n",
              "  <svg xmlns=\"http://www.w3.org/2000/svg\" height=\"24px\"viewBox=\"0 0 24 24\"\n",
              "       width=\"24px\">\n",
              "    <path d=\"M0 0h24v24H0V0z\" fill=\"none\"/>\n",
              "    <path d=\"M18.56 5.44l.94 2.06.94-2.06 2.06-.94-2.06-.94-.94-2.06-.94 2.06-2.06.94zm-11 1L8.5 8.5l.94-2.06 2.06-.94-2.06-.94L8.5 2.5l-.94 2.06-2.06.94zm10 10l.94 2.06.94-2.06 2.06-.94-2.06-.94-.94-2.06-.94 2.06-2.06.94z\"/><path d=\"M17.41 7.96l-1.37-1.37c-.4-.4-.92-.59-1.43-.59-.52 0-1.04.2-1.43.59L10.3 9.45l-7.72 7.72c-.78.78-.78 2.05 0 2.83L4 21.41c.39.39.9.59 1.41.59.51 0 1.02-.2 1.41-.59l7.78-7.78 2.81-2.81c.8-.78.8-2.07 0-2.86zM5.41 20L4 18.59l7.72-7.72 1.47 1.35L5.41 20z\"/>\n",
              "  </svg>\n",
              "      </button>\n",
              "      \n",
              "  <style>\n",
              "    .colab-df-container {\n",
              "      display:flex;\n",
              "      flex-wrap:wrap;\n",
              "      gap: 12px;\n",
              "    }\n",
              "\n",
              "    .colab-df-convert {\n",
              "      background-color: #E8F0FE;\n",
              "      border: none;\n",
              "      border-radius: 50%;\n",
              "      cursor: pointer;\n",
              "      display: none;\n",
              "      fill: #1967D2;\n",
              "      height: 32px;\n",
              "      padding: 0 0 0 0;\n",
              "      width: 32px;\n",
              "    }\n",
              "\n",
              "    .colab-df-convert:hover {\n",
              "      background-color: #E2EBFA;\n",
              "      box-shadow: 0px 1px 2px rgba(60, 64, 67, 0.3), 0px 1px 3px 1px rgba(60, 64, 67, 0.15);\n",
              "      fill: #174EA6;\n",
              "    }\n",
              "\n",
              "    [theme=dark] .colab-df-convert {\n",
              "      background-color: #3B4455;\n",
              "      fill: #D2E3FC;\n",
              "    }\n",
              "\n",
              "    [theme=dark] .colab-df-convert:hover {\n",
              "      background-color: #434B5C;\n",
              "      box-shadow: 0px 1px 3px 1px rgba(0, 0, 0, 0.15);\n",
              "      filter: drop-shadow(0px 1px 2px rgba(0, 0, 0, 0.3));\n",
              "      fill: #FFFFFF;\n",
              "    }\n",
              "  </style>\n",
              "\n",
              "      <script>\n",
              "        const buttonEl =\n",
              "          document.querySelector('#df-62d7c0f5-f898-46c7-aaa6-bb9592c47392 button.colab-df-convert');\n",
              "        buttonEl.style.display =\n",
              "          google.colab.kernel.accessAllowed ? 'block' : 'none';\n",
              "\n",
              "        async function convertToInteractive(key) {\n",
              "          const element = document.querySelector('#df-62d7c0f5-f898-46c7-aaa6-bb9592c47392');\n",
              "          const dataTable =\n",
              "            await google.colab.kernel.invokeFunction('convertToInteractive',\n",
              "                                                     [key], {});\n",
              "          if (!dataTable) return;\n",
              "\n",
              "          const docLinkHtml = 'Like what you see? Visit the ' +\n",
              "            '<a target=\"_blank\" href=https://colab.research.google.com/notebooks/data_table.ipynb>data table notebook</a>'\n",
              "            + ' to learn more about interactive tables.';\n",
              "          element.innerHTML = '';\n",
              "          dataTable['output_type'] = 'display_data';\n",
              "          await google.colab.output.renderOutput(dataTable, element);\n",
              "          const docLink = document.createElement('div');\n",
              "          docLink.innerHTML = docLinkHtml;\n",
              "          element.appendChild(docLink);\n",
              "        }\n",
              "      </script>\n",
              "    </div>\n",
              "  </div>\n",
              "  "
            ]
          },
          "metadata": {},
          "execution_count": 6
        }
      ]
    },
    {
      "cell_type": "markdown",
      "metadata": {
        "id": "RYgvuebKNg8-"
      },
      "source": [
        "**Dicionário das variáveis**\n",
        "\n",
        "* `id` - número de id gerado para identificar o imóvel\n",
        "* `name` - nome da propriedade anunciada\n",
        "* `host_id` - número de id do proprietário (anfitrião) da propriedade\n",
        "* `host_name` - nome do anfitrião\n",
        "* `neighbourhood_group` - esta coluna não contém nenhum valor válido\n",
        "* `neighbourhood` - nome do bairro\n",
        "* `latitude` - coordenada da latitude da propriedade\n",
        "* `longitude` - coordenada da longitude da propriedade\n",
        "* `room_type` - informa o tipo de quarto que é oferecido\n",
        "* `price` - preço para alugar o imóvel\n",
        "* `minimum_nights` - quantidade mínima de noites para reservar\n",
        "* `number_of_reviews` - número de reviews que a propriedade possui\n",
        "* `last_review` - data do último review\n",
        "* `reviews_per_month` - quantidade de reviews por mês\n",
        "* `calculated_host_listings_count` - quantidade de imóveis do mesmo anfitrião\n",
        "* `availability_365` - número de dias de disponibilidade dentro de 365 dias"
      ]
    },
    {
      "cell_type": "markdown",
      "metadata": {
        "id": "yz1urSUGW9iE"
      },
      "source": [
        "### Qual a porcentagem de valores ausentes no banco de dados?"
      ]
    },
    {
      "cell_type": "code",
      "source": [
        "100*df.isnull().sum()/df.shape[0]\n",
        "\n",
        "# Esse código calcula a porcentagem de valores ausentes\n",
        "# Boas perguntas para responder: o que o 'df.shape[0]' da fórmula indica?\n",
        "# Essa forma de representação das porcentagens é a mais intuitiva para um leigo? O que você modificaria?\n",
        "# Como ordenar essa proporção de valores ausentes do maior para o menor?"
      ],
      "metadata": {
        "colab": {
          "base_uri": "https://localhost:8080/"
        },
        "id": "kjpaa_njELzY",
        "outputId": "0dfcf3eb-7479-4914-b2db-7721ddb828bc"
      },
      "execution_count": 12,
      "outputs": [
        {
          "output_type": "execute_result",
          "data": {
            "text/plain": [
              "id                                  0.000000\n",
              "name                                0.084402\n",
              "host_id                             0.000000\n",
              "host_name                           0.470238\n",
              "neighbourhood_group               100.000000\n",
              "neighbourhood                       0.000000\n",
              "latitude                            0.000000\n",
              "longitude                           0.000000\n",
              "room_type                           0.000000\n",
              "price                               0.000000\n",
              "minimum_nights                      0.000000\n",
              "number_of_reviews                   0.000000\n",
              "last_review                        30.818697\n",
              "reviews_per_month                  30.818697\n",
              "calculated_host_listings_count      0.000000\n",
              "availability_365                    0.000000\n",
              "number_of_reviews_ltm               0.000000\n",
              "license                           100.000000\n",
              "dtype: float64"
            ]
          },
          "metadata": {},
          "execution_count": 12
        }
      ]
    },
    {
      "cell_type": "markdown",
      "metadata": {
        "id": "iHXvvHIxaoNc"
      },
      "source": [
        "### Análise descritiva univariada"
      ]
    },
    {
      "cell_type": "markdown",
      "source": [
        "#### Perguntas a serem respondidas\n",
        "\n",
        "- Qual o bairro do Rio de Janeiro com mais acomodações disponíveis para locação? Quantos porcento das acomodações disponíveis estão situadas nesse bairro?\n",
        "- Qual o tipo de acomodação mais disponibilizado para locação pelo Airbnb no Rio de Janeiro?\n",
        "- Qual a média dos preços de aluguel? E a mediana? Há diferenças entre esses valores? Por que?\n",
        "- Qual a média de reviews por mês que uma acomodação recebe?"
      ],
      "metadata": {
        "id": "Qo-vr2mRPFZ4"
      }
    },
    {
      "cell_type": "markdown",
      "source": [
        "#### Cálculo de medidas de posição, dispersão e frequências"
      ],
      "metadata": {
        "id": "08Cd9LcdPLTe"
      }
    },
    {
      "cell_type": "markdown",
      "source": [
        "A ideia aqui é que você consiga realizar essa análise e interpretá-la."
      ],
      "metadata": {
        "id": "86PRyZeQne_X"
      }
    },
    {
      "cell_type": "code",
      "source": [
        "vars_quant = [\n",
        "    \"price\", \n",
        "    \"minimum_nights\", \n",
        "    \"number_of_reviews\", \n",
        "    \"reviews_per_month\",\n",
        "    \"calculated_host_listings_count\",\n",
        "    \"availability_365\",\n",
        "    \"number_of_reviews_ltm\"\n",
        "]\n",
        "\n",
        "vars_quali = [\n",
        "    \"neighbourhood\",\n",
        "    \"room_type\"\n",
        "]"
      ],
      "metadata": {
        "id": "aWhxijgBnm4S"
      },
      "execution_count": null,
      "outputs": []
    },
    {
      "cell_type": "code",
      "source": [
        "df[vars_quant].describe().round(2)"
      ],
      "metadata": {
        "colab": {
          "base_uri": "https://localhost:8080/",
          "height": 300
        },
        "id": "_QWlLDFRMnkR",
        "outputId": "96bbc1d0-30b9-4c28-9ab1-b1bf97fa64bc"
      },
      "execution_count": null,
      "outputs": [
        {
          "output_type": "execute_result",
          "data": {
            "text/plain": [
              "           price  minimum_nights  number_of_reviews  reviews_per_month  \\\n",
              "count   24881.00        24881.00           24881.00           17213.00   \n",
              "mean      745.40            5.36              16.82               0.81   \n",
              "std      4983.64           26.04              36.86               1.01   \n",
              "min         0.00            1.00               0.00               0.01   \n",
              "25%       180.00            1.00               0.00               0.13   \n",
              "50%       300.00            2.00               3.00               0.45   \n",
              "75%       600.00            4.00              15.00               1.10   \n",
              "max    591723.00         1125.00             534.00              18.74   \n",
              "\n",
              "       calculated_host_listings_count  availability_365  number_of_reviews_ltm  \n",
              "count                        24881.00          24881.00               24881.00  \n",
              "mean                             8.02            214.77                   5.29  \n",
              "std                             22.31            131.69                   9.90  \n",
              "min                              1.00              0.00                   0.00  \n",
              "25%                              1.00             89.00                   0.00  \n",
              "50%                              1.00            212.00                   1.00  \n",
              "75%                              4.00            356.00                   6.00  \n",
              "max                            184.00            365.00                 189.00  "
            ],
            "text/html": [
              "\n",
              "  <div id=\"df-53df5f74-e4eb-4f73-aeef-1afdb1695ce7\">\n",
              "    <div class=\"colab-df-container\">\n",
              "      <div>\n",
              "<style scoped>\n",
              "    .dataframe tbody tr th:only-of-type {\n",
              "        vertical-align: middle;\n",
              "    }\n",
              "\n",
              "    .dataframe tbody tr th {\n",
              "        vertical-align: top;\n",
              "    }\n",
              "\n",
              "    .dataframe thead th {\n",
              "        text-align: right;\n",
              "    }\n",
              "</style>\n",
              "<table border=\"1\" class=\"dataframe\">\n",
              "  <thead>\n",
              "    <tr style=\"text-align: right;\">\n",
              "      <th></th>\n",
              "      <th>price</th>\n",
              "      <th>minimum_nights</th>\n",
              "      <th>number_of_reviews</th>\n",
              "      <th>reviews_per_month</th>\n",
              "      <th>calculated_host_listings_count</th>\n",
              "      <th>availability_365</th>\n",
              "      <th>number_of_reviews_ltm</th>\n",
              "    </tr>\n",
              "  </thead>\n",
              "  <tbody>\n",
              "    <tr>\n",
              "      <th>count</th>\n",
              "      <td>24881.00</td>\n",
              "      <td>24881.00</td>\n",
              "      <td>24881.00</td>\n",
              "      <td>17213.00</td>\n",
              "      <td>24881.00</td>\n",
              "      <td>24881.00</td>\n",
              "      <td>24881.00</td>\n",
              "    </tr>\n",
              "    <tr>\n",
              "      <th>mean</th>\n",
              "      <td>745.40</td>\n",
              "      <td>5.36</td>\n",
              "      <td>16.82</td>\n",
              "      <td>0.81</td>\n",
              "      <td>8.02</td>\n",
              "      <td>214.77</td>\n",
              "      <td>5.29</td>\n",
              "    </tr>\n",
              "    <tr>\n",
              "      <th>std</th>\n",
              "      <td>4983.64</td>\n",
              "      <td>26.04</td>\n",
              "      <td>36.86</td>\n",
              "      <td>1.01</td>\n",
              "      <td>22.31</td>\n",
              "      <td>131.69</td>\n",
              "      <td>9.90</td>\n",
              "    </tr>\n",
              "    <tr>\n",
              "      <th>min</th>\n",
              "      <td>0.00</td>\n",
              "      <td>1.00</td>\n",
              "      <td>0.00</td>\n",
              "      <td>0.01</td>\n",
              "      <td>1.00</td>\n",
              "      <td>0.00</td>\n",
              "      <td>0.00</td>\n",
              "    </tr>\n",
              "    <tr>\n",
              "      <th>25%</th>\n",
              "      <td>180.00</td>\n",
              "      <td>1.00</td>\n",
              "      <td>0.00</td>\n",
              "      <td>0.13</td>\n",
              "      <td>1.00</td>\n",
              "      <td>89.00</td>\n",
              "      <td>0.00</td>\n",
              "    </tr>\n",
              "    <tr>\n",
              "      <th>50%</th>\n",
              "      <td>300.00</td>\n",
              "      <td>2.00</td>\n",
              "      <td>3.00</td>\n",
              "      <td>0.45</td>\n",
              "      <td>1.00</td>\n",
              "      <td>212.00</td>\n",
              "      <td>1.00</td>\n",
              "    </tr>\n",
              "    <tr>\n",
              "      <th>75%</th>\n",
              "      <td>600.00</td>\n",
              "      <td>4.00</td>\n",
              "      <td>15.00</td>\n",
              "      <td>1.10</td>\n",
              "      <td>4.00</td>\n",
              "      <td>356.00</td>\n",
              "      <td>6.00</td>\n",
              "    </tr>\n",
              "    <tr>\n",
              "      <th>max</th>\n",
              "      <td>591723.00</td>\n",
              "      <td>1125.00</td>\n",
              "      <td>534.00</td>\n",
              "      <td>18.74</td>\n",
              "      <td>184.00</td>\n",
              "      <td>365.00</td>\n",
              "      <td>189.00</td>\n",
              "    </tr>\n",
              "  </tbody>\n",
              "</table>\n",
              "</div>\n",
              "      <button class=\"colab-df-convert\" onclick=\"convertToInteractive('df-53df5f74-e4eb-4f73-aeef-1afdb1695ce7')\"\n",
              "              title=\"Convert this dataframe to an interactive table.\"\n",
              "              style=\"display:none;\">\n",
              "        \n",
              "  <svg xmlns=\"http://www.w3.org/2000/svg\" height=\"24px\"viewBox=\"0 0 24 24\"\n",
              "       width=\"24px\">\n",
              "    <path d=\"M0 0h24v24H0V0z\" fill=\"none\"/>\n",
              "    <path d=\"M18.56 5.44l.94 2.06.94-2.06 2.06-.94-2.06-.94-.94-2.06-.94 2.06-2.06.94zm-11 1L8.5 8.5l.94-2.06 2.06-.94-2.06-.94L8.5 2.5l-.94 2.06-2.06.94zm10 10l.94 2.06.94-2.06 2.06-.94-2.06-.94-.94-2.06-.94 2.06-2.06.94z\"/><path d=\"M17.41 7.96l-1.37-1.37c-.4-.4-.92-.59-1.43-.59-.52 0-1.04.2-1.43.59L10.3 9.45l-7.72 7.72c-.78.78-.78 2.05 0 2.83L4 21.41c.39.39.9.59 1.41.59.51 0 1.02-.2 1.41-.59l7.78-7.78 2.81-2.81c.8-.78.8-2.07 0-2.86zM5.41 20L4 18.59l7.72-7.72 1.47 1.35L5.41 20z\"/>\n",
              "  </svg>\n",
              "      </button>\n",
              "      \n",
              "  <style>\n",
              "    .colab-df-container {\n",
              "      display:flex;\n",
              "      flex-wrap:wrap;\n",
              "      gap: 12px;\n",
              "    }\n",
              "\n",
              "    .colab-df-convert {\n",
              "      background-color: #E8F0FE;\n",
              "      border: none;\n",
              "      border-radius: 50%;\n",
              "      cursor: pointer;\n",
              "      display: none;\n",
              "      fill: #1967D2;\n",
              "      height: 32px;\n",
              "      padding: 0 0 0 0;\n",
              "      width: 32px;\n",
              "    }\n",
              "\n",
              "    .colab-df-convert:hover {\n",
              "      background-color: #E2EBFA;\n",
              "      box-shadow: 0px 1px 2px rgba(60, 64, 67, 0.3), 0px 1px 3px 1px rgba(60, 64, 67, 0.15);\n",
              "      fill: #174EA6;\n",
              "    }\n",
              "\n",
              "    [theme=dark] .colab-df-convert {\n",
              "      background-color: #3B4455;\n",
              "      fill: #D2E3FC;\n",
              "    }\n",
              "\n",
              "    [theme=dark] .colab-df-convert:hover {\n",
              "      background-color: #434B5C;\n",
              "      box-shadow: 0px 1px 3px 1px rgba(0, 0, 0, 0.15);\n",
              "      filter: drop-shadow(0px 1px 2px rgba(0, 0, 0, 0.3));\n",
              "      fill: #FFFFFF;\n",
              "    }\n",
              "  </style>\n",
              "\n",
              "      <script>\n",
              "        const buttonEl =\n",
              "          document.querySelector('#df-53df5f74-e4eb-4f73-aeef-1afdb1695ce7 button.colab-df-convert');\n",
              "        buttonEl.style.display =\n",
              "          google.colab.kernel.accessAllowed ? 'block' : 'none';\n",
              "\n",
              "        async function convertToInteractive(key) {\n",
              "          const element = document.querySelector('#df-53df5f74-e4eb-4f73-aeef-1afdb1695ce7');\n",
              "          const dataTable =\n",
              "            await google.colab.kernel.invokeFunction('convertToInteractive',\n",
              "                                                     [key], {});\n",
              "          if (!dataTable) return;\n",
              "\n",
              "          const docLinkHtml = 'Like what you see? Visit the ' +\n",
              "            '<a target=\"_blank\" href=https://colab.research.google.com/notebooks/data_table.ipynb>data table notebook</a>'\n",
              "            + ' to learn more about interactive tables.';\n",
              "          element.innerHTML = '';\n",
              "          dataTable['output_type'] = 'display_data';\n",
              "          await google.colab.output.renderOutput(dataTable, element);\n",
              "          const docLink = document.createElement('div');\n",
              "          docLink.innerHTML = docLinkHtml;\n",
              "          element.appendChild(docLink);\n",
              "        }\n",
              "      </script>\n",
              "    </div>\n",
              "  </div>\n",
              "  "
            ]
          },
          "metadata": {},
          "execution_count": 16
        }
      ]
    },
    {
      "cell_type": "code",
      "source": [
        "100*df['neighbourhood'].value_counts(normalize=True)\n",
        "\n",
        "# Qual a diferença entre adicionar ou não o argumento 'normalize = True' em value.counts?"
      ],
      "metadata": {
        "colab": {
          "base_uri": "https://localhost:8080/"
        },
        "id": "3wrqXgEfFx4O",
        "outputId": "e6bd33a6-1b74-4d6e-983b-826f52432177"
      },
      "execution_count": null,
      "outputs": [
        {
          "output_type": "execute_result",
          "data": {
            "text/plain": [
              "Copacabana                  29.580805\n",
              "Ipanema                     10.172421\n",
              "Barra da Tijuca              9.818737\n",
              "Leblon                       4.875206\n",
              "Recreio dos Bandeirantes     4.650135\n",
              "                              ...    \n",
              "Vila Kosmos                  0.004019\n",
              "Jacarezinho                  0.004019\n",
              "Zumbi                        0.004019\n",
              "Barros Filho                 0.004019\n",
              "Jardim América               0.004019\n",
              "Name: neighbourhood, Length: 153, dtype: float64"
            ]
          },
          "metadata": {},
          "execution_count": 20
        }
      ]
    },
    {
      "cell_type": "markdown",
      "source": [
        "#### Visualização gráfica da análise descritiva"
      ],
      "metadata": {
        "id": "6LcMZkOQtaA5"
      }
    },
    {
      "cell_type": "markdown",
      "source": [
        "##### Histogramas para as variáveis numéricas"
      ],
      "metadata": {
        "id": "En7UYTvCut-T"
      }
    },
    {
      "cell_type": "code",
      "source": [
        "sns.histplot(df['price'], kde=True);"
      ],
      "metadata": {
        "colab": {
          "base_uri": "https://localhost:8080/",
          "height": 279
        },
        "id": "bTmnR1S6GaE-",
        "outputId": "0529e83c-b1bb-47e9-da4f-521faff48a9a"
      },
      "execution_count": null,
      "outputs": [
        {
          "output_type": "display_data",
          "data": {
            "text/plain": [
              "<Figure size 432x288 with 1 Axes>"
            ],
            "image/png": "[encoded data removed]"
          },
          "metadata": {
            "needs_background": "light"
          }
        }
      ]
    },
    {
      "cell_type": "code",
      "source": [
        "sns.histplot(df[df.price < 4000].price, kde=True);"
      ],
      "metadata": {
        "colab": {
          "base_uri": "https://localhost:8080/",
          "height": 279
        },
        "id": "QoQ68l1uHDhD",
        "outputId": "16599e73-2d1b-4a6a-90e5-ebb1ef07ea71"
      },
      "execution_count": null,
      "outputs": [
        {
          "output_type": "display_data",
          "data": {
            "text/plain": [
              "<Figure size 432x288 with 1 Axes>"
            ],
            "image/png": "[encoded data removed]"
          },
          "metadata": {
            "needs_background": "light"
          }
        }
      ]
    },
    {
      "cell_type": "markdown",
      "source": [
        "##### Boxplots para as variáveis numéricas"
      ],
      "metadata": {
        "id": "EnxXWjt4uzWC"
      }
    },
    {
      "cell_type": "code",
      "source": [
        "sns.boxplot(df['price']);"
      ],
      "metadata": {
        "colab": {
          "base_uri": "https://localhost:8080/",
          "height": 335
        },
        "id": "RYVjbTbegJBX",
        "outputId": "47d9f1ff-7c57-4d44-b530-a691379fa7c7"
      },
      "execution_count": null,
      "outputs": [
        {
          "output_type": "stream",
          "name": "stderr",
          "text": [
            "/usr/local/lib/python3.8/dist-packages/seaborn/_decorators.py:36: FutureWarning: Pass the following variable as a keyword arg: x. From version 0.12, the only valid positional argument will be `data`, and passing other arguments without an explicit keyword will result in an error or misinterpretation.\n",
            "  warnings.warn(\n"
          ]
        },
        {
          "output_type": "display_data",
          "data": {
            "text/plain": [
              "<Figure size 432x288 with 1 Axes>"
            ],
            "image/png": "[encoded data removed]"
          },
          "metadata": {
            "needs_background": "light"
          }
        }
      ]
    },
    {
      "cell_type": "code",
      "source": [
        "sns.boxplot(df[df['price'].between(0, 4000)].price);"
      ],
      "metadata": {
        "colab": {
          "base_uri": "https://localhost:8080/",
          "height": 335
        },
        "id": "Hb63-0K-gc6l",
        "outputId": "e9856ac6-a7b5-403f-ebc6-0a05049b9ae4"
      },
      "execution_count": null,
      "outputs": [
        {
          "output_type": "stream",
          "name": "stderr",
          "text": [
            "/usr/local/lib/python3.8/dist-packages/seaborn/_decorators.py:36: FutureWarning: Pass the following variable as a keyword arg: x. From version 0.12, the only valid positional argument will be `data`, and passing other arguments without an explicit keyword will result in an error or misinterpretation.\n",
            "  warnings.warn(\n"
          ]
        },
        {
          "output_type": "display_data",
          "data": {
            "text/plain": [
              "<Figure size 432x288 with 1 Axes>"
            ],
            "image/png": "[encoded data removed]"
          },
          "metadata": {
            "needs_background": "light"
          }
        }
      ]
    },
    {
      "cell_type": "markdown",
      "source": [
        "##### Há *outliers*?\n",
        "Com base nas estatísticas descritivas acima, podemos dizer que há valores discrepantes?"
      ],
      "metadata": {
        "id": "elTV2bNfkyD4"
      }
    },
    {
      "cell_type": "markdown",
      "source": [
        "##### Gráficos de barras para as variáveis categóricas"
      ],
      "metadata": {
        "id": "RndkMzyWuqc5"
      }
    },
    {
      "cell_type": "code",
      "source": [
        "def grafico_barras_prop(data, variable):\n",
        "    (data[[variable]]\n",
        "     .value_counts(normalize = True, sort = False)\n",
        "     .rename(\"Proporção\")\n",
        "     .reset_index()\n",
        "     .pipe((sns.barplot, \"data\"), x=variable, y=\"Proporção\"))\n",
        "    plt.ylim(0,1)\n",
        "    plt.show()"
      ],
      "metadata": {
        "id": "yHns4GBEgxl5"
      },
      "execution_count": null,
      "outputs": []
    },
    {
      "cell_type": "code",
      "source": [
        "grafico_barras_prop(df, 'neighbourhood')"
      ],
      "metadata": {
        "colab": {
          "base_uri": "https://localhost:8080/",
          "height": 285
        },
        "id": "3hhr6Lo1IRru",
        "outputId": "433060fc-26d6-4030-bfe2-7380c74768fb"
      },
      "execution_count": null,
      "outputs": [
        {
          "output_type": "display_data",
          "data": {
            "text/plain": [
              "<Figure size 432x288 with 1 Axes>"
            ],
            "image/png": "[encoded data removed]"
          },
          "metadata": {
            "needs_background": "light"
          }
        }
      ]
    },
    {
      "cell_type": "code",
      "source": [
        "top5 = df['neighbourhood'].value_counts().index[:5]\n",
        "\n",
        "df_top5 = df[df['neighbourhood'].isin(top5)]\n",
        "\n",
        "grafico_barras_prop(df_top5, 'neighbourhood');"
      ],
      "metadata": {
        "colab": {
          "base_uri": "https://localhost:8080/",
          "height": 283
        },
        "id": "H9NW3UOnh3my",
        "outputId": "ed067dee-5a2f-426e-a2f2-51c7ecf864ea"
      },
      "execution_count": null,
      "outputs": [
        {
          "output_type": "display_data",
          "data": {
            "text/plain": [
              "<Figure size 432x288 with 1 Axes>"
            ],
            "image/png": "[encoded data removed]"
          },
          "metadata": {
            "needs_background": "light"
          }
        }
      ]
    },
    {
      "cell_type": "markdown",
      "source": [
        "##### E se eu quisesse avaliar um único bairro, ou um único tipo de acomodação?"
      ],
      "metadata": {
        "id": "O-e2L_IMChYB"
      }
    },
    {
      "cell_type": "code",
      "source": [
        "df[df.neighbourhood == 'Copacabana'].price.describe()"
      ],
      "metadata": {
        "colab": {
          "base_uri": "https://localhost:8080/"
        },
        "id": "hBmcV5s9Qegr",
        "outputId": "bb5db3b3-24fe-4e0b-ea44-db6a301c7dfd"
      },
      "execution_count": null,
      "outputs": [
        {
          "output_type": "execute_result",
          "data": {
            "text/plain": [
              "count      7360.000000\n",
              "mean        591.293342\n",
              "std        2767.632534\n",
              "min           0.000000\n",
              "25%         179.000000\n",
              "50%         259.000000\n",
              "75%         452.000000\n",
              "max      129068.000000\n",
              "Name: price, dtype: float64"
            ]
          },
          "metadata": {},
          "execution_count": 36
        }
      ]
    },
    {
      "cell_type": "markdown",
      "source": [
        "### Análise descritiva bivariada"
      ],
      "metadata": {
        "id": "1Rva_CyMlEST"
      }
    },
    {
      "cell_type": "markdown",
      "source": [
        "#### Perguntas a serem respondidas\n",
        "\n",
        "- Qual o bairro do Rio de Janeiro tem as acomodações mais caras?\n",
        "- Qual tipo de acomodação tende a ser mais cara?\n",
        "- Qual tipo de acomodação recebe mais reviews?\n",
        "- A quantidade de reviews está associada a quais outras variáveis?"
      ],
      "metadata": {
        "id": "9UCYgtKZWmkR"
      }
    },
    {
      "cell_type": "markdown",
      "source": [
        "#### Entre variáveis numéricas (quantitativas)"
      ],
      "metadata": {
        "id": "s1JSwabYlKGJ"
      }
    },
    {
      "cell_type": "code",
      "source": [
        "sns.scatterplot(data = df, y = 'price', x = 'number_of_reviews');"
      ],
      "metadata": {
        "id": "DT8fiz1umauA",
        "colab": {
          "base_uri": "https://localhost:8080/",
          "height": 280
        },
        "outputId": "11285edb-4b92-4e4b-9b41-b082f7d9e0a0"
      },
      "execution_count": null,
      "outputs": [
        {
          "output_type": "display_data",
          "data": {
            "text/plain": [
              "<Figure size 432x288 with 1 Axes>"
            ],
            "image/png": "[encoded data removed]"
          },
          "metadata": {
            "needs_background": "light"
          }
        }
      ]
    },
    {
      "cell_type": "code",
      "source": [
        "sns.scatterplot(data = df[df.price <= 1000], y = 'price', x = 'number_of_reviews');"
      ],
      "metadata": {
        "colab": {
          "base_uri": "https://localhost:8080/",
          "height": 280
        },
        "id": "nvup6YhhQcqU",
        "outputId": "8d98b823-1680-4081-fe50-fb49872faf1b"
      },
      "execution_count": null,
      "outputs": [
        {
          "output_type": "display_data",
          "data": {
            "text/plain": [
              "<Figure size 432x288 with 1 Axes>"
            ],
            "image/png": "[encoded data removed]"
          },
          "metadata": {
            "needs_background": "light"
          }
        }
      ]
    },
    {
      "cell_type": "code",
      "source": [
        "corr = df[vars_quant].corr().round(3)\n",
        "display(corr)"
      ],
      "metadata": {
        "colab": {
          "base_uri": "https://localhost:8080/",
          "height": 333
        },
        "id": "1YtMhjPPlI5S",
        "outputId": "5fafe8de-0dcc-442b-e9de-e4c23edaf237"
      },
      "execution_count": null,
      "outputs": [
        {
          "output_type": "display_data",
          "data": {
            "text/plain": [
              "                                price  minimum_nights  number_of_reviews  \\\n",
              "price                           1.000           0.014             -0.038   \n",
              "minimum_nights                  0.014           1.000             -0.035   \n",
              "number_of_reviews              -0.038          -0.035              1.000   \n",
              "reviews_per_month              -0.061          -0.041              0.511   \n",
              "calculated_host_listings_count  0.009           0.002             -0.050   \n",
              "availability_365                0.043           0.025             -0.142   \n",
              "number_of_reviews_ltm          -0.047          -0.048              0.698   \n",
              "\n",
              "                                reviews_per_month  \\\n",
              "price                                      -0.061   \n",
              "minimum_nights                             -0.041   \n",
              "number_of_reviews                           0.511   \n",
              "reviews_per_month                           1.000   \n",
              "calculated_host_listings_count              0.007   \n",
              "availability_365                           -0.103   \n",
              "number_of_reviews_ltm                       0.771   \n",
              "\n",
              "                                calculated_host_listings_count  \\\n",
              "price                                                    0.009   \n",
              "minimum_nights                                           0.002   \n",
              "number_of_reviews                                       -0.050   \n",
              "reviews_per_month                                        0.007   \n",
              "calculated_host_listings_count                           1.000   \n",
              "availability_365                                        -0.008   \n",
              "number_of_reviews_ltm                                   -0.017   \n",
              "\n",
              "                                availability_365  number_of_reviews_ltm  \n",
              "price                                      0.043                 -0.047  \n",
              "minimum_nights                             0.025                 -0.048  \n",
              "number_of_reviews                         -0.142                  0.698  \n",
              "reviews_per_month                         -0.103                  0.771  \n",
              "calculated_host_listings_count            -0.008                 -0.017  \n",
              "availability_365                           1.000                 -0.155  \n",
              "number_of_reviews_ltm                     -0.155                  1.000  "
            ],
            "text/html": [
              "\n",
              "  <div id=\"df-5afe2198-c75a-4464-b964-f7919d56c75d\">\n",
              "    <div class=\"colab-df-container\">\n",
              "      <div>\n",
              "<style scoped>\n",
              "    .dataframe tbody tr th:only-of-type {\n",
              "        vertical-align: middle;\n",
              "    }\n",
              "\n",
              "    .dataframe tbody tr th {\n",
              "        vertical-align: top;\n",
              "    }\n",
              "\n",
              "    .dataframe thead th {\n",
              "        text-align: right;\n",
              "    }\n",
              "</style>\n",
              "<table border=\"1\" class=\"dataframe\">\n",
              "  <thead>\n",
              "    <tr style=\"text-align: right;\">\n",
              "      <th></th>\n",
              "      <th>price</th>\n",
              "      <th>minimum_nights</th>\n",
              "      <th>number_of_reviews</th>\n",
              "      <th>reviews_per_month</th>\n",
              "      <th>calculated_host_listings_count</th>\n",
              "      <th>availability_365</th>\n",
              "      <th>number_of_reviews_ltm</th>\n",
              "    </tr>\n",
              "  </thead>\n",
              "  <tbody>\n",
              "    <tr>\n",
              "      <th>price</th>\n",
              "      <td>1.000</td>\n",
              "      <td>0.014</td>\n",
              "      <td>-0.038</td>\n",
              "      <td>-0.061</td>\n",
              "      <td>0.009</td>\n",
              "      <td>0.043</td>\n",
              "      <td>-0.047</td>\n",
              "    </tr>\n",
              "    <tr>\n",
              "      <th>minimum_nights</th>\n",
              "      <td>0.014</td>\n",
              "      <td>1.000</td>\n",
              "      <td>-0.035</td>\n",
              "      <td>-0.041</td>\n",
              "      <td>0.002</td>\n",
              "      <td>0.025</td>\n",
              "      <td>-0.048</td>\n",
              "    </tr>\n",
              "    <tr>\n",
              "      <th>number_of_reviews</th>\n",
              "      <td>-0.038</td>\n",
              "      <td>-0.035</td>\n",
              "      <td>1.000</td>\n",
              "      <td>0.511</td>\n",
              "      <td>-0.050</td>\n",
              "      <td>-0.142</td>\n",
              "      <td>0.698</td>\n",
              "    </tr>\n",
              "    <tr>\n",
              "      <th>reviews_per_month</th>\n",
              "      <td>-0.061</td>\n",
              "      <td>-0.041</td>\n",
              "      <td>0.511</td>\n",
              "      <td>1.000</td>\n",
              "      <td>0.007</td>\n",
              "      <td>-0.103</td>\n",
              "      <td>0.771</td>\n",
              "    </tr>\n",
              "    <tr>\n",
              "      <th>calculated_host_listings_count</th>\n",
              "      <td>0.009</td>\n",
              "      <td>0.002</td>\n",
              "      <td>-0.050</td>\n",
              "      <td>0.007</td>\n",
              "      <td>1.000</td>\n",
              "      <td>-0.008</td>\n",
              "      <td>-0.017</td>\n",
              "    </tr>\n",
              "    <tr>\n",
              "      <th>availability_365</th>\n",
              "      <td>0.043</td>\n",
              "      <td>0.025</td>\n",
              "      <td>-0.142</td>\n",
              "      <td>-0.103</td>\n",
              "      <td>-0.008</td>\n",
              "      <td>1.000</td>\n",
              "      <td>-0.155</td>\n",
              "    </tr>\n",
              "    <tr>\n",
              "      <th>number_of_reviews_ltm</th>\n",
              "      <td>-0.047</td>\n",
              "      <td>-0.048</td>\n",
              "      <td>0.698</td>\n",
              "      <td>0.771</td>\n",
              "      <td>-0.017</td>\n",
              "      <td>-0.155</td>\n",
              "      <td>1.000</td>\n",
              "    </tr>\n",
              "  </tbody>\n",
              "</table>\n",
              "</div>\n",
              "      <button class=\"colab-df-convert\" onclick=\"convertToInteractive('df-5afe2198-c75a-4464-b964-f7919d56c75d')\"\n",
              "              title=\"Convert this dataframe to an interactive table.\"\n",
              "              style=\"display:none;\">\n",
              "        \n",
              "  <svg xmlns=\"http://www.w3.org/2000/svg\" height=\"24px\"viewBox=\"0 0 24 24\"\n",
              "       width=\"24px\">\n",
              "    <path d=\"M0 0h24v24H0V0z\" fill=\"none\"/>\n",
              "    <path d=\"M18.56 5.44l.94 2.06.94-2.06 2.06-.94-2.06-.94-.94-2.06-.94 2.06-2.06.94zm-11 1L8.5 8.5l.94-2.06 2.06-.94-2.06-.94L8.5 2.5l-.94 2.06-2.06.94zm10 10l.94 2.06.94-2.06 2.06-.94-2.06-.94-.94-2.06-.94 2.06-2.06.94z\"/><path d=\"M17.41 7.96l-1.37-1.37c-.4-.4-.92-.59-1.43-.59-.52 0-1.04.2-1.43.59L10.3 9.45l-7.72 7.72c-.78.78-.78 2.05 0 2.83L4 21.41c.39.39.9.59 1.41.59.51 0 1.02-.2 1.41-.59l7.78-7.78 2.81-2.81c.8-.78.8-2.07 0-2.86zM5.41 20L4 18.59l7.72-7.72 1.47 1.35L5.41 20z\"/>\n",
              "  </svg>\n",
              "      </button>\n",
              "      \n",
              "  <style>\n",
              "    .colab-df-container {\n",
              "      display:flex;\n",
              "      flex-wrap:wrap;\n",
              "      gap: 12px;\n",
              "    }\n",
              "\n",
              "    .colab-df-convert {\n",
              "      background-color: #E8F0FE;\n",
              "      border: none;\n",
              "      border-radius: 50%;\n",
              "      cursor: pointer;\n",
              "      display: none;\n",
              "      fill: #1967D2;\n",
              "      height: 32px;\n",
              "      padding: 0 0 0 0;\n",
              "      width: 32px;\n",
              "    }\n",
              "\n",
              "    .colab-df-convert:hover {\n",
              "      background-color: #E2EBFA;\n",
              "      box-shadow: 0px 1px 2px rgba(60, 64, 67, 0.3), 0px 1px 3px 1px rgba(60, 64, 67, 0.15);\n",
              "      fill: #174EA6;\n",
              "    }\n",
              "\n",
              "    [theme=dark] .colab-df-convert {\n",
              "      background-color: #3B4455;\n",
              "      fill: #D2E3FC;\n",
              "    }\n",
              "\n",
              "    [theme=dark] .colab-df-convert:hover {\n",
              "      background-color: #434B5C;\n",
              "      box-shadow: 0px 1px 3px 1px rgba(0, 0, 0, 0.15);\n",
              "      filter: drop-shadow(0px 1px 2px rgba(0, 0, 0, 0.3));\n",
              "      fill: #FFFFFF;\n",
              "    }\n",
              "  </style>\n",
              "\n",
              "      <script>\n",
              "        const buttonEl =\n",
              "          document.querySelector('#df-5afe2198-c75a-4464-b964-f7919d56c75d button.colab-df-convert');\n",
              "        buttonEl.style.display =\n",
              "          google.colab.kernel.accessAllowed ? 'block' : 'none';\n",
              "\n",
              "        async function convertToInteractive(key) {\n",
              "          const element = document.querySelector('#df-5afe2198-c75a-4464-b964-f7919d56c75d');\n",
              "          const dataTable =\n",
              "            await google.colab.kernel.invokeFunction('convertToInteractive',\n",
              "                                                     [key], {});\n",
              "          if (!dataTable) return;\n",
              "\n",
              "          const docLinkHtml = 'Like what you see? Visit the ' +\n",
              "            '<a target=\"_blank\" href=https://colab.research.google.com/notebooks/data_table.ipynb>data table notebook</a>'\n",
              "            + ' to learn more about interactive tables.';\n",
              "          element.innerHTML = '';\n",
              "          dataTable['output_type'] = 'display_data';\n",
              "          await google.colab.output.renderOutput(dataTable, element);\n",
              "          const docLink = document.createElement('div');\n",
              "          docLink.innerHTML = docLinkHtml;\n",
              "          element.appendChild(docLink);\n",
              "        }\n",
              "      </script>\n",
              "    </div>\n",
              "  </div>\n",
              "  "
            ]
          },
          "metadata": {}
        }
      ]
    },
    {
      "cell_type": "code",
      "source": [
        "# Visualizar as correlações\n",
        "sns.heatmap(corr, cmap='RdBu', fmt='.2f',\n",
        "            square=True, linecolor='white',\n",
        "            annot=True, vmin = -1, vmax = 1,);"
      ],
      "metadata": {
        "colab": {
          "base_uri": "https://localhost:8080/",
          "height": 411
        },
        "id": "FMHiwXrOlgnm",
        "outputId": "0e2ed580-8c45-465b-b632-d37697fa89a5"
      },
      "execution_count": null,
      "outputs": [
        {
          "output_type": "display_data",
          "data": {
            "text/plain": [
              "<Figure size 432x288 with 2 Axes>"
            ],
            "image/png": "[encoded data removed]"
          },
          "metadata": {
            "needs_background": "light"
          }
        }
      ]
    },
    {
      "cell_type": "markdown",
      "source": [
        "#### Entre uma variável numérica e uma categórica"
      ],
      "metadata": {
        "id": "Oe6TFfPsQyXY"
      }
    },
    {
      "cell_type": "code",
      "source": [
        "df[['neighbourhood', 'price']].groupby('neighbourhood').describe().round(2)"
      ],
      "metadata": {
        "colab": {
          "base_uri": "https://localhost:8080/",
          "height": 486
        },
        "id": "Cc8dS-uoSF7s",
        "outputId": "eb2985e2-d90e-4f1b-e4de-7700df6eb07e"
      },
      "execution_count": null,
      "outputs": [
        {
          "output_type": "execute_result",
          "data": {
            "text/plain": [
              "                  price                                                    \\\n",
              "                  count     mean      std    min      25%     50%     75%   \n",
              "neighbourhood                                                               \n",
              "Abolição            4.0   317.00   329.19   89.0   119.00   189.5   387.5   \n",
              "Acari               1.0   250.00      NaN  250.0   250.00   250.0   250.0   \n",
              "Alto da Boa Vista  36.0  1680.86  2308.21   54.0   315.75   725.0  2500.0   \n",
              "Anchieta            2.0  2719.00  2713.88  800.0  1759.50  2719.0  3678.5   \n",
              "Andaraí            39.0  1008.44  3063.84   50.0   111.50   200.0   475.0   \n",
              "...                 ...      ...      ...    ...      ...     ...     ...   \n",
              "Vila Militar        2.0   122.00    32.53   99.0   110.50   122.0   133.5   \n",
              "Vila Valqueire     15.0   418.13   355.86   60.0    93.50   206.0   750.0   \n",
              "Vila da Penha       8.0   166.88    79.32   60.0   135.00   155.0   182.5   \n",
              "Zumbi               1.0   149.00      NaN  149.0   149.00   149.0   149.0   \n",
              "Água Santa          3.0   248.33   225.41   65.0   122.50   180.0   340.0   \n",
              "\n",
              "                            \n",
              "                       max  \n",
              "neighbourhood               \n",
              "Abolição             800.0  \n",
              "Acari                250.0  \n",
              "Alto da Boa Vista   9600.0  \n",
              "Anchieta            4638.0  \n",
              "Andaraí            17000.0  \n",
              "...                    ...  \n",
              "Vila Militar         145.0  \n",
              "Vila Valqueire      1000.0  \n",
              "Vila da Penha        335.0  \n",
              "Zumbi                149.0  \n",
              "Água Santa           500.0  \n",
              "\n",
              "[153 rows x 8 columns]"
            ],
            "text/html": [
              "\n",
              "  <div id=\"df-f60178b1-af4f-4fe7-b911-82021c0787e0\">\n",
              "    <div class=\"colab-df-container\">\n",
              "      <div>\n",
              "<style scoped>\n",
              "    .dataframe tbody tr th:only-of-type {\n",
              "        vertical-align: middle;\n",
              "    }\n",
              "\n",
              "    .dataframe tbody tr th {\n",
              "        vertical-align: top;\n",
              "    }\n",
              "\n",
              "    .dataframe thead tr th {\n",
              "        text-align: left;\n",
              "    }\n",
              "\n",
              "    .dataframe thead tr:last-of-type th {\n",
              "        text-align: right;\n",
              "    }\n",
              "</style>\n",
              "<table border=\"1\" class=\"dataframe\">\n",
              "  <thead>\n",
              "    <tr>\n",
              "      <th></th>\n",
              "      <th colspan=\"8\" halign=\"left\">price</th>\n",
              "    </tr>\n",
              "    <tr>\n",
              "      <th></th>\n",
              "      <th>count</th>\n",
              "      <th>mean</th>\n",
              "      <th>std</th>\n",
              "      <th>min</th>\n",
              "      <th>25%</th>\n",
              "      <th>50%</th>\n",
              "      <th>75%</th>\n",
              "      <th>max</th>\n",
              "    </tr>\n",
              "    <tr>\n",
              "      <th>neighbourhood</th>\n",
              "      <th></th>\n",
              "      <th></th>\n",
              "      <th></th>\n",
              "      <th></th>\n",
              "      <th></th>\n",
              "      <th></th>\n",
              "      <th></th>\n",
              "      <th></th>\n",
              "    </tr>\n",
              "  </thead>\n",
              "  <tbody>\n",
              "    <tr>\n",
              "      <th>Abolição</th>\n",
              "      <td>4.0</td>\n",
              "      <td>317.00</td>\n",
              "      <td>329.19</td>\n",
              "      <td>89.0</td>\n",
              "      <td>119.00</td>\n",
              "      <td>189.5</td>\n",
              "      <td>387.5</td>\n",
              "      <td>800.0</td>\n",
              "    </tr>\n",
              "    <tr>\n",
              "      <th>Acari</th>\n",
              "      <td>1.0</td>\n",
              "      <td>250.00</td>\n",
              "      <td>NaN</td>\n",
              "      <td>250.0</td>\n",
              "      <td>250.00</td>\n",
              "      <td>250.0</td>\n",
              "      <td>250.0</td>\n",
              "      <td>250.0</td>\n",
              "    </tr>\n",
              "    <tr>\n",
              "      <th>Alto da Boa Vista</th>\n",
              "      <td>36.0</td>\n",
              "      <td>1680.86</td>\n",
              "      <td>2308.21</td>\n",
              "      <td>54.0</td>\n",
              "      <td>315.75</td>\n",
              "      <td>725.0</td>\n",
              "      <td>2500.0</td>\n",
              "      <td>9600.0</td>\n",
              "    </tr>\n",
              "    <tr>\n",
              "      <th>Anchieta</th>\n",
              "      <td>2.0</td>\n",
              "      <td>2719.00</td>\n",
              "      <td>2713.88</td>\n",
              "      <td>800.0</td>\n",
              "      <td>1759.50</td>\n",
              "      <td>2719.0</td>\n",
              "      <td>3678.5</td>\n",
              "      <td>4638.0</td>\n",
              "    </tr>\n",
              "    <tr>\n",
              "      <th>Andaraí</th>\n",
              "      <td>39.0</td>\n",
              "      <td>1008.44</td>\n",
              "      <td>3063.84</td>\n",
              "      <td>50.0</td>\n",
              "      <td>111.50</td>\n",
              "      <td>200.0</td>\n",
              "      <td>475.0</td>\n",
              "      <td>17000.0</td>\n",
              "    </tr>\n",
              "    <tr>\n",
              "      <th>...</th>\n",
              "      <td>...</td>\n",
              "      <td>...</td>\n",
              "      <td>...</td>\n",
              "      <td>...</td>\n",
              "      <td>...</td>\n",
              "      <td>...</td>\n",
              "      <td>...</td>\n",
              "      <td>...</td>\n",
              "    </tr>\n",
              "    <tr>\n",
              "      <th>Vila Militar</th>\n",
              "      <td>2.0</td>\n",
              "      <td>122.00</td>\n",
              "      <td>32.53</td>\n",
              "      <td>99.0</td>\n",
              "      <td>110.50</td>\n",
              "      <td>122.0</td>\n",
              "      <td>133.5</td>\n",
              "      <td>145.0</td>\n",
              "    </tr>\n",
              "    <tr>\n",
              "      <th>Vila Valqueire</th>\n",
              "      <td>15.0</td>\n",
              "      <td>418.13</td>\n",
              "      <td>355.86</td>\n",
              "      <td>60.0</td>\n",
              "      <td>93.50</td>\n",
              "      <td>206.0</td>\n",
              "      <td>750.0</td>\n",
              "      <td>1000.0</td>\n",
              "    </tr>\n",
              "    <tr>\n",
              "      <th>Vila da Penha</th>\n",
              "      <td>8.0</td>\n",
              "      <td>166.88</td>\n",
              "      <td>79.32</td>\n",
              "      <td>60.0</td>\n",
              "      <td>135.00</td>\n",
              "      <td>155.0</td>\n",
              "      <td>182.5</td>\n",
              "      <td>335.0</td>\n",
              "    </tr>\n",
              "    <tr>\n",
              "      <th>Zumbi</th>\n",
              "      <td>1.0</td>\n",
              "      <td>149.00</td>\n",
              "      <td>NaN</td>\n",
              "      <td>149.0</td>\n",
              "      <td>149.00</td>\n",
              "      <td>149.0</td>\n",
              "      <td>149.0</td>\n",
              "      <td>149.0</td>\n",
              "    </tr>\n",
              "    <tr>\n",
              "      <th>Água Santa</th>\n",
              "      <td>3.0</td>\n",
              "      <td>248.33</td>\n",
              "      <td>225.41</td>\n",
              "      <td>65.0</td>\n",
              "      <td>122.50</td>\n",
              "      <td>180.0</td>\n",
              "      <td>340.0</td>\n",
              "      <td>500.0</td>\n",
              "    </tr>\n",
              "  </tbody>\n",
              "</table>\n",
              "<p>153 rows × 8 columns</p>\n",
              "</div>\n",
              "      <button class=\"colab-df-convert\" onclick=\"convertToInteractive('df-f60178b1-af4f-4fe7-b911-82021c0787e0')\"\n",
              "              title=\"Convert this dataframe to an interactive table.\"\n",
              "              style=\"display:none;\">\n",
              "        \n",
              "  <svg xmlns=\"http://www.w3.org/2000/svg\" height=\"24px\"viewBox=\"0 0 24 24\"\n",
              "       width=\"24px\">\n",
              "    <path d=\"M0 0h24v24H0V0z\" fill=\"none\"/>\n",
              "    <path d=\"M18.56 5.44l.94 2.06.94-2.06 2.06-.94-2.06-.94-.94-2.06-.94 2.06-2.06.94zm-11 1L8.5 8.5l.94-2.06 2.06-.94-2.06-.94L8.5 2.5l-.94 2.06-2.06.94zm10 10l.94 2.06.94-2.06 2.06-.94-2.06-.94-.94-2.06-.94 2.06-2.06.94z\"/><path d=\"M17.41 7.96l-1.37-1.37c-.4-.4-.92-.59-1.43-.59-.52 0-1.04.2-1.43.59L10.3 9.45l-7.72 7.72c-.78.78-.78 2.05 0 2.83L4 21.41c.39.39.9.59 1.41.59.51 0 1.02-.2 1.41-.59l7.78-7.78 2.81-2.81c.8-.78.8-2.07 0-2.86zM5.41 20L4 18.59l7.72-7.72 1.47 1.35L5.41 20z\"/>\n",
              "  </svg>\n",
              "      </button>\n",
              "      \n",
              "  <style>\n",
              "    .colab-df-container {\n",
              "      display:flex;\n",
              "      flex-wrap:wrap;\n",
              "      gap: 12px;\n",
              "    }\n",
              "\n",
              "    .colab-df-convert {\n",
              "      background-color: #E8F0FE;\n",
              "      border: none;\n",
              "      border-radius: 50%;\n",
              "      cursor: pointer;\n",
              "      display: none;\n",
              "      fill: #1967D2;\n",
              "      height: 32px;\n",
              "      padding: 0 0 0 0;\n",
              "      width: 32px;\n",
              "    }\n",
              "\n",
              "    .colab-df-convert:hover {\n",
              "      background-color: #E2EBFA;\n",
              "      box-shadow: 0px 1px 2px rgba(60, 64, 67, 0.3), 0px 1px 3px 1px rgba(60, 64, 67, 0.15);\n",
              "      fill: #174EA6;\n",
              "    }\n",
              "\n",
              "    [theme=dark] .colab-df-convert {\n",
              "      background-color: #3B4455;\n",
              "      fill: #D2E3FC;\n",
              "    }\n",
              "\n",
              "    [theme=dark] .colab-df-convert:hover {\n",
              "      background-color: #434B5C;\n",
              "      box-shadow: 0px 1px 3px 1px rgba(0, 0, 0, 0.15);\n",
              "      filter: drop-shadow(0px 1px 2px rgba(0, 0, 0, 0.3));\n",
              "      fill: #FFFFFF;\n",
              "    }\n",
              "  </style>\n",
              "\n",
              "      <script>\n",
              "        const buttonEl =\n",
              "          document.querySelector('#df-f60178b1-af4f-4fe7-b911-82021c0787e0 button.colab-df-convert');\n",
              "        buttonEl.style.display =\n",
              "          google.colab.kernel.accessAllowed ? 'block' : 'none';\n",
              "\n",
              "        async function convertToInteractive(key) {\n",
              "          const element = document.querySelector('#df-f60178b1-af4f-4fe7-b911-82021c0787e0');\n",
              "          const dataTable =\n",
              "            await google.colab.kernel.invokeFunction('convertToInteractive',\n",
              "                                                     [key], {});\n",
              "          if (!dataTable) return;\n",
              "\n",
              "          const docLinkHtml = 'Like what you see? Visit the ' +\n",
              "            '<a target=\"_blank\" href=https://colab.research.google.com/notebooks/data_table.ipynb>data table notebook</a>'\n",
              "            + ' to learn more about interactive tables.';\n",
              "          element.innerHTML = '';\n",
              "          dataTable['output_type'] = 'display_data';\n",
              "          await google.colab.output.renderOutput(dataTable, element);\n",
              "          const docLink = document.createElement('div');\n",
              "          docLink.innerHTML = docLinkHtml;\n",
              "          element.appendChild(docLink);\n",
              "        }\n",
              "      </script>\n",
              "    </div>\n",
              "  </div>\n",
              "  "
            ]
          },
          "metadata": {},
          "execution_count": 41
        }
      ]
    },
    {
      "cell_type": "code",
      "source": [
        "df_top5.groupby('neighbourhood').price.describe().round(2)"
      ],
      "metadata": {
        "colab": {
          "base_uri": "https://localhost:8080/",
          "height": 238
        },
        "id": "tPqp6f4fSycX",
        "outputId": "1aa61104-5f35-45a9-de0a-d74a0d5d0f64"
      },
      "execution_count": null,
      "outputs": [
        {
          "output_type": "execute_result",
          "data": {
            "text/plain": [
              "                           count    mean      std   min    25%    50%    75%  \\\n",
              "neighbourhood                                                                  \n",
              "Barra da Tijuca           2443.0  986.89  2339.67   0.0  272.0  450.0  900.0   \n",
              "Copacabana                7360.0  591.29  2767.63   0.0  179.0  259.0  452.0   \n",
              "Ipanema                   2531.0  739.14  1535.20  55.0  269.0  420.0  750.0   \n",
              "Leblon                    1213.0  936.24  2389.91  52.0  331.0  500.0  800.0   \n",
              "Recreio dos Bandeirantes  1157.0  785.90  1571.91  51.0  215.0  390.0  774.0   \n",
              "\n",
              "                               max  \n",
              "neighbourhood                       \n",
              "Barra da Tijuca            51627.0  \n",
              "Copacabana                129068.0  \n",
              "Ipanema                    50000.0  \n",
              "Leblon                     50000.0  \n",
              "Recreio dos Bandeirantes   25000.0  "
            ],
            "text/html": [
              "\n",
              "  <div id=\"df-54832887-2923-4736-8984-404db7d96025\">\n",
              "    <div class=\"colab-df-container\">\n",
              "      <div>\n",
              "<style scoped>\n",
              "    .dataframe tbody tr th:only-of-type {\n",
              "        vertical-align: middle;\n",
              "    }\n",
              "\n",
              "    .dataframe tbody tr th {\n",
              "        vertical-align: top;\n",
              "    }\n",
              "\n",
              "    .dataframe thead th {\n",
              "        text-align: right;\n",
              "    }\n",
              "</style>\n",
              "<table border=\"1\" class=\"dataframe\">\n",
              "  <thead>\n",
              "    <tr style=\"text-align: right;\">\n",
              "      <th></th>\n",
              "      <th>count</th>\n",
              "      <th>mean</th>\n",
              "      <th>std</th>\n",
              "      <th>min</th>\n",
              "      <th>25%</th>\n",
              "      <th>50%</th>\n",
              "      <th>75%</th>\n",
              "      <th>max</th>\n",
              "    </tr>\n",
              "    <tr>\n",
              "      <th>neighbourhood</th>\n",
              "      <th></th>\n",
              "      <th></th>\n",
              "      <th></th>\n",
              "      <th></th>\n",
              "      <th></th>\n",
              "      <th></th>\n",
              "      <th></th>\n",
              "      <th></th>\n",
              "    </tr>\n",
              "  </thead>\n",
              "  <tbody>\n",
              "    <tr>\n",
              "      <th>Barra da Tijuca</th>\n",
              "      <td>2443.0</td>\n",
              "      <td>986.89</td>\n",
              "      <td>2339.67</td>\n",
              "      <td>0.0</td>\n",
              "      <td>272.0</td>\n",
              "      <td>450.0</td>\n",
              "      <td>900.0</td>\n",
              "      <td>51627.0</td>\n",
              "    </tr>\n",
              "    <tr>\n",
              "      <th>Copacabana</th>\n",
              "      <td>7360.0</td>\n",
              "      <td>591.29</td>\n",
              "      <td>2767.63</td>\n",
              "      <td>0.0</td>\n",
              "      <td>179.0</td>\n",
              "      <td>259.0</td>\n",
              "      <td>452.0</td>\n",
              "      <td>129068.0</td>\n",
              "    </tr>\n",
              "    <tr>\n",
              "      <th>Ipanema</th>\n",
              "      <td>2531.0</td>\n",
              "      <td>739.14</td>\n",
              "      <td>1535.20</td>\n",
              "      <td>55.0</td>\n",
              "      <td>269.0</td>\n",
              "      <td>420.0</td>\n",
              "      <td>750.0</td>\n",
              "      <td>50000.0</td>\n",
              "    </tr>\n",
              "    <tr>\n",
              "      <th>Leblon</th>\n",
              "      <td>1213.0</td>\n",
              "      <td>936.24</td>\n",
              "      <td>2389.91</td>\n",
              "      <td>52.0</td>\n",
              "      <td>331.0</td>\n",
              "      <td>500.0</td>\n",
              "      <td>800.0</td>\n",
              "      <td>50000.0</td>\n",
              "    </tr>\n",
              "    <tr>\n",
              "      <th>Recreio dos Bandeirantes</th>\n",
              "      <td>1157.0</td>\n",
              "      <td>785.90</td>\n",
              "      <td>1571.91</td>\n",
              "      <td>51.0</td>\n",
              "      <td>215.0</td>\n",
              "      <td>390.0</td>\n",
              "      <td>774.0</td>\n",
              "      <td>25000.0</td>\n",
              "    </tr>\n",
              "  </tbody>\n",
              "</table>\n",
              "</div>\n",
              "      <button class=\"colab-df-convert\" onclick=\"convertToInteractive('df-54832887-2923-4736-8984-404db7d96025')\"\n",
              "              title=\"Convert this dataframe to an interactive table.\"\n",
              "              style=\"display:none;\">\n",
              "        \n",
              "  <svg xmlns=\"http://www.w3.org/2000/svg\" height=\"24px\"viewBox=\"0 0 24 24\"\n",
              "       width=\"24px\">\n",
              "    <path d=\"M0 0h24v24H0V0z\" fill=\"none\"/>\n",
              "    <path d=\"M18.56 5.44l.94 2.06.94-2.06 2.06-.94-2.06-.94-.94-2.06-.94 2.06-2.06.94zm-11 1L8.5 8.5l.94-2.06 2.06-.94-2.06-.94L8.5 2.5l-.94 2.06-2.06.94zm10 10l.94 2.06.94-2.06 2.06-.94-2.06-.94-.94-2.06-.94 2.06-2.06.94z\"/><path d=\"M17.41 7.96l-1.37-1.37c-.4-.4-.92-.59-1.43-.59-.52 0-1.04.2-1.43.59L10.3 9.45l-7.72 7.72c-.78.78-.78 2.05 0 2.83L4 21.41c.39.39.9.59 1.41.59.51 0 1.02-.2 1.41-.59l7.78-7.78 2.81-2.81c.8-.78.8-2.07 0-2.86zM5.41 20L4 18.59l7.72-7.72 1.47 1.35L5.41 20z\"/>\n",
              "  </svg>\n",
              "      </button>\n",
              "      \n",
              "  <style>\n",
              "    .colab-df-container {\n",
              "      display:flex;\n",
              "      flex-wrap:wrap;\n",
              "      gap: 12px;\n",
              "    }\n",
              "\n",
              "    .colab-df-convert {\n",
              "      background-color: #E8F0FE;\n",
              "      border: none;\n",
              "      border-radius: 50%;\n",
              "      cursor: pointer;\n",
              "      display: none;\n",
              "      fill: #1967D2;\n",
              "      height: 32px;\n",
              "      padding: 0 0 0 0;\n",
              "      width: 32px;\n",
              "    }\n",
              "\n",
              "    .colab-df-convert:hover {\n",
              "      background-color: #E2EBFA;\n",
              "      box-shadow: 0px 1px 2px rgba(60, 64, 67, 0.3), 0px 1px 3px 1px rgba(60, 64, 67, 0.15);\n",
              "      fill: #174EA6;\n",
              "    }\n",
              "\n",
              "    [theme=dark] .colab-df-convert {\n",
              "      background-color: #3B4455;\n",
              "      fill: #D2E3FC;\n",
              "    }\n",
              "\n",
              "    [theme=dark] .colab-df-convert:hover {\n",
              "      background-color: #434B5C;\n",
              "      box-shadow: 0px 1px 3px 1px rgba(0, 0, 0, 0.15);\n",
              "      filter: drop-shadow(0px 1px 2px rgba(0, 0, 0, 0.3));\n",
              "      fill: #FFFFFF;\n",
              "    }\n",
              "  </style>\n",
              "\n",
              "      <script>\n",
              "        const buttonEl =\n",
              "          document.querySelector('#df-54832887-2923-4736-8984-404db7d96025 button.colab-df-convert');\n",
              "        buttonEl.style.display =\n",
              "          google.colab.kernel.accessAllowed ? 'block' : 'none';\n",
              "\n",
              "        async function convertToInteractive(key) {\n",
              "          const element = document.querySelector('#df-54832887-2923-4736-8984-404db7d96025');\n",
              "          const dataTable =\n",
              "            await google.colab.kernel.invokeFunction('convertToInteractive',\n",
              "                                                     [key], {});\n",
              "          if (!dataTable) return;\n",
              "\n",
              "          const docLinkHtml = 'Like what you see? Visit the ' +\n",
              "            '<a target=\"_blank\" href=https://colab.research.google.com/notebooks/data_table.ipynb>data table notebook</a>'\n",
              "            + ' to learn more about interactive tables.';\n",
              "          element.innerHTML = '';\n",
              "          dataTable['output_type'] = 'display_data';\n",
              "          await google.colab.output.renderOutput(dataTable, element);\n",
              "          const docLink = document.createElement('div');\n",
              "          docLink.innerHTML = docLinkHtml;\n",
              "          element.appendChild(docLink);\n",
              "        }\n",
              "      </script>\n",
              "    </div>\n",
              "  </div>\n",
              "  "
            ]
          },
          "metadata": {},
          "execution_count": 42
        }
      ]
    },
    {
      "cell_type": "code",
      "source": [
        "sns.boxplot(x = 'neighbourhood', y = 'price', data = df_top5);"
      ],
      "metadata": {
        "colab": {
          "base_uri": "https://localhost:8080/",
          "height": 279
        },
        "id": "7iUEu3-rQ7DY",
        "outputId": "3aa8484c-351b-4fbb-adba-01c61a8cd7a3"
      },
      "execution_count": null,
      "outputs": [
        {
          "output_type": "display_data",
          "data": {
            "text/plain": [
              "<Figure size 432x288 with 1 Axes>"
            ],
            "image/png": "[encoded data removed]"
          },
          "metadata": {
            "needs_background": "light"
          }
        }
      ]
    },
    {
      "cell_type": "code",
      "source": [
        "sns.boxplot(x = 'neighbourhood', y = 'price', data = df_top5[df.price <= 1000]);"
      ],
      "metadata": {
        "colab": {
          "base_uri": "https://localhost:8080/",
          "height": 315
        },
        "id": "zxUwXSHrRZR6",
        "outputId": "e9c27026-c2ef-4a35-fd46-972d6e71c788"
      },
      "execution_count": null,
      "outputs": [
        {
          "output_type": "stream",
          "name": "stderr",
          "text": [
            "/usr/local/lib/python3.7/dist-packages/ipykernel_launcher.py:1: UserWarning: Boolean Series key will be reindexed to match DataFrame index.\n",
            "  \"\"\"Entry point for launching an IPython kernel.\n"
          ]
        },
        {
          "output_type": "display_data",
          "data": {
            "text/plain": [
              "<Figure size 432x288 with 1 Axes>"
            ],
            "image/png": "[encoded data removed]"
          },
          "metadata": {
            "needs_background": "light"
          }
        }
      ]
    },
    {
      "cell_type": "markdown",
      "source": [
        "#### Entre duas variáveis categóricas"
      ],
      "metadata": {
        "id": "X6UWdzjYTFnE"
      }
    },
    {
      "cell_type": "code",
      "source": [
        "def grafico_barras_prop_grp(data, variable, grp):\n",
        "    (data\n",
        "     .groupby(variable)[grp]\n",
        "     .value_counts(normalize=True, sort = False)\n",
        "     .rename(\"Proporção\")\n",
        "     .reset_index()\n",
        "     .pipe((sns.catplot, \"data\"), x = variable, y = \"Proporção\", hue = grp, kind = \"bar\"))\n",
        "    plt.ylim(0,1)\n",
        "    plt.show()"
      ],
      "metadata": {
        "id": "qhLPfrFHTIlL"
      },
      "execution_count": null,
      "outputs": []
    },
    {
      "cell_type": "code",
      "source": [
        "grafico_barras_prop_grp(data = df_top5, variable = 'neighbourhood', grp = 'room_type')"
      ],
      "metadata": {
        "colab": {
          "base_uri": "https://localhost:8080/",
          "height": 373
        },
        "id": "jclZ-gifUOW2",
        "outputId": "8a4406bf-e11f-49c4-abb4-fafc520918e6"
      },
      "execution_count": null,
      "outputs": [
        {
          "output_type": "display_data",
          "data": {
            "text/plain": [
              "<Figure size 476.25x360 with 1 Axes>"
            ],
            "image/png": "[encoded data removed]"
          },
          "metadata": {
            "needs_background": "light"
          }
        }
      ]
    },
    {
      "cell_type": "code",
      "source": [
        "pd.crosstab(df_top5.neighbourhood, df_top5.room_type, normalize='index')\n",
        "\n",
        "# Para investigar: qual a função do argumento normalize='index'?"
      ],
      "metadata": {
        "colab": {
          "base_uri": "https://localhost:8080/",
          "height": 238
        },
        "id": "zPwb_ZLYVKQF",
        "outputId": "04151b03-fb31-4fcd-e76d-756c51b4477f"
      },
      "execution_count": null,
      "outputs": [
        {
          "output_type": "execute_result",
          "data": {
            "text/plain": [
              "room_type                 Entire home/apt  Hotel room  Private room  \\\n",
              "neighbourhood                                                         \n",
              "Barra da Tijuca                  0.828080    0.002865      0.163324   \n",
              "Copacabana                       0.840217    0.001359      0.149457   \n",
              "Ipanema                          0.868036    0.001185      0.124062   \n",
              "Leblon                           0.894477    0.002473      0.102226   \n",
              "Recreio dos Bandeirantes         0.795160    0.000000      0.193604   \n",
              "\n",
              "room_type                 Shared room  \n",
              "neighbourhood                          \n",
              "Barra da Tijuca              0.005731  \n",
              "Copacabana                   0.008967  \n",
              "Ipanema                      0.006717  \n",
              "Leblon                       0.000824  \n",
              "Recreio dos Bandeirantes     0.011236  "
            ],
            "text/html": [
              "\n",
              "  <div id=\"df-a57f002a-006e-4205-9e8d-0b414da04ac1\">\n",
              "    <div class=\"colab-df-container\">\n",
              "      <div>\n",
              "<style scoped>\n",
              "    .dataframe tbody tr th:only-of-type {\n",
              "        vertical-align: middle;\n",
              "    }\n",
              "\n",
              "    .dataframe tbody tr th {\n",
              "        vertical-align: top;\n",
              "    }\n",
              "\n",
              "    .dataframe thead th {\n",
              "        text-align: right;\n",
              "    }\n",
              "</style>\n",
              "<table border=\"1\" class=\"dataframe\">\n",
              "  <thead>\n",
              "    <tr style=\"text-align: right;\">\n",
              "      <th>room_type</th>\n",
              "      <th>Entire home/apt</th>\n",
              "      <th>Hotel room</th>\n",
              "      <th>Private room</th>\n",
              "      <th>Shared room</th>\n",
              "    </tr>\n",
              "    <tr>\n",
              "      <th>neighbourhood</th>\n",
              "      <th></th>\n",
              "      <th></th>\n",
              "      <th></th>\n",
              "      <th></th>\n",
              "    </tr>\n",
              "  </thead>\n",
              "  <tbody>\n",
              "    <tr>\n",
              "      <th>Barra da Tijuca</th>\n",
              "      <td>0.828080</td>\n",
              "      <td>0.002865</td>\n",
              "      <td>0.163324</td>\n",
              "      <td>0.005731</td>\n",
              "    </tr>\n",
              "    <tr>\n",
              "      <th>Copacabana</th>\n",
              "      <td>0.840217</td>\n",
              "      <td>0.001359</td>\n",
              "      <td>0.149457</td>\n",
              "      <td>0.008967</td>\n",
              "    </tr>\n",
              "    <tr>\n",
              "      <th>Ipanema</th>\n",
              "      <td>0.868036</td>\n",
              "      <td>0.001185</td>\n",
              "      <td>0.124062</td>\n",
              "      <td>0.006717</td>\n",
              "    </tr>\n",
              "    <tr>\n",
              "      <th>Leblon</th>\n",
              "      <td>0.894477</td>\n",
              "      <td>0.002473</td>\n",
              "      <td>0.102226</td>\n",
              "      <td>0.000824</td>\n",
              "    </tr>\n",
              "    <tr>\n",
              "      <th>Recreio dos Bandeirantes</th>\n",
              "      <td>0.795160</td>\n",
              "      <td>0.000000</td>\n",
              "      <td>0.193604</td>\n",
              "      <td>0.011236</td>\n",
              "    </tr>\n",
              "  </tbody>\n",
              "</table>\n",
              "</div>\n",
              "      <button class=\"colab-df-convert\" onclick=\"convertToInteractive('df-a57f002a-006e-4205-9e8d-0b414da04ac1')\"\n",
              "              title=\"Convert this dataframe to an interactive table.\"\n",
              "              style=\"display:none;\">\n",
              "        \n",
              "  <svg xmlns=\"http://www.w3.org/2000/svg\" height=\"24px\"viewBox=\"0 0 24 24\"\n",
              "       width=\"24px\">\n",
              "    <path d=\"M0 0h24v24H0V0z\" fill=\"none\"/>\n",
              "    <path d=\"M18.56 5.44l.94 2.06.94-2.06 2.06-.94-2.06-.94-.94-2.06-.94 2.06-2.06.94zm-11 1L8.5 8.5l.94-2.06 2.06-.94-2.06-.94L8.5 2.5l-.94 2.06-2.06.94zm10 10l.94 2.06.94-2.06 2.06-.94-2.06-.94-.94-2.06-.94 2.06-2.06.94z\"/><path d=\"M17.41 7.96l-1.37-1.37c-.4-.4-.92-.59-1.43-.59-.52 0-1.04.2-1.43.59L10.3 9.45l-7.72 7.72c-.78.78-.78 2.05 0 2.83L4 21.41c.39.39.9.59 1.41.59.51 0 1.02-.2 1.41-.59l7.78-7.78 2.81-2.81c.8-.78.8-2.07 0-2.86zM5.41 20L4 18.59l7.72-7.72 1.47 1.35L5.41 20z\"/>\n",
              "  </svg>\n",
              "      </button>\n",
              "      \n",
              "  <style>\n",
              "    .colab-df-container {\n",
              "      display:flex;\n",
              "      flex-wrap:wrap;\n",
              "      gap: 12px;\n",
              "    }\n",
              "\n",
              "    .colab-df-convert {\n",
              "      background-color: #E8F0FE;\n",
              "      border: none;\n",
              "      border-radius: 50%;\n",
              "      cursor: pointer;\n",
              "      display: none;\n",
              "      fill: #1967D2;\n",
              "      height: 32px;\n",
              "      padding: 0 0 0 0;\n",
              "      width: 32px;\n",
              "    }\n",
              "\n",
              "    .colab-df-convert:hover {\n",
              "      background-color: #E2EBFA;\n",
              "      box-shadow: 0px 1px 2px rgba(60, 64, 67, 0.3), 0px 1px 3px 1px rgba(60, 64, 67, 0.15);\n",
              "      fill: #174EA6;\n",
              "    }\n",
              "\n",
              "    [theme=dark] .colab-df-convert {\n",
              "      background-color: #3B4455;\n",
              "      fill: #D2E3FC;\n",
              "    }\n",
              "\n",
              "    [theme=dark] .colab-df-convert:hover {\n",
              "      background-color: #434B5C;\n",
              "      box-shadow: 0px 1px 3px 1px rgba(0, 0, 0, 0.15);\n",
              "      filter: drop-shadow(0px 1px 2px rgba(0, 0, 0, 0.3));\n",
              "      fill: #FFFFFF;\n",
              "    }\n",
              "  </style>\n",
              "\n",
              "      <script>\n",
              "        const buttonEl =\n",
              "          document.querySelector('#df-a57f002a-006e-4205-9e8d-0b414da04ac1 button.colab-df-convert');\n",
              "        buttonEl.style.display =\n",
              "          google.colab.kernel.accessAllowed ? 'block' : 'none';\n",
              "\n",
              "        async function convertToInteractive(key) {\n",
              "          const element = document.querySelector('#df-a57f002a-006e-4205-9e8d-0b414da04ac1');\n",
              "          const dataTable =\n",
              "            await google.colab.kernel.invokeFunction('convertToInteractive',\n",
              "                                                     [key], {});\n",
              "          if (!dataTable) return;\n",
              "\n",
              "          const docLinkHtml = 'Like what you see? Visit the ' +\n",
              "            '<a target=\"_blank\" href=https://colab.research.google.com/notebooks/data_table.ipynb>data table notebook</a>'\n",
              "            + ' to learn more about interactive tables.';\n",
              "          element.innerHTML = '';\n",
              "          dataTable['output_type'] = 'display_data';\n",
              "          await google.colab.output.renderOutput(dataTable, element);\n",
              "          const docLink = document.createElement('div');\n",
              "          docLink.innerHTML = docLinkHtml;\n",
              "          element.appendChild(docLink);\n",
              "        }\n",
              "      </script>\n",
              "    </div>\n",
              "  </div>\n",
              "  "
            ]
          },
          "metadata": {},
          "execution_count": 49
        }
      ]
    },
    {
      "cell_type": "markdown",
      "source": [
        "### Análise espacial das acomodações"
      ],
      "metadata": {
        "id": "iJZ7-HIcWKsu"
      }
    },
    {
      "cell_type": "code",
      "metadata": {
        "id": "UxVJqJ_3W59I",
        "colab": {
          "base_uri": "https://localhost:8080/",
          "height": 476
        },
        "outputId": "510bd731-c1c6-456a-ec32-d94984e5c33d"
      },
      "source": [
        "df[df.price <= 1000].plot(kind = 'scatter',\n",
        "                          x = 'longitude',\n",
        "                          y = 'latitude',\n",
        "                          alpha = 0.4,\n",
        "                          c = 'price',\n",
        "                          s = 8,\n",
        "                          cmap = plt.get_cmap('jet'),\n",
        "                          figsize = (12,8));"
      ],
      "execution_count": null,
      "outputs": [
        {
          "output_type": "display_data",
          "data": {
            "text/plain": [
              "<Figure size 864x576 with 2 Axes>"
            ],
            "image/png": "[encoded data removed]"
          },
          "metadata": {
            "needs_background": "light"
          }
        }
      ]
    },
    {
      "cell_type": "markdown",
      "source": [
        "### Análises inferenciais"
      ],
      "metadata": {
        "id": "5IEL931sW8gb"
      }
    },
    {
      "cell_type": "markdown",
      "source": [
        "#### Intervalo de confiança 95% para médias"
      ],
      "metadata": {
        "id": "w8NkxXxn7ifX"
      }
    },
    {
      "cell_type": "code",
      "source": [
        "import scipy.stats as st\n",
        "import numpy as np\n",
        "\n",
        "st.norm.interval(alpha = 0.95,\n",
        "                 loc = np.mean(df[df.neighbourhood == 'Leblon'].price),\n",
        "                 scale = st.sem(df[df.neighbourhood == 'Leblon'].price))"
      ],
      "metadata": {
        "colab": {
          "base_uri": "https://localhost:8080/"
        },
        "id": "yab_L8dN68zJ",
        "outputId": "e1ad5f08-7b65-4f10-f81b-fcd285508e72"
      },
      "execution_count": null,
      "outputs": [
        {
          "output_type": "execute_result",
          "data": {
            "text/plain": [
              "(801.7502952914043, 1070.7361020705084)"
            ]
          },
          "metadata": {},
          "execution_count": 15
        }
      ]
    },
    {
      "cell_type": "code",
      "source": [
        "st.norm.interval(alpha = 0.95,\n",
        "                 loc = np.mean(df[df.neighbourhood == 'Copacabana'].price),\n",
        "                 scale = st.sem(df[df.neighbourhood == 'Copacabana'].price))"
      ],
      "metadata": {
        "colab": {
          "base_uri": "https://localhost:8080/"
        },
        "id": "cAErXCsyiu75",
        "outputId": "53d7782a-298e-4b12-9c06-d295a0b55d3c"
      },
      "execution_count": null,
      "outputs": [
        {
          "output_type": "execute_result",
          "data": {
            "text/plain": [
              "(528.0641534554413, 654.5225313271674)"
            ]
          },
          "metadata": {},
          "execution_count": 16
        }
      ]
    },
    {
      "cell_type": "code",
      "source": [
        "st.norm.interval(alpha = 0.95,\n",
        "                 loc = np.mean(df[(df.neighbourhood == 'Barra da Tijuca') & (df.price < 1000)].price),\n",
        "                 scale = st.sem(df[(df.neighbourhood == 'Barra da Tijuca') & (df.price < 1000)].price))"
      ],
      "metadata": {
        "colab": {
          "base_uri": "https://localhost:8080/"
        },
        "id": "cEWdmwnGk9r9",
        "outputId": "14b6ed20-918b-4394-967d-a65612e5356b"
      },
      "execution_count": null,
      "outputs": [
        {
          "output_type": "execute_result",
          "data": {
            "text/plain": [
              "(393.55420093213667, 412.70468500950784)"
            ]
          },
          "metadata": {},
          "execution_count": 17
        }
      ]
    },
    {
      "cell_type": "markdown",
      "source": [
        "#### Há diferenças estatisticamente significativas no preço dos diferentes bairros (top 5)?"
      ],
      "metadata": {
        "id": "YKUOUKh-XzEY"
      }
    },
    {
      "cell_type": "markdown",
      "source": [
        "##### Teste de hipóteses - ANOVA\n",
        "\n",
        "Neste caso queremos comparar a média de preços entre os cinco bairros com mais locações no período. Como queremos comparar as médias de mais de dois grupos independentes, teste F da ANOVA será utilizado.\n",
        "\n",
        "As hipóteses desse teste serão:\n",
        "\n",
        "* H0 (nula) = Não existe diferença das médias de preços entre os bairros. - *Escolhida quando p > 0.05*\n",
        "* H1 (alternativa) = Existe pelo menos uma diferença nas médias de preços dos diferentes bairros. - *Escolhida quando p < 0.05*"
      ],
      "metadata": {
        "id": "JaghgMfXYC2R"
      }
    },
    {
      "cell_type": "code",
      "source": [
        "import statsmodels.api as sm\n",
        "from statsmodels.formula.api import ols\n",
        "\n",
        "mod = ols('price ~ neighbourhood',\n",
        "          data = df_top5).fit()\n",
        "                \n",
        "aov_table = sm.stats.anova_lm(mod, typ = 3)\n",
        "print(aov_table)"
      ],
      "metadata": {
        "id": "ZRDIDeouZ4Ne",
        "colab": {
          "base_uri": "https://localhost:8080/"
        },
        "outputId": "0071470e-b642-4ea9-f4cd-f325cb26bfd0"
      },
      "execution_count": null,
      "outputs": [
        {
          "output_type": "stream",
          "name": "stdout",
          "text": [
            "                     sum_sq       df           F        PR(>F)\n",
            "Intercept      2.379380e+09      1.0  409.165280  9.245124e-90\n",
            "neighbourhood  3.580426e+08      4.0   15.392521  1.440834e-12\n",
            "Residual       8.547769e+10  14699.0         NaN           NaN\n"
          ]
        }
      ]
    },
    {
      "cell_type": "code",
      "source": [
        "# Comparações entre pares\n",
        "from statsmodels.stats.multicomp import pairwise_tukeyhsd\n",
        "\n",
        "tukey = pairwise_tukeyhsd(df_top5['price'],\n",
        "                          df_top5['neighbourhood'],\n",
        "                          alpha = 0.05)\n",
        "\n",
        "print(tukey)"
      ],
      "metadata": {
        "id": "b26MX2CcZpLh",
        "colab": {
          "base_uri": "https://localhost:8080/"
        },
        "outputId": "960ea9a1-7d90-4319-8be5-40d9f074dc2a"
      },
      "execution_count": null,
      "outputs": [
        {
          "output_type": "stream",
          "name": "stdout",
          "text": [
            "                Multiple Comparison of Means - Tukey HSD, FWER=0.05                 \n",
            "====================================================================================\n",
            "     group1              group2           meandiff p-adj    lower     upper   reject\n",
            "------------------------------------------------------------------------------------\n",
            "Barra da Tijuca               Copacabana -395.5998  0.001 -549.2101 -241.9896   True\n",
            "Barra da Tijuca                  Ipanema -247.7501 0.0027 -434.3393  -61.1609   True\n",
            "Barra da Tijuca                   Leblon    -50.65    0.9 -281.7246  180.4247  False\n",
            "Barra da Tijuca Recreio dos Bandeirantes -200.9891 0.1335 -435.7708   33.7926  False\n",
            "     Copacabana                  Ipanema  147.8497 0.0601   -3.7424  299.4418  False\n",
            "     Copacabana                   Leblon  344.9499  0.001  141.0868  548.8129   True\n",
            "     Copacabana Recreio dos Bandeirantes  194.6107 0.0798  -13.4447  402.6662  False\n",
            "        Ipanema                   Leblon  197.1002  0.132  -32.6378  426.8382  False\n",
            "        Ipanema Recreio dos Bandeirantes    46.761    0.9 -186.7052  280.2273  False\n",
            "         Leblon Recreio dos Bandeirantes -150.3391 0.5444 -420.6842   120.006  False\n",
            "------------------------------------------------------------------------------------\n"
          ]
        }
      ]
    },
    {
      "cell_type": "markdown",
      "source": [
        "O post-hoc de Tukey compara os grupos dois a dois. Iremos considerar que há diferenças entre os grupos quando p.adj < 0.05 (observe que, nesses casos, a coluna reject diz True)."
      ],
      "metadata": {
        "id": "sbxe7sxDbEOs"
      }
    },
    {
      "cell_type": "markdown",
      "source": [
        "#### Há diferenças estatisticamente significativas no preço dos diferentes tipos de acomodações?\n",
        "\n",
        "Agora cabe a você responder a essa pergunta!"
      ],
      "metadata": {
        "id": "y6KUOxl4a9fn"
      }
    }
  ]
}