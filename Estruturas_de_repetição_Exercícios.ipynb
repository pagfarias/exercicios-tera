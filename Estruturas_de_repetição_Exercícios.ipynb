{
  "cells": [
    {
      "cell_type": "markdown",
      "metadata": {
        "colab_type": "text",
        "id": "view-in-github"
      },
      "source": [
        "<a href=\"https://colab.research.google.com/github/pagfarias/exercicios-tera/blob/main/Estruturas_de_repeti%C3%A7%C3%A3o_Exerc%C3%ADcios.ipynb\" target=\"_parent\"><img src=\"https://colab.research.google.com/assets/colab-badge.svg\" alt=\"Open In Colab\"/></a>"
      ]
    },
    {
      "cell_type": "markdown",
      "metadata": {
        "id": "ejAscLZ0U5DO"
      },
      "source": [
        "# Estruturas de repetição - Exercícios"
      ]
    },
    {
      "cell_type": "markdown",
      "metadata": {
        "id": "vj0gIq6vYBTl"
      },
      "source": [
        "Crie um código que imprima todos os nomes da lista abaixo"
      ]
    },
    {
      "cell_type": "code",
      "execution_count": 2,
      "metadata": {
        "id": "koim5bBNYCFJ"
      },
      "outputs": [],
      "source": [
        "nomes = ['Felipe','Marcela','Heloisa','Bruno','Vitoria','Barbara','Andreza','Bernardo']"
      ]
    },
    {
      "cell_type": "code",
      "execution_count": 3,
      "metadata": {
        "id": "7Ryz17vvYCk0"
      },
      "outputs": [
        {
          "name": "stdout",
          "output_type": "stream",
          "text": [
            "Felipe\n",
            "Marcela\n",
            "Heloisa\n",
            "Bruno\n",
            "Vitoria\n",
            "Barbara\n",
            "Andreza\n",
            "Bernardo\n"
          ]
        }
      ],
      "source": [
        "for nome in nomes:\n",
        "    print(nome)"
      ]
    },
    {
      "cell_type": "code",
      "execution_count": null,
      "metadata": {
        "id": "QqwySGEPYCb_"
      },
      "outputs": [],
      "source": [
        "#@title  { display-mode: \"form\" }\n",
        "for nome in nomes:\n",
        "  print(nome)"
      ]
    },
    {
      "cell_type": "markdown",
      "metadata": {
        "id": "F1-K6TaeUm03"
      },
      "source": [
        "## Da lista de números abaixo, crie uma estrutura de repetição usando `for` encadeada com uma estrutura condicional que imprima:\n",
        "\n",
        "* `É múltiplo de 3` se o número for múltiplo de 3\n",
        "* `É múltiplo de 5` se o número for múltiplo de 5\n",
        "* `É outro número` caso contrario"
      ]
    },
    {
      "cell_type": "code",
      "execution_count": 4,
      "metadata": {
        "id": "xS6QtEHxUd1U"
      },
      "outputs": [],
      "source": [
        "numeros_ex1 = [2,3,5,7,8,10,12,14,15,17]"
      ]
    },
    {
      "cell_type": "code",
      "execution_count": 5,
      "metadata": {
        "id": "LhXUzK_CU30E"
      },
      "outputs": [
        {
          "name": "stdout",
          "output_type": "stream",
          "text": [
            "É outro número\n",
            "3 É múltiplo de 3\n",
            "5 É múltiplo de 5\n",
            "É outro número\n",
            "É outro número\n",
            "10 É múltiplo de 5\n",
            "12 É múltiplo de 3\n",
            "É outro número\n",
            "15 É múltiplo de 3\n",
            "É outro número\n"
          ]
        }
      ],
      "source": [
        "for numero in numeros_ex1:\n",
        "    if numero % 3 == 0:\n",
        "        print(f\"{numero} É múltiplo de 3\")\n",
        "    elif numero % 5 == 0:\n",
        "        print(f\"{numero} É múltiplo de 5\")\n",
        "    else:\n",
        "        print(\"É outro número\")\n"
      ]
    },
    {
      "cell_type": "code",
      "execution_count": null,
      "metadata": {
        "id": "XsrbY7W5U95y"
      },
      "outputs": [],
      "source": [
        "#@title  { display-mode: \"form\" }\n",
        "for i in numeros_ex1:\n",
        "  if i % 3 == 0:\n",
        "    print(\"É múltiplo de 3\")\n",
        "  elif i % 5 == 0:\n",
        "    print(\"É múltiplo de 5\")\n",
        "  else:\n",
        "    print('É outro número')"
      ]
    },
    {
      "cell_type": "markdown",
      "metadata": {
        "id": "KPfAm-wTVxkR"
      },
      "source": [
        "## Da lista de números abaixo, crie uma nova lista que contenha apenas os números múltiplos de 7"
      ]
    },
    {
      "cell_type": "code",
      "execution_count": 6,
      "metadata": {
        "id": "sJie8phwVzit"
      },
      "outputs": [],
      "source": [
        "numeros_ex2 = [4,5,7,8,10,14,17,21,31,45,49,70]"
      ]
    },
    {
      "cell_type": "code",
      "execution_count": 9,
      "metadata": {
        "id": "Ax2i6zJTV3jp"
      },
      "outputs": [
        {
          "name": "stdout",
          "output_type": "stream",
          "text": [
            "[7, 14, 21, 49, 70]\n"
          ]
        }
      ],
      "source": [
        "lista_mult_7 = []\n",
        "\n",
        "for numero in numeros_ex2:\n",
        "    if numero % 7 == 0:\n",
        "        lista_mult_7.append(numero)\n",
        "\n",
        "print(lista_mult_7)"
      ]
    },
    {
      "cell_type": "code",
      "execution_count": null,
      "metadata": {
        "id": "pA49PD4OV4T_"
      },
      "outputs": [],
      "source": [
        "#@title  { display-mode: \"form\" }\n",
        "nova_lista = []\n",
        "\n",
        "for i in numeros_ex2:\n",
        "  if i % 7 == 0:\n",
        "    nova_lista.append(i)\n",
        "\n",
        "nova_lista"
      ]
    },
    {
      "cell_type": "code",
      "execution_count": 10,
      "metadata": {
        "id": "5xm5mmU1Wl2E"
      },
      "outputs": [
        {
          "data": {
            "text/plain": [
              "[7, 14, 21, 49, 70]"
            ]
          },
          "execution_count": 10,
          "metadata": {},
          "output_type": "execute_result"
        }
      ],
      "source": [
        "#@title  { display-mode: \"form\" }\n",
        "\n",
        "#Com list comprehension\n",
        "[i for i in numeros_ex2 if i % 7==0]"
      ]
    },
    {
      "cell_type": "markdown",
      "metadata": {
        "id": "5Jp9Uv2yYIq6"
      },
      "source": [
        "### **for** loop com **f-string**. Pegue a lista de nomes abaixo e com um `for` loop, imprima: \"Olá, **nome**!\". Substituindo o nome por cada elemento da lista"
      ]
    },
    {
      "cell_type": "code",
      "execution_count": 11,
      "metadata": {
        "id": "9MsnpNwyYwmH"
      },
      "outputs": [],
      "source": [
        "#Rode essa célula\n",
        "nomes = ['Sócrates', 'Pitágoras', 'Aristóteles', 'Platão', 'Parmênides']"
      ]
    },
    {
      "cell_type": "code",
      "execution_count": 12,
      "metadata": {
        "id": "5Q1124WBZQhW"
      },
      "outputs": [
        {
          "name": "stdout",
          "output_type": "stream",
          "text": [
            "Olá, Sócrates!\n",
            "Olá, Pitágoras!\n",
            "Olá, Aristóteles!\n",
            "Olá, Platão!\n",
            "Olá, Parmênides!\n"
          ]
        }
      ],
      "source": [
        "for nome in nomes:\n",
        "    print(f\"Olá, {nome}!\")"
      ]
    },
    {
      "cell_type": "code",
      "execution_count": null,
      "metadata": {
        "id": "Csa0oXlHZRXR"
      },
      "outputs": [],
      "source": [
        "#@title  { display-mode: \"form\" }\n",
        "\n",
        "for nome in nomes:\n",
        "  print(f\"Olá, {nome}!\")"
      ]
    },
    {
      "cell_type": "code",
      "execution_count": null,
      "metadata": {
        "id": "KcTFqeWcZaoE"
      },
      "outputs": [],
      "source": []
    },
    {
      "cell_type": "markdown",
      "metadata": {
        "id": "YhVU7x_BZxMU"
      },
      "source": [
        "### (Desafio) Dado a lista `numeros` abaixo. Faça um `for` loop que conte quantos são os números pares e quantos são os números ímpares"
      ]
    },
    {
      "cell_type": "code",
      "execution_count": 18,
      "metadata": {
        "id": "Nw2WO3-jaVFS"
      },
      "outputs": [],
      "source": [
        "numeros = [1, 2, 3, 4, 5, 6, 7, 8, 9]\n",
        "numeros_impares = 0\n",
        "numeros_pares = 0"
      ]
    },
    {
      "cell_type": "code",
      "execution_count": 17,
      "metadata": {
        "id": "w4GpE3omaYZR"
      },
      "outputs": [
        {
          "name": "stdout",
          "output_type": "stream",
          "text": [
            "Existem 5 números pares.\n",
            "Existem 5 números ímpares.\n"
          ]
        }
      ],
      "source": [
        "for numero in numeros:\n",
        "    if numero % 2 == 0:\n",
        "        numeros_pares = numeros_pares + 1\n",
        "    else:\n",
        "        numeros_impares = numeros_impares + 1\n",
        "print(f\"Existem {numeros_pares} números pares.\")\n",
        "print(f\"Existem {numeros_impares} números ímpares.\")"
      ]
    },
    {
      "cell_type": "code",
      "execution_count": null,
      "metadata": {
        "id": "e-ND4OrqZxna"
      },
      "outputs": [],
      "source": [
        "#@title  { display-mode: \"form\" }\n",
        "for x in numeros:\n",
        "  if x % 2 == 0:\n",
        "    numeros_pares = numeros_pares + 1\n",
        "  else:\n",
        "    numeros_impares = numeros_impares + 1\n",
        "print(f\"Quantidade de numeros pares: {numeros_pares}\")\n",
        "print(f\"Quantidade de numeros impares: {numeros_impares}\")\n"
      ]
    },
    {
      "cell_type": "code",
      "execution_count": null,
      "metadata": {
        "id": "NO-tIo9LZ3lG"
      },
      "outputs": [],
      "source": []
    }
  ],
  "metadata": {
    "colab": {
      "include_colab_link": true,
      "provenance": []
    },
    "kernelspec": {
      "display_name": "Python 3",
      "language": "python",
      "name": "python3"
    },
    "language_info": {
      "codemirror_mode": {
        "name": "ipython",
        "version": 3
      },
      "file_extension": ".py",
      "mimetype": "text/x-python",
      "name": "python",
      "nbconvert_exporter": "python",
      "pygments_lexer": "ipython3",
      "version": "3.11.1"
    },
    "vscode": {
      "interpreter": {
        "hash": "f22b72fa366aa14d6aa369ffe441ad4c2c14e4ba4e697db3750692880921a3ac"
      }
    }
  },
  "nbformat": 4,
  "nbformat_minor": 0
}
