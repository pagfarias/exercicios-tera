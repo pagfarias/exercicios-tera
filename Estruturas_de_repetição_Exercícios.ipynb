{
  "nbformat": 4,
  "nbformat_minor": 0,
  "metadata": {
    "colab": {
      "provenance": [],
      "include_colab_link": true
    },
    "kernelspec": {
      "name": "python3",
      "display_name": "Python 3"
    },
    "language_info": {
      "name": "python"
    }
  },
  "cells": [
    {
      "cell_type": "markdown",
      "metadata": {
        "id": "view-in-github",
        "colab_type": "text"
      },
      "source": [
        "<a href=\"https://colab.research.google.com/github/pagfarias/exercicios-tera/blob/main/Estruturas_de_repeti%C3%A7%C3%A3o_Exerc%C3%ADcios.ipynb\" target=\"_parent\"><img src=\"https://colab.research.google.com/assets/colab-badge.svg\" alt=\"Open In Colab\"/></a>"
      ]
    },
    {
      "cell_type": "markdown",
      "metadata": {
        "id": "ejAscLZ0U5DO"
      },
      "source": [
        "# Estruturas de repetição - Exercícios"
      ]
    },
    {
      "cell_type": "markdown",
      "metadata": {
        "id": "vj0gIq6vYBTl"
      },
      "source": [
        "Crie um código que imprima todos os nomes da lista abaixo"
      ]
    },
    {
      "cell_type": "code",
      "metadata": {
        "id": "koim5bBNYCFJ"
      },
      "source": [
        "nomes = ['Felipe','Marcela','Heloisa','Bruno','Vitoria','Barbara','Andreza','Bernardo']"
      ],
      "execution_count": null,
      "outputs": []
    },
    {
      "cell_type": "code",
      "metadata": {
        "id": "7Ryz17vvYCk0"
      },
      "source": [],
      "execution_count": null,
      "outputs": []
    },
    {
      "cell_type": "code",
      "metadata": {
        "id": "QqwySGEPYCb_"
      },
      "source": [
        "#@title  { display-mode: \"form\" }\n",
        "for nome in nomes:\n",
        "  print(nome)"
      ],
      "execution_count": null,
      "outputs": []
    },
    {
      "cell_type": "markdown",
      "metadata": {
        "id": "F1-K6TaeUm03"
      },
      "source": [
        "## Da lista de números abaixo, crie uma estrutura de repetição usando `for` encadeada com uma estrutura condicional que imprima:\n",
        "\n",
        "* `É múltiplo de 3` se o número for múltiplo de 3\n",
        "* `É múltiplo de 5` se o número for múltiplo de 5\n",
        "* `É outro número` caso contrario"
      ]
    },
    {
      "cell_type": "code",
      "metadata": {
        "id": "xS6QtEHxUd1U"
      },
      "source": [
        "numeros_ex1 = [2,3,5,7,8,10,12,14,15,17]"
      ],
      "execution_count": null,
      "outputs": []
    },
    {
      "cell_type": "code",
      "metadata": {
        "id": "LhXUzK_CU30E"
      },
      "source": [],
      "execution_count": null,
      "outputs": []
    },
    {
      "cell_type": "code",
      "metadata": {
        "id": "XsrbY7W5U95y"
      },
      "source": [
        "#@title  { display-mode: \"form\" }\n",
        "for i in numeros_ex1:\n",
        "  if i % 3 == 0:\n",
        "    print(\"É múltiplo de 3\")\n",
        "  elif i % 5 == 0:\n",
        "    print(\"É múltiplo de 5\")\n",
        "  else:\n",
        "    print('É outro número')"
      ],
      "execution_count": null,
      "outputs": []
    },
    {
      "cell_type": "markdown",
      "metadata": {
        "id": "KPfAm-wTVxkR"
      },
      "source": [
        "## Da lista de números abaixo, crie uma nova lista que contenha apenas os números múltiplos de 7"
      ]
    },
    {
      "cell_type": "code",
      "metadata": {
        "id": "sJie8phwVzit"
      },
      "source": [
        "numeros_ex2 = [4,5,7,8,10,14,17,21,31,45,49,70]"
      ],
      "execution_count": null,
      "outputs": []
    },
    {
      "cell_type": "code",
      "metadata": {
        "id": "Ax2i6zJTV3jp"
      },
      "source": [],
      "execution_count": null,
      "outputs": []
    },
    {
      "cell_type": "code",
      "metadata": {
        "id": "pA49PD4OV4T_"
      },
      "source": [
        "#@title  { display-mode: \"form\" }\n",
        "nova_lista = []\n",
        "\n",
        "for i in numeros_ex2:\n",
        "  if i % 7 == 0:\n",
        "    nova_lista.append(i)\n",
        "\n",
        "nova_lista"
      ],
      "execution_count": null,
      "outputs": []
    },
    {
      "cell_type": "code",
      "metadata": {
        "id": "5xm5mmU1Wl2E"
      },
      "source": [
        "#@title  { display-mode: \"form\" }\n",
        "\n",
        "#Com list comprehension\n",
        "[i for i in numeros_ex2 if i % 7==0]"
      ],
      "execution_count": null,
      "outputs": []
    },
    {
      "cell_type": "markdown",
      "metadata": {
        "id": "5Jp9Uv2yYIq6"
      },
      "source": [
        "### **for** loop com **f-string**. Pegue a lista de nomes abaixo e com um `for` loop, imprima: \"Olá, **nome**!\". Substituindo o nome por cada elemento da lista"
      ]
    },
    {
      "cell_type": "code",
      "metadata": {
        "id": "9MsnpNwyYwmH"
      },
      "source": [
        "#Rode essa célula\n",
        "nomes = ['Sócrates', 'Pitágoras', 'Aristóteles', 'Platão', 'Parmênides']"
      ],
      "execution_count": null,
      "outputs": []
    },
    {
      "cell_type": "code",
      "metadata": {
        "id": "5Q1124WBZQhW"
      },
      "source": [],
      "execution_count": null,
      "outputs": []
    },
    {
      "cell_type": "code",
      "metadata": {
        "id": "Csa0oXlHZRXR"
      },
      "source": [
        "#@title  { display-mode: \"form\" }\n",
        "\n",
        "for nome in nomes:\n",
        "  print(f\"Olá, {nome}!\")"
      ],
      "execution_count": null,
      "outputs": []
    },
    {
      "cell_type": "code",
      "metadata": {
        "id": "KcTFqeWcZaoE"
      },
      "source": [],
      "execution_count": null,
      "outputs": []
    },
    {
      "cell_type": "markdown",
      "metadata": {
        "id": "YhVU7x_BZxMU"
      },
      "source": [
        "### (Desafio) Dado a lista `numeros` abaixo. Faça um `for` loop que conte quantos são os números pares e quantos são os números ímpares"
      ]
    },
    {
      "cell_type": "code",
      "metadata": {
        "id": "Nw2WO3-jaVFS"
      },
      "source": [
        "numeros = [1, 2, 3, 4, 5, 6, 7, 8, 9]\n",
        "numeros_impares = 0\n",
        "numeros_pares = 0"
      ],
      "execution_count": null,
      "outputs": []
    },
    {
      "cell_type": "code",
      "metadata": {
        "id": "w4GpE3omaYZR"
      },
      "source": [],
      "execution_count": null,
      "outputs": []
    },
    {
      "cell_type": "code",
      "metadata": {
        "id": "e-ND4OrqZxna"
      },
      "source": [
        "#@title  { display-mode: \"form\" }\n",
        "for x in numeros:\n",
        "  if x % 2 == 0:\n",
        "    numeros_pares = numeros_pares + 1\n",
        "  else:\n",
        "    numeros_impares = numeros_impares + 1\n",
        "print(f\"Quantidade de numeros pares: {numeros_pares}\")\n",
        "print(f\"Quantidade de numeros impares: {numeros_impares}\")\n"
      ],
      "execution_count": null,
      "outputs": []
    },
    {
      "cell_type": "code",
      "metadata": {
        "id": "NO-tIo9LZ3lG"
      },
      "source": [],
      "execution_count": null,
      "outputs": []
    }
  ]
}