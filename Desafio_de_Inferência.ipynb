{
  "nbformat": 4,
  "nbformat_minor": 0,
  "metadata": {
    "colab": {
      "provenance": [],
      "authorship_tag": "ABX9TyPoe3AKC1YqKt9xJZEmUEBh",
      "include_colab_link": true
    },
    "kernelspec": {
      "name": "python3",
      "display_name": "Python 3"
    },
    "language_info": {
      "name": "python"
    }
  },
  "cells": [
    {
      "cell_type": "markdown",
      "metadata": {
        "id": "view-in-github",
        "colab_type": "text"
      },
      "source": [
        "<a href=\"https://colab.research.google.com/github/pagfarias/exercicios-tera/blob/main/Desafio_de_Infer%C3%AAncia.ipynb\" target=\"_parent\"><img src=\"https://colab.research.google.com/assets/colab-badge.svg\" alt=\"Open In Colab\"/></a>"
      ]
    },
    {
      "cell_type": "markdown",
      "source": [
        "# Desafio de Inferência\n",
        "\n",
        "\n",
        "> **Transtorno depressivo:**\n",
        "Problema de saúde pública (prevalência de ≈ 10%)\n",
        "Multifatorial (fatores sociais, psicológicos, biológicos)\n",
        "\n",
        "\n",
        "> **Estilo de vida saudável (OMS):**\n",
        "Prática regular de atividade física\n",
        "Alimentação saudável\n",
        "\n",
        "---\n",
        "\n",
        "#Os Dados\n",
        "\n",
        "> Resultados da pesquisa NHNES (National Health and Nutrition Examination Survey), realizada anualmente nos EUA para avaliar a **saúde e nutrição** de adultos e crianças. Inclui dados demográficos, socioeconômicos, dietéticos e \n",
        "relacionados à saúde\n",
        "Período de 2005-2006\n",
        "\n",
        "> **DEMO_PHQ.csv** = Dados **demográficos** e resultados do Patient Health Questionnaire-9 (PHQ-9), usado para avaliar o grau de **sintomas depressivos**.\n",
        "Inclui apenas adultos.\n",
        "\n",
        "> **PAG_HEI.csv** = Dados referentes à **atividade física** e ao Healthy Eating Index (HEI), um questionário que avalia a **qualidade da dieta**. Inclui adultos e crianças.\n",
        "\n",
        "---\n",
        "#Perguntas a serem respondidas\n",
        "\n",
        "1. Qual o **perfil** de indivíduos (adultos maiores de 18 anos) com sintomas depressivos nos EUA no período de 2005-2006?\n",
        "2. Hábitos saudáveis de alimentação e atividade física estão **associados** a menores índices de depressão nesta população?\n"
      ],
      "metadata": {
        "id": "53bfE86-3XU_"
      }
    },
    {
      "cell_type": "markdown",
      "source": [
        "# Import de Bibliotecas e Bases"
      ],
      "metadata": {
        "id": "ClpC0jd9G3-z"
      }
    },
    {
      "cell_type": "code",
      "source": [
        "#import de bibliotecas\n",
        "import pandas as pd\n",
        "import numpy as np\n",
        "import matplotlib.pyplot as plt\n",
        "import seaborn as sns"
      ],
      "metadata": {
        "id": "2MBt1UlY5fEA"
      },
      "execution_count": 110,
      "outputs": []
    },
    {
      "cell_type": "code",
      "source": [
        "#import bases\n",
        "df_demo_phq = pd.read_csv('DEMO_PHQ.csv')\n",
        "df_pag_hei = pd.read_csv('PAG_HEI.csv')"
      ],
      "metadata": {
        "id": "NSmKjcbD-VuF"
      },
      "execution_count": 17,
      "outputs": []
    },
    {
      "cell_type": "markdown",
      "source": [
        "# Tratamento dos Dados"
      ],
      "metadata": {
        "id": "9UsZfdKME3dE"
      }
    },
    {
      "cell_type": "code",
      "source": [
        "#concatenando as duas bases usando como chave a variável SEQN\n",
        "#df = pd.merge(df_demo_phq, df_pag_hei, on=\"SEQN\")\n",
        "df = df_demo_phq.merge(df_pag_hei, on = 'SEQN', how = 'left')"
      ],
      "metadata": {
        "id": "SrCMnT0XAwGg"
      },
      "execution_count": 103,
      "outputs": []
    },
    {
      "cell_type": "code",
      "source": [
        "#df_demo_phq\n",
        "#df_pag_hei\n",
        "df.info()\n",
        "#df"
      ],
      "metadata": {
        "colab": {
          "base_uri": "https://localhost:8080/"
        },
        "id": "sULUX0HMBj1I",
        "outputId": "a28c7292-b456-429f-e570-11122d6da562"
      },
      "execution_count": 104,
      "outputs": [
        {
          "output_type": "stream",
          "name": "stdout",
          "text": [
            "<class 'pandas.core.frame.DataFrame'>\n",
            "Int64Index: 5334 entries, 0 to 5333\n",
            "Data columns (total 31 columns):\n",
            " #   Column                    Non-Null Count  Dtype  \n",
            "---  ------                    --------------  -----  \n",
            " 0   SEQN                      5334 non-null   int64  \n",
            " 1   DPQ010                    4836 non-null   float64\n",
            " 2   DPQ020                    4836 non-null   float64\n",
            " 3   DPQ030                    4836 non-null   float64\n",
            " 4   DPQ040                    4836 non-null   float64\n",
            " 5   DPQ050                    4836 non-null   float64\n",
            " 6   DPQ060                    4836 non-null   float64\n",
            " 7   DPQ070                    4836 non-null   float64\n",
            " 8   DPQ080                    4836 non-null   float64\n",
            " 9   DPQ090                    4836 non-null   float64\n",
            " 10  RIAGENDR                  5334 non-null   int64  \n",
            " 11  RIDAGEYR                  5334 non-null   int64  \n",
            " 12  RIDRETH1                  5334 non-null   int64  \n",
            " 13  DMDEDUC                   5334 non-null   int64  \n",
            " 14  INDFMINC                  5287 non-null   float64\n",
            " 15  PAG_MINW                  5334 non-null   float64\n",
            " 16  ADHERENCE                 5334 non-null   float64\n",
            " 17  HEI2015C1_TOTALVEG        5060 non-null   float64\n",
            " 18  HEI2015C2_GREEN_AND_BEAN  5060 non-null   float64\n",
            " 19  HEI2015C3_TOTALFRUIT      5060 non-null   float64\n",
            " 20  HEI2015C4_WHOLEFRUIT      5060 non-null   float64\n",
            " 21  HEI2015C5_WHOLEGRAIN      5060 non-null   float64\n",
            " 22  HEI2015C6_TOTALDAIRY      5060 non-null   float64\n",
            " 23  HEI2015C7_TOTPROT         5060 non-null   float64\n",
            " 24  HEI2015C8_SEAPLANT_PROT   5060 non-null   float64\n",
            " 25  HEI2015C9_FATTYACID       5060 non-null   float64\n",
            " 26  HEI2015C10_SODIUM         5060 non-null   float64\n",
            " 27  HEI2015C11_REFINEDGRAIN   5060 non-null   float64\n",
            " 28  HEI2015C12_SFAT           5060 non-null   float64\n",
            " 29  HEI2015C13_ADDSUG         5060 non-null   float64\n",
            " 30  HEI2015_TOTAL_SCORE       5060 non-null   float64\n",
            "dtypes: float64(26), int64(5)\n",
            "memory usage: 1.3 MB\n"
          ]
        }
      ]
    },
    {
      "cell_type": "code",
      "source": [
        "df.describe()"
      ],
      "metadata": {
        "id": "NjEsdt5oLTVJ"
      },
      "execution_count": null,
      "outputs": []
    },
    {
      "cell_type": "code",
      "source": [
        "# Tratar as respostas 7 e 9 como valores ausentes ou nulos\n",
        "# 7 = Se recusou a responder\n",
        "# 9 = Não sabe\n",
        "\n",
        "df['DPQ010'] = df['DPQ010'].replace([7,9],np.nan)\n",
        "df['DPQ020'] = df['DPQ020'].replace([7,9],np.nan)\n",
        "df['DPQ030'] = df['DPQ030'].replace([7,9],np.nan)\n",
        "df['DPQ040'] = df['DPQ040'].replace([7,9],np.nan)\n",
        "df['DPQ050'] = df['DPQ050'].replace([7,9],np.nan)\n",
        "df['DPQ060'] = df['DPQ060'].replace([7,9],np.nan)\n",
        "df['DPQ070'] = df['DPQ070'].replace([7,9],np.nan)\n",
        "df['DPQ080'] = df['DPQ080'].replace([7,9],np.nan)\n",
        "df['DPQ090'] = df['DPQ090'].replace([7,9],np.nan)"
      ],
      "metadata": {
        "id": "iphDSY_jwFpk"
      },
      "execution_count": 119,
      "outputs": []
    },
    {
      "cell_type": "code",
      "source": [
        "#Criando a variável phq9\n",
        "df['PHQ9'] = df['DPQ010'] + df['DPQ020'] + df['DPQ030'] + df['DPQ040'] + df['DPQ050'] + df['DPQ060'] + df['DPQ070'] + df['DPQ080'] + df['DPQ090'] "
      ],
      "metadata": {
        "id": "qqFvpZDxMyvj"
      },
      "execution_count": 120,
      "outputs": []
    },
    {
      "cell_type": "code",
      "source": [
        "df['PHQ9'].describe()"
      ],
      "metadata": {
        "colab": {
          "base_uri": "https://localhost:8080/"
        },
        "id": "vL6BPfNum0aC",
        "outputId": "b5ca163f-840f-4759-a399-72d02fa57a19"
      },
      "execution_count": 121,
      "outputs": [
        {
          "output_type": "execute_result",
          "data": {
            "text/plain": [
              "count    4799.000000\n",
              "mean        2.732236\n",
              "std         3.727676\n",
              "min         0.000000\n",
              "25%         0.000000\n",
              "50%         1.000000\n",
              "75%         4.000000\n",
              "max        27.000000\n",
              "Name: PHQ9, dtype: float64"
            ]
          },
          "metadata": {},
          "execution_count": 121
        }
      ]
    },
    {
      "cell_type": "code",
      "source": [
        "df['PHQ9'].unique()"
      ],
      "metadata": {
        "colab": {
          "base_uri": "https://localhost:8080/"
        },
        "id": "Cupqn0GdR1si",
        "outputId": "fe73e36c-5a9f-462f-a1be-e76d549a49ea"
      },
      "execution_count": 122,
      "outputs": [
        {
          "output_type": "execute_result",
          "data": {
            "text/plain": [
              "array([nan,  0.,  4.,  6.,  1.,  3.,  2.,  8., 12.,  5.,  7., 14., 10.,\n",
              "       13., 18.,  9., 16., 15., 11., 17., 19., 20., 21., 23., 22., 24.,\n",
              "       27., 25., 26.])"
            ]
          },
          "metadata": {},
          "execution_count": 122
        }
      ]
    },
    {
      "cell_type": "code",
      "source": [
        "#Crianado a varial de agrupamento de PHQ\n",
        "#Crie a variável phq_grp com a classificação do escore phq9, assumindo os valores:\n",
        "#● 0 (“sem sintomas”) se phq9 < 5\n",
        "#● 1 (“sintomas leves”) se 5 <= phq9 < 10\n",
        "#● 2 (“sintomas moderados”) se 10 <= phq9 < 15\n",
        "#● 3 (“sintomas moderadamente severos”) se 15 <= phq9 < 19\n",
        "#● 4 (“sintomas severos”) se phq9 >= 20\n",
        "\n",
        "criterio = [\n",
        "    (df['PHQ9'].isna()),\n",
        "    (df['PHQ9'] <= 5),\n",
        "    (df['PHQ9'] > 5) & (df['PHQ9'] <= 9),\n",
        "    (df['PHQ9'] > 9) & (df['PHQ9'] <= 14),\n",
        "    (df['PHQ9'] > 14) & (df['PHQ9'] <= 19),\n",
        "    (df['PHQ9'] > 19)    \n",
        "]\n",
        "\n",
        "grupo = [np.nan,0,1,2,3,4]\n",
        "\n",
        "df['PHQ_GRP'] = np.select(criterio,grupo)"
      ],
      "metadata": {
        "id": "QVWsGTQSp3jf"
      },
      "execution_count": 123,
      "outputs": []
    },
    {
      "cell_type": "code",
      "source": [
        "df\n",
        "df[['PHQ_GRP']].value_counts(sort = False)"
      ],
      "metadata": {
        "colab": {
          "base_uri": "https://localhost:8080/"
        },
        "id": "GYPSb5y4q6UV",
        "outputId": "1289294c-9b96-4088-ff70-4c6a44cc1f19"
      },
      "execution_count": 124,
      "outputs": [
        {
          "output_type": "execute_result",
          "data": {
            "text/plain": [
              "PHQ_GRP\n",
              "0.0        4013\n",
              "1.0         489\n",
              "2.0         201\n",
              "3.0          73\n",
              "4.0          23\n",
              "dtype: int64"
            ]
          },
          "metadata": {},
          "execution_count": 124
        }
      ]
    },
    {
      "cell_type": "code",
      "source": [
        "#Como as categorias 2,3 e 4 há poucas pessoas, vamos agrupá-las\n",
        "\n",
        "df['PHQ_GRP'] = df['PHQ_GRP'].replace([3,4],2)\n",
        "df[['PHQ_GRP']].value_counts(sort = False)"
      ],
      "metadata": {
        "colab": {
          "base_uri": "https://localhost:8080/"
        },
        "id": "dp-k5vaGsqaQ",
        "outputId": "076ee2b4-4575-49aa-a1f1-39ab72677470"
      },
      "execution_count": 125,
      "outputs": [
        {
          "output_type": "execute_result",
          "data": {
            "text/plain": [
              "PHQ_GRP\n",
              "0.0        4013\n",
              "1.0         489\n",
              "2.0         297\n",
              "dtype: int64"
            ]
          },
          "metadata": {},
          "execution_count": 125
        }
      ]
    }
  ]
}